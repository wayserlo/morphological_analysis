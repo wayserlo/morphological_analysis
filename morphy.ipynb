{
  "cells": [
    {
      "cell_type": "markdown",
      "metadata": {
        "id": "e5bBKaaDfVV1"
      },
      "source": [
        "#Морфологический анализ текста на русском языке\n",
        "##pymorphy2\n",
        "Pymorphy2 — морфологический процессор с открытым исходным\n",
        "кодом, предоставляет все функции полного морфологического анализа и\n",
        "синтеза словоформ. Процессор базируется на словарной морфологии и использует словарные данные проекта **OpenCorpora**\n"
      ]
    },
    {
      "cell_type": "markdown",
      "metadata": {
        "id": "2TH8He3tqOcG"
      },
      "source": [
        "Установка"
      ]
    },
    {
      "cell_type": "code",
      "execution_count": 2,
      "metadata": {
        "colab": {
          "base_uri": "https://localhost:8080/"
        },
        "id": "rBgcw7oKfg7-",
        "outputId": "beee4812-d910-40d0-9fe9-e94cf5034b1e"
      },
      "outputs": [
        {
          "output_type": "stream",
          "name": "stdout",
          "text": [
            "Looking in indexes: https://pypi.org/simple, https://us-python.pkg.dev/colab-wheels/public/simple/\n",
            "Collecting pymorphy2\n",
            "  Downloading pymorphy2-0.9.1-py3-none-any.whl (55 kB)\n",
            "\u001b[2K     \u001b[90m━━━━━━━━━━━━━━━━━━━━━━━━━━━━━━━━━━━━━━━━\u001b[0m \u001b[32m55.5/55.5 kB\u001b[0m \u001b[31m2.7 MB/s\u001b[0m eta \u001b[36m0:00:00\u001b[0m\n",
            "\u001b[?25hCollecting dawg-python>=0.7.1 (from pymorphy2)\n",
            "  Downloading DAWG_Python-0.7.2-py2.py3-none-any.whl (11 kB)\n",
            "Collecting pymorphy2-dicts-ru<3.0,>=2.4 (from pymorphy2)\n",
            "  Downloading pymorphy2_dicts_ru-2.4.417127.4579844-py2.py3-none-any.whl (8.2 MB)\n",
            "\u001b[2K     \u001b[90m━━━━━━━━━━━━━━━━━━━━━━━━━━━━━━━━━━━━━━━━\u001b[0m \u001b[32m8.2/8.2 MB\u001b[0m \u001b[31m77.3 MB/s\u001b[0m eta \u001b[36m0:00:00\u001b[0m\n",
            "\u001b[?25hCollecting docopt>=0.6 (from pymorphy2)\n",
            "  Downloading docopt-0.6.2.tar.gz (25 kB)\n",
            "  Preparing metadata (setup.py) ... \u001b[?25l\u001b[?25hdone\n",
            "Building wheels for collected packages: docopt\n",
            "  Building wheel for docopt (setup.py) ... \u001b[?25l\u001b[?25hdone\n",
            "  Created wheel for docopt: filename=docopt-0.6.2-py2.py3-none-any.whl size=13707 sha256=8fe0fe70ed050e82de4f3ea0e70c669ad703af559fb57fa7f9e73af19e23a19d\n",
            "  Stored in directory: /root/.cache/pip/wheels/fc/ab/d4/5da2067ac95b36618c629a5f93f809425700506f72c9732fac\n",
            "Successfully built docopt\n",
            "Installing collected packages: pymorphy2-dicts-ru, docopt, dawg-python, pymorphy2\n",
            "Successfully installed dawg-python-0.7.2 docopt-0.6.2 pymorphy2-0.9.1 pymorphy2-dicts-ru-2.4.417127.4579844\n"
          ]
        }
      ],
      "source": [
        "!pip install pymorphy2"
      ]
    },
    {
      "cell_type": "markdown",
      "metadata": {
        "id": "WmzdJ0MSgNoM"
      },
      "source": [
        "Словари распространяются отдельными пакетами и требуют периодически обновлений"
      ]
    },
    {
      "cell_type": "code",
      "execution_count": 3,
      "metadata": {
        "colab": {
          "base_uri": "https://localhost:8080/"
        },
        "id": "07fjV4ykfhEK",
        "outputId": "19f9af02-cdc9-4752-dff6-24f916c24f6a"
      },
      "outputs": [
        {
          "output_type": "stream",
          "name": "stdout",
          "text": [
            "Looking in indexes: https://pypi.org/simple, https://us-python.pkg.dev/colab-wheels/public/simple/\n",
            "Requirement already satisfied: pymorphy2-dicts-ru in /usr/local/lib/python3.10/dist-packages (2.4.417127.4579844)\n"
          ]
        }
      ],
      "source": [
        "!pip install -U pymorphy2-dicts-ru"
      ]
    },
    {
      "cell_type": "code",
      "execution_count": 4,
      "metadata": {
        "id": "fc3yXPqmgxDo"
      },
      "outputs": [],
      "source": [
        "import pymorphy2"
      ]
    },
    {
      "cell_type": "markdown",
      "metadata": {
        "id": "9XlT-XGkg6XZ"
      },
      "source": [
        "В pymorphy2 для морфологического анализа слов есть класс ``` MorphAnalyzer ``` (по умолчанию стоит русский язык)"
      ]
    },
    {
      "cell_type": "code",
      "execution_count": 5,
      "metadata": {
        "id": "mZi5Y_iig1Lc"
      },
      "outputs": [],
      "source": [
        "morph = pymorphy2.MorphAnalyzer()"
      ]
    },
    {
      "cell_type": "markdown",
      "metadata": {
        "id": "Uixm88CjlbL7"
      },
      "source": [
        "С помощью метода `MorphAnalyzer.parse()` можно разобрать отдельное слово. Метод возвращает один или несколько объектов типа `Parse` с информацией о том, как слово может быть разобрано. Ниже проведен разбор слова 'стали'."
      ]
    },
    {
      "cell_type": "code",
      "execution_count": 6,
      "metadata": {
        "id": "mmhEKp9nlaWY",
        "colab": {
          "base_uri": "https://localhost:8080/"
        },
        "outputId": "ffbe11d7-cde1-4a30-a97b-1aec2d6f1f60"
      },
      "outputs": [
        {
          "output_type": "execute_result",
          "data": {
            "text/plain": [
              "[Parse(word='стали', tag=OpencorporaTag('VERB,perf,intr plur,past,indc'), normal_form='стать', score=0.975342, methods_stack=((DictionaryAnalyzer(), 'стали', 945, 4),)),\n",
              " Parse(word='стали', tag=OpencorporaTag('NOUN,inan,femn sing,gent'), normal_form='сталь', score=0.010958, methods_stack=((DictionaryAnalyzer(), 'стали', 13, 1),)),\n",
              " Parse(word='стали', tag=OpencorporaTag('NOUN,inan,femn plur,nomn'), normal_form='сталь', score=0.005479, methods_stack=((DictionaryAnalyzer(), 'стали', 13, 6),)),\n",
              " Parse(word='стали', tag=OpencorporaTag('NOUN,inan,femn sing,datv'), normal_form='сталь', score=0.002739, methods_stack=((DictionaryAnalyzer(), 'стали', 13, 2),)),\n",
              " Parse(word='стали', tag=OpencorporaTag('NOUN,inan,femn sing,loct'), normal_form='сталь', score=0.002739, methods_stack=((DictionaryAnalyzer(), 'стали', 13, 5),)),\n",
              " Parse(word='стали', tag=OpencorporaTag('NOUN,inan,femn plur,accs'), normal_form='сталь', score=0.002739, methods_stack=((DictionaryAnalyzer(), 'стали', 13, 9),))]"
            ]
          },
          "metadata": {},
          "execution_count": 6
        }
      ],
      "source": [
        "morph.parse('стали')"
      ]
    },
    {
      "cell_type": "markdown",
      "metadata": {
        "id": "Dlh-tWQdq5Ii"
      },
      "source": [
        "Структура ответа состоит из поля:\n",
        "- word – исходное слово;\n",
        "- tag – грамматические характеристики; \n",
        "  *   например **OpencorporaTag('VERB,perf,intr plur,past,indc')** дает следующую информацию: слово - глагол (VERB) совершенного вида (perf), непереходный (intr), множественного числа (plur), прошедшего времени (past), изъявительного наклонения (indc). [Обозначения для граммем.](https://pymorphy2.readthedocs.io/en/stable/user/grammemes.html#grammeme-docs)\n",
        "- normal_form – начальная форма слова; \n",
        "- score – это оценка $P(tag|word)$ вероятности того, что данный разбор правильный.\n"
      ]
    },
    {
      "cell_type": "markdown",
      "metadata": {
        "id": "v0Xd6pXYxT3a"
      },
      "source": [
        "###Выбор правильного разбора\n",
        "pymorphy2 возвращает все допустимые варианты разбора, но на практике обычно нужен только один вариант, правильный. Для этого у разбора есть параметр score. Условная вероятность $P(tag|word)$ оценивается на основе корпуса **OpenCorpora**: ищутся все неоднозначные слова со снятой неоднозначностью, для каждого слова считается, сколько раз ему был сопоставлен данный тег, и на основе этих частот вычисляется условная вероятность тега (с использованием сглаживания Лапласа): \n",
        "$$P(tag|word) = \\dfrac{Fr(tag, word) + 1}{Fr(word) + R(word)} $$\n",
        "где $Fr(tag, word)$ - количество раз, когда данная словоформа $word$ встретилась с тегом (т.е. с данными грамматическими характеристиками) $tag$ в корпусе **OpenCorpora**, $Fr(word)$ - количество раз, когда встретилась данная словоформа (уже без учета тега), $R(word)$ - число выведенных разборов анализатора для нашего слова $word$.\n",
        "\n",
        "Разборы сортируются по убыванию score, поэтому первый разбор `morph.parse('стали')[0]` наиболее вероятный. \n",
        "\n",
        "Оценки $P(tag|word)$ помогают улучшить разбор, но их недостаточно для надежного снятия неоднозначности, как минимум по следующим причинам:\n",
        "*   то, как нужно разбирать слово, зависит от соседних слов, а **pymorphy2** работает только на уровне отдельных слов;\n",
        "*   условная вероятность $P(tag|word)$ оценена на основе сбалансированного набора текстов; в специализированных текстах вероятности могут быть другими - например, возможно, что в металлургических текстах $P(NOUN|стали) \\gt P(VERB|стали)$;\n",
        "*   в OpenCorpora у большинства слов неоднозначность пока не снята; "
      ]
    },
    {
      "cell_type": "markdown",
      "metadata": {
        "id": "SNULEu7Z7nBJ"
      },
      "source": [
        " ### Разбор несловарных слов\n"
      ]
    },
    {
      "cell_type": "markdown",
      "source": [
        "Дописать"
      ],
      "metadata": {
        "id": "Lclu04GNfz_l"
      }
    },
    {
      "cell_type": "code",
      "execution_count": 7,
      "metadata": {
        "id": "VhO0ivOyrpDU",
        "colab": {
          "base_uri": "https://localhost:8080/"
        },
        "outputId": "4848c77f-6d95-4dcb-97b4-1f1709264a3d"
      },
      "outputs": [
        {
          "output_type": "execute_result",
          "data": {
            "text/plain": [
              "[Parse(word='т.д.', tag=OpencorporaTag('UNKN'), normal_form='т.д.', score=1.0, methods_stack=((UnknAnalyzer(), 'т.д.'),))]"
            ]
          },
          "metadata": {},
          "execution_count": 7
        }
      ],
      "source": [
        "morph.parse('т.д.')"
      ]
    },
    {
      "cell_type": "code",
      "source": [
        "# inputFile = open('input.txt', 'r', 'cp1251')\n",
        "# words = inputFile.readline()\n",
        "# print(words)"
      ],
      "metadata": {
        "id": "EbOGe4E6t4SQ"
      },
      "execution_count": 8,
      "outputs": []
    },
    {
      "cell_type": "markdown",
      "metadata": {
        "id": "r4EydXi596Vm"
      },
      "source": [
        "### Предобработка текста\n",
        "Для наилучшей оценки качества лемматизации с помощью pymorphy2 следует выполнить некоторую предобработку текста. В частности, необходимо:\n",
        "\n",
        "* Очистить текст от знаков препинания, чисел и других символов, которые не являются словами.\n",
        "* Привести все символы к нижнему регистру, чтобы избежать различий в написании одних и тех же слов в разных формах (например, \"Стул\" и \"стул\").\n",
        "* Разбить текст на отдельные слова (токенизация), чтобы передать их pymorphy2 на лемматизацию.\n",
        "\n",
        "Также стоит учитывать особенности конкретного языка, на котором написан текст, так как `pymorphy2` работает на основе словарей для каждого языка. Например, для русского языка стоит убедиться, что в тексте использованы правильные буквы ё и й."
      ]
    },
    {
      "cell_type": "code",
      "source": [
        "import nltk\n",
        "nltk.download('punkt')\n",
        "nltk.download('stopwords') \n",
        "\n",
        "from nltk.tokenize import word_tokenize\n",
        "from nltk.corpus import stopwords\n",
        "from string import punctuation"
      ],
      "metadata": {
        "colab": {
          "base_uri": "https://localhost:8080/"
        },
        "id": "rq8QLxYVkH4t",
        "outputId": "3a155334-2218-4ee4-f667-3dd7f8ec2e86"
      },
      "execution_count": 9,
      "outputs": [
        {
          "output_type": "stream",
          "name": "stderr",
          "text": [
            "[nltk_data] Downloading package punkt to /root/nltk_data...\n",
            "[nltk_data]   Unzipping tokenizers/punkt.zip.\n",
            "[nltk_data] Downloading package stopwords to /root/nltk_data...\n",
            "[nltk_data]   Unzipping corpora/stopwords.zip.\n"
          ]
        }
      ]
    },
    {
      "cell_type": "code",
      "source": [
        "punctuation"
      ],
      "metadata": {
        "colab": {
          "base_uri": "https://localhost:8080/",
          "height": 35
        },
        "id": "pLVFkZSWtW9T",
        "outputId": "9dbe1517-d77e-4e06-a2d3-2a0b84147e1c"
      },
      "execution_count": 10,
      "outputs": [
        {
          "output_type": "execute_result",
          "data": {
            "text/plain": [
              "'!\"#$%&\\'()*+,-./:;<=>?@[\\\\]^_`{|}~'"
            ],
            "application/vnd.google.colaboratory.intrinsic+json": {
              "type": "string"
            }
          },
          "metadata": {},
          "execution_count": 10
        }
      ]
    },
    {
      "cell_type": "code",
      "source": [
        "punctuation = punctuation + '—«»±§<>'"
      ],
      "metadata": {
        "id": "e1lhAW09qpWg"
      },
      "execution_count": 11,
      "outputs": []
    },
    {
      "cell_type": "code",
      "source": [
        "def preprocess_text(text):\n",
        "    text = text.lower()  #нижний регистр\n",
        "    text = ''.join([char for char in text if char not in punctuation and not char.isdigit()]) # удаление знаков препинания и цифр\n",
        "\n",
        "    tokens = word_tokenize(text) #токенизация\n",
        "    \n",
        "    stop_words = set(stopwords.words('russian'))  # стоп-слова (предлоги, местоимения и пр.)\n",
        "    tokens = [token for token in tokens if token not in stop_words]\n",
        "    \n",
        "    return tokens"
      ],
      "metadata": {
        "id": "gDatAcQTkKID"
      },
      "execution_count": 75,
      "outputs": []
    },
    {
      "cell_type": "markdown",
      "source": [
        "Чуть подробнее рассмотрим момент с удалением стоп-слов. \n",
        "\n",
        "Стоп-слова - это слова, которые встречаются в тексте очень часто, но не несут особой смысловой нагрузки. К ним относятся местоимения, предлоги, союзы и т.д.\n",
        "\n",
        "Местоимения являются стоп-словами, потому что они заменяют существительные, прилагательные и другие части речи, которые обычно не являются стоп-словами. Например, слово \"он\" может заменять существительные \"человек\", \"мужчина\", \"парень\" и т.д., поэтому его употребление не несет большого значения для понимания содержания текста.\n",
        "\n",
        "Важно отметить, что использование местоимений может быть полезным для избегания повторений в тексте и делает его более легким для чтения. Однако, при анализе текста или разработке алгоритмов обработки естественного языка, стоп-слова, включая местоимения, часто удаляются, чтобы упростить анализ и повысить точность результатов."
      ],
      "metadata": {
        "id": "t6jhQuBimGfi"
      }
    },
    {
      "cell_type": "code",
      "source": [
        "text = 'Оленька, дочь отставного коллежского асессора Племянникова, сидела у себя во дворе на крылечке, задумавшись. Было жарко, назойливо приставали мухи, и было так приятно думать, что скоро уже вечер. С востока надвигались темные дождевые тучи, и оттуда изредка потягивало влагой. Среди двора стоял Кукин, антрепренер и содержатель увеселительного сада «Тиволи», квартировавший тут же во дворе, во флигеле, и глядел на небо.— Опять! — говорил он с отчаянием. — Опять будет дождь! Каждый день дожди, каждый день дожди — точно нарочно! Ведь это петля! Это разоренье! Каждый день страшные убытки!Он всплеснул руками и продолжал, обращаясь к Оленьке:— Вот вам, Ольга Семеновна, наша жизнь. Хоть плачь! Работаешь, стараешься, мучишься, ночей не спишь, всё думаешь, как бы лучше, — и что же? С одной стороны, публика, невежественная, дикая. Даю ей самую лучшую оперетку, феерию, великолепных куплетистов, по разве ей это нужно? Разве она в этом понимает что-нибудь? Ей нужен балаган! Ей подавай пошлость! С другой стороны, взгляните на погоду. Почти каждый вечер дождь. Как зарядило с десятого мая, так потом весь май и июнь, просто ужас! Публика не ходит, но ведь я за аренду плачу? Артистам плачу?'"
      ],
      "metadata": {
        "id": "49OsUgUxmYnl"
      },
      "execution_count": 76,
      "outputs": []
    },
    {
      "cell_type": "code",
      "source": [
        "preprocess_text(text)"
      ],
      "metadata": {
        "colab": {
          "base_uri": "https://localhost:8080/"
        },
        "id": "k6pify5nvqmm",
        "outputId": "3ce1add3-e3d3-4e4f-ddb2-299722cc3160"
      },
      "execution_count": 77,
      "outputs": [
        {
          "output_type": "execute_result",
          "data": {
            "text/plain": [
              "['оленька',\n",
              " 'дочь',\n",
              " 'отставного',\n",
              " 'коллежского',\n",
              " 'асессора',\n",
              " 'племянникова',\n",
              " 'сидела',\n",
              " 'дворе',\n",
              " 'крылечке',\n",
              " 'задумавшись',\n",
              " 'жарко',\n",
              " 'назойливо',\n",
              " 'приставали',\n",
              " 'мухи',\n",
              " 'приятно',\n",
              " 'думать',\n",
              " 'скоро',\n",
              " 'вечер',\n",
              " 'востока',\n",
              " 'надвигались',\n",
              " 'темные',\n",
              " 'дождевые',\n",
              " 'тучи',\n",
              " 'оттуда',\n",
              " 'изредка',\n",
              " 'потягивало',\n",
              " 'влагой',\n",
              " 'среди',\n",
              " 'двора',\n",
              " 'стоял',\n",
              " 'кукин',\n",
              " 'антрепренер',\n",
              " 'содержатель',\n",
              " 'увеселительного',\n",
              " 'сада',\n",
              " 'тиволи',\n",
              " 'квартировавший',\n",
              " 'дворе',\n",
              " 'флигеле',\n",
              " 'глядел',\n",
              " 'небо',\n",
              " 'говорил',\n",
              " 'отчаянием',\n",
              " 'дождь',\n",
              " 'каждый',\n",
              " 'день',\n",
              " 'дожди',\n",
              " 'каждый',\n",
              " 'день',\n",
              " 'дожди',\n",
              " 'точно',\n",
              " 'нарочно',\n",
              " 'это',\n",
              " 'петля',\n",
              " 'это',\n",
              " 'разоренье',\n",
              " 'каждый',\n",
              " 'день',\n",
              " 'страшные',\n",
              " 'убыткион',\n",
              " 'всплеснул',\n",
              " 'руками',\n",
              " 'продолжал',\n",
              " 'обращаясь',\n",
              " 'оленьке',\n",
              " 'ольга',\n",
              " 'семеновна',\n",
              " 'наша',\n",
              " 'жизнь',\n",
              " 'плачь',\n",
              " 'работаешь',\n",
              " 'стараешься',\n",
              " 'мучишься',\n",
              " 'ночей',\n",
              " 'спишь',\n",
              " 'всё',\n",
              " 'думаешь',\n",
              " 'одной',\n",
              " 'стороны',\n",
              " 'публика',\n",
              " 'невежественная',\n",
              " 'дикая',\n",
              " 'даю',\n",
              " 'самую',\n",
              " 'лучшую',\n",
              " 'оперетку',\n",
              " 'феерию',\n",
              " 'великолепных',\n",
              " 'куплетистов',\n",
              " 'это',\n",
              " 'нужно',\n",
              " 'понимает',\n",
              " 'чтонибудь',\n",
              " 'нужен',\n",
              " 'балаган',\n",
              " 'подавай',\n",
              " 'пошлость',\n",
              " 'стороны',\n",
              " 'взгляните',\n",
              " 'погоду',\n",
              " 'каждый',\n",
              " 'вечер',\n",
              " 'дождь',\n",
              " 'зарядило',\n",
              " 'десятого',\n",
              " 'мая',\n",
              " 'весь',\n",
              " 'май',\n",
              " 'июнь',\n",
              " 'просто',\n",
              " 'ужас',\n",
              " 'публика',\n",
              " 'ходит',\n",
              " 'аренду',\n",
              " 'плачу',\n",
              " 'артистам',\n",
              " 'плачу']"
            ]
          },
          "metadata": {},
          "execution_count": 77
        }
      ]
    },
    {
      "cell_type": "code",
      "source": [
        "text1 = 'Меня зовут К.С.Астанова.'"
      ],
      "metadata": {
        "id": "6nke5rPdvYNJ"
      },
      "execution_count": 15,
      "outputs": []
    },
    {
      "cell_type": "code",
      "source": [
        "preprocess_text(text1)"
      ],
      "metadata": {
        "colab": {
          "base_uri": "https://localhost:8080/"
        },
        "id": "EbHM9mASmsaL",
        "outputId": "1917b8e4-0342-40f4-c34d-d54c0c301b16"
      },
      "execution_count": 16,
      "outputs": [
        {
          "output_type": "execute_result",
          "data": {
            "text/plain": [
              "['зовут', 'ксастанова']"
            ]
          },
          "metadata": {},
          "execution_count": 16
        }
      ]
    },
    {
      "cell_type": "markdown",
      "source": [
        "*Вопросы: насколько актуально заняться удалением названий городов, имен, аккуратнее обрабатывать случаи сокращений ('т.д.')*"
      ],
      "metadata": {
        "id": "1f3jPNgZvxn1"
      }
    },
    {
      "cell_type": "markdown",
      "source": [
        "### Лемматизация\n",
        "\n",
        "После проведения предобработки текста можно использовать функцию лемматизации в pymorphy2 для получения базовых форм слов.\n",
        "\n",
        "*Вопросы: следует ли испривать нормализацию \"думающих\" -> \"думать\" в \"думающих\" -> \"думающий\" или оставить так*"
      ],
      "metadata": {
        "id": "8gibLBENxiLF"
      }
    },
    {
      "cell_type": "code",
      "source": [
        "morph = pymorphy2.MorphAnalyzer()\n",
        "\n",
        "def pymorphy_lemmatize(tokens):\n",
        "    #res_line = []\n",
        "    lemmas = [morph.parse(token)[0].normal_form for token in tokens]\n",
        "    # for token in tokens:\n",
        "    #     print(token)\n",
        "    #     res_line.append(morph.parse(token)[0].normal_form)\n",
        "    return lemmas"
      ],
      "metadata": {
        "id": "HT1oqV3PwY9T"
      },
      "execution_count": 82,
      "outputs": []
    },
    {
      "cell_type": "code",
      "source": [
        "tokens = preprocess_text(text)\n",
        "normalized = pymorphy_lemmatize(tokens)\n",
        "print(' '.join(normalized))"
      ],
      "metadata": {
        "colab": {
          "base_uri": "https://localhost:8080/"
        },
        "id": "liXN5WT0w0Lf",
        "outputId": "983db0c6-b6dc-4d58-d272-4493e9dc561e"
      },
      "execution_count": 84,
      "outputs": [
        {
          "output_type": "stream",
          "name": "stdout",
          "text": [
            "оленька дочь отставной коллежский асессор племянников сидеть двор крылечко задуматься жарко назойливый приставать муха приятно думать скоро вечер восток надвигаться тёмный дождевой туча оттуда изредка потягивать влага среди двор стоять кукин антрепренёр содержатель увеселительный сад тиволя квартировать двор флигель глядеть небо говорить отчаяние дождь каждый день дождь каждый день дождь точно нарочно это петлить это разорение каждый день страшный убыткион всплеснуть рука продолжать обращаться оленька ольга семёнович наш жизнь плакать работать стараться мучиться ночь спать всё думать один сторона публика невежественный дикий давать самый хороший оперетка феерия великолепный куплетист это нужно понимать чтонибыть нужный балаган подавать пошлость сторона взглянуть погода каждый вечер дождь зарядить десятый май весь май июнь просто ужас публика ходить аренда плач артист плач\n"
          ]
        }
      ]
    },
    {
      "cell_type": "markdown",
      "source": [],
      "metadata": {
        "id": "TxmzY05o-O8s"
      }
    },
    {
      "cell_type": "markdown",
      "source": [
        "##pymystem3\n",
        "Этот модуль содержит оболочку для морфологического анализатора русского языка Yandex Mystem 3.1, выпущенного в июне 2014 года. Морфологический анализатор может осуществлять лемматизацию текста и выводить набор морфологических атрибутов для каждого токена.\n",
        "\n",
        "Реализован для русского, польского и английского языков."
      ],
      "metadata": {
        "id": "rMzpXI981Os4"
      }
    },
    {
      "cell_type": "code",
      "source": [
        "!pip install pymystem3"
      ],
      "metadata": {
        "colab": {
          "base_uri": "https://localhost:8080/"
        },
        "id": "YhZf4XP5hDIp",
        "outputId": "acaacb88-f939-4cb0-ce28-335c921d8e42"
      },
      "execution_count": 50,
      "outputs": [
        {
          "output_type": "stream",
          "name": "stdout",
          "text": [
            "\u001b[33mWARNING: Ignoring invalid distribution -pacy (/usr/local/lib/python3.10/dist-packages)\u001b[0m\u001b[33m\n",
            "\u001b[0mLooking in indexes: https://pypi.org/simple, https://us-python.pkg.dev/colab-wheels/public/simple/\n",
            "Requirement already satisfied: pymystem3 in /usr/local/lib/python3.10/dist-packages (0.2.0)\n",
            "Requirement already satisfied: requests in /usr/local/lib/python3.10/dist-packages (from pymystem3) (2.27.1)\n",
            "Requirement already satisfied: urllib3<1.27,>=1.21.1 in /usr/local/lib/python3.10/dist-packages (from requests->pymystem3) (1.26.15)\n",
            "Requirement already satisfied: certifi>=2017.4.17 in /usr/local/lib/python3.10/dist-packages (from requests->pymystem3) (2022.12.7)\n",
            "Requirement already satisfied: charset-normalizer~=2.0.0 in /usr/local/lib/python3.10/dist-packages (from requests->pymystem3) (2.0.12)\n",
            "Requirement already satisfied: idna<4,>=2.5 in /usr/local/lib/python3.10/dist-packages (from requests->pymystem3) (3.4)\n",
            "\u001b[33mWARNING: Ignoring invalid distribution -pacy (/usr/local/lib/python3.10/dist-packages)\u001b[0m\u001b[33m\n",
            "\u001b[0m"
          ]
        }
      ]
    },
    {
      "cell_type": "markdown",
      "source": [
        "###Основные методы\n",
        "`Mystem()` - конструктор класса, который инициализирует экземпляр анализатора Mystem.\n",
        "Основными методами в `pymystem3` являются:\n",
        "* `analyze(text)` - метод, который принимает на вход текст и возвращает список словарей, каждый из которых представляет отдельное слово с его леммой и грамматическими характеристиками.\n",
        "* `lemmatize(text)` - метод, который принимает на вход текст и возвращает список лемм (основных форм слов).\n",
        "\n",
        "Посмотрим примеры использования функционала. Проведем лемматизацию текста. `tokens` - список токенов из предыдущей ячейки после предобработки текста."
      ],
      "metadata": {
        "id": "pfMJF8n2kyaI"
      }
    },
    {
      "cell_type": "code",
      "source": [
        "from pymystem3 import Mystem\n",
        "\n",
        "mystem = Mystem()\n",
        "lemmas = mystem.lemmatize(' '.join(tokens))\n",
        "\n",
        "print(\"lemmas:\", ''.join(lemmas))"
      ],
      "metadata": {
        "colab": {
          "base_uri": "https://localhost:8080/"
        },
        "id": "-KfbSUakjGSk",
        "outputId": "283c4f12-694c-44a2-c953-2c0d8464c566"
      },
      "execution_count": 47,
      "outputs": [
        {
          "output_type": "stream",
          "name": "stdout",
          "text": [
            "lemmas: оленька дочь отставной коллежский асессор племянников сидеть двор крылечко задумываться жарко назойливый приставать муха приятно думать скоро вечер восток надвигаться темный дождевой туча оттуда изредка потягивать влага среди двор стоять кукин антрепренер содержатель увеселительный сад тиволя квартировать двор флигель глядеть небо говорить отчаяние дождь каждый день дождь каждый день дождь точно нарочно это петля этот разорение каждый день страшный убыткион всплескивать рука продолжать обращаться оленек ольга семеновна наш жизнь плакать работать стараться мучиться ночь спать все думать один сторона публика невежественный дикий давать самый хороший оперетка феерия великолепный куплетист это нужно понимать чтонибудь нужный балаган подавать пошлость сторона взглядывать погода каждый вечер дождь заряжать десятый май весь май июнь просто ужас публика ходить аренда плакать артист плакать\n",
            "\n"
          ]
        }
      ]
    },
    {
      "cell_type": "code",
      "source": [
        "analysis = mystem.analyze(' '.join(tokens))\n",
        "analysis"
      ],
      "metadata": {
        "colab": {
          "base_uri": "https://localhost:8080/"
        },
        "id": "_jkQ37EAmIDw",
        "outputId": "0c3151e7-495c-441e-e50c-09482795d496"
      },
      "execution_count": 48,
      "outputs": [
        {
          "output_type": "execute_result",
          "data": {
            "text/plain": [
              "[{'analysis': [{'lex': 'оленька',\n",
              "    'wt': 0.8709863567,\n",
              "    'gr': 'S,имя,жен,од=им,ед'}],\n",
              "  'text': 'оленька'},\n",
              " {'text': ' '},\n",
              " {'analysis': [{'lex': 'дочь', 'wt': 1, 'gr': 'S,жен,од=(вин,ед|им,ед)'}],\n",
              "  'text': 'дочь'},\n",
              " {'text': ' '},\n",
              " {'analysis': [{'lex': 'отставной',\n",
              "    'wt': 1,\n",
              "    'gr': 'A=(вин,ед,полн,муж,од|род,ед,полн,муж|род,ед,полн,сред)'}],\n",
              "  'text': 'отставного'},\n",
              " {'text': ' '},\n",
              " {'analysis': [{'lex': 'коллежский',\n",
              "    'wt': 1,\n",
              "    'gr': 'A=(вин,ед,полн,муж,од|род,ед,полн,муж|род,ед,полн,сред)'}],\n",
              "  'text': 'коллежского'},\n",
              " {'text': ' '},\n",
              " {'analysis': [{'lex': 'асессор',\n",
              "    'wt': 1,\n",
              "    'gr': 'S,муж,од=(вин,ед|род,ед|им,мн)'}],\n",
              "  'text': 'асессора'},\n",
              " {'text': ' '},\n",
              " {'analysis': [{'lex': 'племянников',\n",
              "    'wt': 1,\n",
              "    'gr': 'A,полн,притяж=(им,ед,жен|вин,ед,муж,од|род,ед,муж|род,ед,сред)'}],\n",
              "  'text': 'племянникова'},\n",
              " {'text': ' '},\n",
              " {'analysis': [{'lex': 'сидеть',\n",
              "    'wt': 1,\n",
              "    'gr': 'V,несов,нп=прош,ед,изъяв,жен'}],\n",
              "  'text': 'сидела'},\n",
              " {'text': ' '},\n",
              " {'analysis': [{'lex': 'двор', 'wt': 1, 'gr': 'S,муж,неод=пр,ед'}],\n",
              "  'text': 'дворе'},\n",
              " {'text': ' '},\n",
              " {'analysis': [{'lex': 'крылечко', 'wt': 1, 'gr': 'S,сред,неод=пр,ед'}],\n",
              "  'text': 'крылечке'},\n",
              " {'text': ' '},\n",
              " {'analysis': [{'lex': 'задумываться', 'wt': 1, 'gr': 'V,нп=прош,деепр,сов'}],\n",
              "  'text': 'задумавшись'},\n",
              " {'text': ' '},\n",
              " {'analysis': [{'lex': 'жарко', 'wt': 0.3036753241, 'gr': 'ADV='}],\n",
              "  'text': 'жарко'},\n",
              " {'text': ' '},\n",
              " {'analysis': [{'lex': 'назойливый', 'wt': 1, 'gr': 'A=ед,кр,сред'}],\n",
              "  'text': 'назойливо'},\n",
              " {'text': ' '},\n",
              " {'analysis': [{'lex': 'приставать',\n",
              "    'wt': 1,\n",
              "    'gr': 'V,нп=прош,мн,изъяв,несов'}],\n",
              "  'text': 'приставали'},\n",
              " {'text': ' '},\n",
              " {'analysis': [{'lex': 'муха',\n",
              "    'wt': 0.9546512829,\n",
              "    'gr': 'S,жен,од=(род,ед|им,мн)'}],\n",
              "  'text': 'мухи'},\n",
              " {'text': ' '},\n",
              " {'analysis': [{'lex': 'приятно', 'wt': 0.726768383, 'gr': 'ADV='}],\n",
              "  'text': 'приятно'},\n",
              " {'text': ' '},\n",
              " {'analysis': [{'lex': 'думать', 'wt': 0.9777744627, 'gr': 'V,несов,нп=инф'}],\n",
              "  'text': 'думать'},\n",
              " {'text': ' '},\n",
              " {'analysis': [{'lex': 'скоро', 'wt': 0.9982715536, 'gr': 'ADV='}],\n",
              "  'text': 'скоро'},\n",
              " {'text': ' '},\n",
              " {'analysis': [{'lex': 'вечер', 'wt': 1, 'gr': 'S,муж,неод=(вин,ед|им,ед)'}],\n",
              "  'text': 'вечер'},\n",
              " {'text': ' '},\n",
              " {'analysis': [{'lex': 'восток', 'wt': 1, 'gr': 'S,гео,муж,неод=род,ед'}],\n",
              "  'text': 'востока'},\n",
              " {'text': ' '},\n",
              " {'analysis': [{'lex': 'надвигаться',\n",
              "    'wt': 1,\n",
              "    'gr': 'V,нп=прош,мн,изъяв,несов'}],\n",
              "  'text': 'надвигались'},\n",
              " {'text': ' '},\n",
              " {'analysis': [{'lex': 'темный',\n",
              "    'wt': 0.9999112268,\n",
              "    'gr': 'A=(вин,мн,полн,неод|им,мн,полн)'}],\n",
              "  'text': 'темные'},\n",
              " {'text': ' '},\n",
              " {'analysis': [{'lex': 'дождевой',\n",
              "    'wt': 1,\n",
              "    'gr': 'A=(вин,мн,полн,неод|им,мн,полн)'}],\n",
              "  'text': 'дождевые'},\n",
              " {'text': ' '},\n",
              " {'analysis': [{'lex': 'туча',\n",
              "    'wt': 1,\n",
              "    'gr': 'S,жен,неод=(вин,мн|род,ед|им,мн)'}],\n",
              "  'text': 'тучи'},\n",
              " {'text': ' '},\n",
              " {'analysis': [{'lex': 'оттуда', 'wt': 1, 'gr': 'ADVPRO='}], 'text': 'оттуда'},\n",
              " {'text': ' '},\n",
              " {'analysis': [{'lex': 'изредка', 'wt': 1, 'gr': 'ADV='}], 'text': 'изредка'},\n",
              " {'text': ' '},\n",
              " {'analysis': [{'lex': 'потягивать',\n",
              "    'wt': 1,\n",
              "    'gr': 'V,несов,пе=прош,ед,изъяв,сред'}],\n",
              "  'text': 'потягивало'},\n",
              " {'text': ' '},\n",
              " {'analysis': [{'lex': 'влага', 'wt': 1, 'gr': 'S,жен,неод=твор,ед'}],\n",
              "  'text': 'влагой'},\n",
              " {'text': ' '},\n",
              " {'analysis': [{'lex': 'среди', 'wt': 1, 'gr': 'PR='}], 'text': 'среди'},\n",
              " {'text': ' '},\n",
              " {'analysis': [{'lex': 'двор', 'wt': 1, 'gr': 'S,муж,неод=род,ед'}],\n",
              "  'text': 'двора'},\n",
              " {'text': ' '},\n",
              " {'analysis': [{'lex': 'стоять',\n",
              "    'wt': 0.9999646767,\n",
              "    'gr': 'V,несов,нп=прош,ед,изъяв,муж'}],\n",
              "  'text': 'стоял'},\n",
              " {'text': ' '},\n",
              " {'analysis': [{'lex': 'кукин', 'wt': 1, 'gr': 'S,фам,муж,од=им,ед'}],\n",
              "  'text': 'кукин'},\n",
              " {'text': ' '},\n",
              " {'analysis': [{'lex': 'антрепренер', 'wt': 1, 'gr': 'S,муж,од=им,ед'}],\n",
              "  'text': 'антрепренер'},\n",
              " {'text': ' '},\n",
              " {'analysis': [{'lex': 'содержатель', 'wt': 1, 'gr': 'S,муж,од=им,ед'}],\n",
              "  'text': 'содержатель'},\n",
              " {'text': ' '},\n",
              " {'analysis': [{'lex': 'увеселительный',\n",
              "    'wt': 1,\n",
              "    'gr': 'A=(вин,ед,полн,муж,од|род,ед,полн,муж|род,ед,полн,сред)'}],\n",
              "  'text': 'увеселительного'},\n",
              " {'text': ' '},\n",
              " {'analysis': [{'lex': 'сад', 'wt': 1, 'gr': 'S,муж,неод=род,ед'}],\n",
              "  'text': 'сада'},\n",
              " {'text': ' '},\n",
              " {'analysis': [{'lex': 'тиволя',\n",
              "    'wt': 0.6777796172,\n",
              "    'qual': 'bastard',\n",
              "    'gr': 'S,жен,неод=(вин,мн|род,ед|им,мн)'}],\n",
              "  'text': 'тиволи'},\n",
              " {'text': ' '},\n",
              " {'analysis': [{'lex': 'квартировать',\n",
              "    'wt': 1,\n",
              "    'gr': 'V,несов,пе=(прош,вин,ед,прич,полн,муж,действ,неод|прош,им,ед,прич,полн,муж,действ)'}],\n",
              "  'text': 'квартировавший'},\n",
              " {'text': ' '},\n",
              " {'analysis': [{'lex': 'двор', 'wt': 1, 'gr': 'S,муж,неод=пр,ед'}],\n",
              "  'text': 'дворе'},\n",
              " {'text': ' '},\n",
              " {'analysis': [{'lex': 'флигель', 'wt': 1, 'gr': 'S,муж,неод=пр,ед'}],\n",
              "  'text': 'флигеле'},\n",
              " {'text': ' '},\n",
              " {'analysis': [{'lex': 'глядеть',\n",
              "    'wt': 1,\n",
              "    'gr': 'V,несов,пе=прош,ед,изъяв,муж'}],\n",
              "  'text': 'глядел'},\n",
              " {'text': ' '},\n",
              " {'analysis': [{'lex': 'небо',\n",
              "    'wt': 0.6117467572,\n",
              "    'gr': 'S,сред,неод=(вин,ед|им,ед)'}],\n",
              "  'text': 'небо'},\n",
              " {'text': ' '},\n",
              " {'analysis': [{'lex': 'говорить',\n",
              "    'wt': 1,\n",
              "    'gr': 'V,несов,пе=прош,ед,изъяв,муж'}],\n",
              "  'text': 'говорил'},\n",
              " {'text': ' '},\n",
              " {'analysis': [{'lex': 'отчаяние', 'wt': 1, 'gr': 'S,сред,неод=твор,ед'}],\n",
              "  'text': 'отчаянием'},\n",
              " {'text': ' '},\n",
              " {'analysis': [{'lex': 'дождь', 'wt': 1, 'gr': 'S,муж,неод=(вин,ед|им,ед)'}],\n",
              "  'text': 'дождь'},\n",
              " {'text': ' '},\n",
              " {'analysis': [{'lex': 'каждый',\n",
              "    'wt': 0.9985975799,\n",
              "    'gr': 'APRO=(вин,ед,муж,неод|им,ед,муж)'}],\n",
              "  'text': 'каждый'},\n",
              " {'text': ' '},\n",
              " {'analysis': [{'lex': 'день',\n",
              "    'wt': 0.999920149,\n",
              "    'gr': 'S,муж,неод=(вин,ед|им,ед)'}],\n",
              "  'text': 'день'},\n",
              " {'text': ' '},\n",
              " {'analysis': [{'lex': 'дождь', 'wt': 1, 'gr': 'S,муж,неод=(вин,мн|им,мн)'}],\n",
              "  'text': 'дожди'},\n",
              " {'text': ' '},\n",
              " {'analysis': [{'lex': 'каждый',\n",
              "    'wt': 0.9985975799,\n",
              "    'gr': 'APRO=(вин,ед,муж,неод|им,ед,муж)'}],\n",
              "  'text': 'каждый'},\n",
              " {'text': ' '},\n",
              " {'analysis': [{'lex': 'день',\n",
              "    'wt': 0.999920149,\n",
              "    'gr': 'S,муж,неод=(вин,ед|им,ед)'}],\n",
              "  'text': 'день'},\n",
              " {'text': ' '},\n",
              " {'analysis': [{'lex': 'дождь', 'wt': 1, 'gr': 'S,муж,неод=(вин,мн|им,мн)'}],\n",
              "  'text': 'дожди'},\n",
              " {'text': ' '},\n",
              " {'analysis': [{'lex': 'точно', 'wt': 0.2517310093, 'gr': 'CONJ='}],\n",
              "  'text': 'точно'},\n",
              " {'text': ' '},\n",
              " {'analysis': [{'lex': 'нарочно', 'wt': 0.9998591522, 'gr': 'ADV='}],\n",
              "  'text': 'нарочно'},\n",
              " {'text': ' '},\n",
              " {'analysis': [{'lex': 'это',\n",
              "    'wt': 0.7809833731,\n",
              "    'gr': 'SPRO,ед,сред,неод=(вин|им)'}],\n",
              "  'text': 'это'},\n",
              " {'text': ' '},\n",
              " {'analysis': [{'lex': 'петля', 'wt': 0.9987701148, 'gr': 'S,жен,неод=им,ед'}],\n",
              "  'text': 'петля'},\n",
              " {'text': ' '},\n",
              " {'analysis': [{'lex': 'этот',\n",
              "    'wt': 0.05565618415,\n",
              "    'gr': 'APRO=(вин,ед,сред|им,ед,сред)'}],\n",
              "  'text': 'это'},\n",
              " {'text': ' '},\n",
              " {'analysis': [{'lex': 'разорение',\n",
              "    'wt': 1,\n",
              "    'gr': 'S,сред,неод=(пр,ед|вин,ед|им,ед)'}],\n",
              "  'text': 'разоренье'},\n",
              " {'text': ' '},\n",
              " {'analysis': [{'lex': 'каждый',\n",
              "    'wt': 0.9985975799,\n",
              "    'gr': 'APRO=(вин,ед,муж,неод|им,ед,муж)'}],\n",
              "  'text': 'каждый'},\n",
              " {'text': ' '},\n",
              " {'analysis': [{'lex': 'день',\n",
              "    'wt': 0.999920149,\n",
              "    'gr': 'S,муж,неод=(вин,ед|им,ед)'}],\n",
              "  'text': 'день'},\n",
              " {'text': ' '},\n",
              " {'analysis': [{'lex': 'страшный',\n",
              "    'wt': 1,\n",
              "    'gr': 'A=(вин,мн,полн,неод|им,мн,полн)'}],\n",
              "  'text': 'страшные'},\n",
              " {'text': ' '},\n",
              " {'analysis': [{'lex': 'убыткион',\n",
              "    'wt': 1,\n",
              "    'qual': 'bastard',\n",
              "    'gr': 'S,имя,муж,од=им,ед'}],\n",
              "  'text': 'убыткион'},\n",
              " {'text': ' '},\n",
              " {'analysis': [{'lex': 'всплескивать',\n",
              "    'wt': 1,\n",
              "    'gr': 'V,пе=прош,ед,изъяв,муж,сов'}],\n",
              "  'text': 'всплеснул'},\n",
              " {'text': ' '},\n",
              " {'analysis': [{'lex': 'рука', 'wt': 1, 'gr': 'S,жен,неод=твор,мн'}],\n",
              "  'text': 'руками'},\n",
              " {'text': ' '},\n",
              " {'analysis': [{'lex': 'продолжать',\n",
              "    'wt': 1,\n",
              "    'gr': 'V,пе=прош,ед,изъяв,муж,несов'}],\n",
              "  'text': 'продолжал'},\n",
              " {'text': ' '},\n",
              " {'analysis': [{'lex': 'обращаться',\n",
              "    'wt': 1,\n",
              "    'gr': 'V,нп=непрош,деепр,несов'}],\n",
              "  'text': 'обращаясь'},\n",
              " {'text': ' '},\n",
              " {'analysis': [{'lex': 'оленек',\n",
              "    'wt': 0.5236215203,\n",
              "    'gr': 'S,гео,муж,неод=пр,ед'}],\n",
              "  'text': 'оленьке'},\n",
              " {'text': ' '},\n",
              " {'analysis': [{'lex': 'ольга', 'wt': 0.99943402, 'gr': 'S,имя,жен,од=им,ед'}],\n",
              "  'text': 'ольга'},\n",
              " {'text': ' '},\n",
              " {'analysis': [{'lex': 'семеновна', 'wt': 1, 'gr': 'S,отч,жен,од=им,ед'}],\n",
              "  'text': 'семеновна'},\n",
              " {'text': ' '},\n",
              " {'analysis': [{'lex': 'наш', 'wt': 1, 'gr': 'APRO=им,ед,жен'}],\n",
              "  'text': 'наша'},\n",
              " {'text': ' '},\n",
              " {'analysis': [{'lex': 'жизнь', 'wt': 1, 'gr': 'S,жен,неод=(вин,ед|им,ед)'}],\n",
              "  'text': 'жизнь'},\n",
              " {'text': ' '},\n",
              " {'analysis': [{'lex': 'плакать', 'wt': 1, 'gr': 'V,несов,нп=ед,пов,2-л'}],\n",
              "  'text': 'плачь'},\n",
              " {'text': ' '},\n",
              " {'analysis': [{'lex': 'работать',\n",
              "    'wt': 1,\n",
              "    'gr': 'V,несов,нп=непрош,ед,изъяв,2-л'}],\n",
              "  'text': 'работаешь'},\n",
              " {'text': ' '},\n",
              " {'analysis': [{'lex': 'стараться',\n",
              "    'wt': 1,\n",
              "    'gr': 'V,несов,нп=непрош,ед,изъяв,2-л'}],\n",
              "  'text': 'стараешься'},\n",
              " {'text': ' '},\n",
              " {'analysis': [{'lex': 'мучиться',\n",
              "    'wt': 1,\n",
              "    'gr': 'V,несов,нп=непрош,ед,изъяв,2-л'}],\n",
              "  'text': 'мучишься'},\n",
              " {'text': ' '},\n",
              " {'analysis': [{'lex': 'ночь', 'wt': 1, 'gr': 'S,жен,неод=род,мн'}],\n",
              "  'text': 'ночей'},\n",
              " {'text': ' '},\n",
              " {'analysis': [{'lex': 'спать',\n",
              "    'wt': 1,\n",
              "    'gr': 'V,несов,нп=непрош,ед,изъяв,2-л'}],\n",
              "  'text': 'спишь'},\n",
              " {'text': ' '},\n",
              " {'analysis': [{'lex': 'все', 'wt': 0.1955883233, 'gr': 'SPRO,мн=(вин|им)'}],\n",
              "  'text': 'всё'},\n",
              " {'text': ' '},\n",
              " {'analysis': [{'lex': 'думать',\n",
              "    'wt': 0.9935751892,\n",
              "    'gr': 'V,несов,нп=непрош,ед,изъяв,2-л'}],\n",
              "  'text': 'думаешь'},\n",
              " {'text': ' '},\n",
              " {'analysis': [{'lex': 'один',\n",
              "    'wt': 0.7485076346,\n",
              "    'gr': 'APRO=(пр,ед,жен|дат,ед,жен|род,ед,жен|твор,ед,жен)'}],\n",
              "  'text': 'одной'},\n",
              " {'text': ' '},\n",
              " {'analysis': [{'lex': 'сторона',\n",
              "    'wt': 1,\n",
              "    'gr': 'S,жен,неод=(вин,мн|род,ед|им,мн)'}],\n",
              "  'text': 'стороны'},\n",
              " {'text': ' '},\n",
              " {'analysis': [{'lex': 'публика', 'wt': 1, 'gr': 'S,жен,неод=им,ед'}],\n",
              "  'text': 'публика'},\n",
              " {'text': ' '},\n",
              " {'analysis': [{'lex': 'невежественный', 'wt': 1, 'gr': 'A=им,ед,полн,жен'}],\n",
              "  'text': 'невежественная'},\n",
              " {'text': ' '},\n",
              " {'analysis': [{'lex': 'дикий', 'wt': 1, 'gr': 'A=им,ед,полн,жен'}],\n",
              "  'text': 'дикая'},\n",
              " {'text': ' '},\n",
              " {'analysis': [{'lex': 'давать',\n",
              "    'wt': 0.9800041786,\n",
              "    'gr': 'V,пе=непрош,ед,изъяв,1-л,несов'}],\n",
              "  'text': 'даю'},\n",
              " {'text': ' '},\n",
              " {'analysis': [{'lex': 'самый', 'wt': 1, 'gr': 'APRO=вин,ед,жен'}],\n",
              "  'text': 'самую'},\n",
              " {'text': ' '},\n",
              " {'analysis': [{'lex': 'хороший', 'wt': 1, 'gr': 'A=вин,ед,полн,прев,жен'}],\n",
              "  'text': 'лучшую'},\n",
              " {'text': ' '},\n",
              " {'analysis': [{'lex': 'оперетка', 'wt': 1, 'gr': 'S,жен,неод=вин,ед'}],\n",
              "  'text': 'оперетку'},\n",
              " {'text': ' '},\n",
              " {'analysis': [{'lex': 'феерия', 'wt': 1, 'gr': 'S,жен,неод=вин,ед'}],\n",
              "  'text': 'феерию'},\n",
              " {'text': ' '},\n",
              " {'analysis': [{'lex': 'великолепный',\n",
              "    'wt': 1,\n",
              "    'gr': 'A=(пр,мн,полн|вин,мн,полн,од|род,мн,полн)'}],\n",
              "  'text': 'великолепных'},\n",
              " {'text': ' '},\n",
              " {'analysis': [{'lex': 'куплетист',\n",
              "    'wt': 1,\n",
              "    'gr': 'S,муж,од=(вин,мн|род,мн)'}],\n",
              "  'text': 'куплетистов'},\n",
              " {'text': ' '},\n",
              " {'analysis': [{'lex': 'это',\n",
              "    'wt': 0.7809833731,\n",
              "    'gr': 'SPRO,ед,сред,неод=(вин|им)'}],\n",
              "  'text': 'это'},\n",
              " {'text': ' '},\n",
              " {'analysis': [{'lex': 'нужно', 'wt': 0.9310085783, 'gr': 'ADV,прдк='}],\n",
              "  'text': 'нужно'},\n",
              " {'text': ' '},\n",
              " {'analysis': [{'lex': 'понимать',\n",
              "    'wt': 1,\n",
              "    'gr': 'V=непрош,ед,изъяв,3-л,несов,пе'}],\n",
              "  'text': 'понимает'},\n",
              " {'text': ' '},\n",
              " {'analysis': [{'lex': 'чтонибудь', 'wt': 1, 'qual': 'bastard', 'gr': 'ADV='}],\n",
              "  'text': 'чтонибудь'},\n",
              " {'text': ' '},\n",
              " {'analysis': [{'lex': 'нужный', 'wt': 1, 'gr': 'A=ед,кр,муж'}],\n",
              "  'text': 'нужен'},\n",
              " {'text': ' '},\n",
              " {'analysis': [{'lex': 'балаган', 'wt': 1, 'gr': 'S,муж,неод=(вин,ед|им,ед)'}],\n",
              "  'text': 'балаган'},\n",
              " {'text': ' '},\n",
              " {'analysis': [{'lex': 'подавать', 'wt': 1, 'gr': 'V,пе=ед,пов,2-л,несов'}],\n",
              "  'text': 'подавай'},\n",
              " {'text': ' '},\n",
              " {'analysis': [{'lex': 'пошлость',\n",
              "    'wt': 1,\n",
              "    'gr': 'S,жен,неод=(вин,ед|им,ед)'}],\n",
              "  'text': 'пошлость'},\n",
              " {'text': ' '},\n",
              " {'analysis': [{'lex': 'сторона',\n",
              "    'wt': 1,\n",
              "    'gr': 'S,жен,неод=(вин,мн|род,ед|им,мн)'}],\n",
              "  'text': 'стороны'},\n",
              " {'text': ' '},\n",
              " {'analysis': [{'lex': 'взглядывать', 'wt': 1, 'gr': 'V,нп=мн,пов,2-л,сов'}],\n",
              "  'text': 'взгляните'},\n",
              " {'text': ' '},\n",
              " {'analysis': [{'lex': 'погода', 'wt': 1, 'gr': 'S,жен,неод=вин,ед'}],\n",
              "  'text': 'погоду'},\n",
              " {'text': ' '},\n",
              " {'analysis': [{'lex': 'каждый',\n",
              "    'wt': 0.9985975799,\n",
              "    'gr': 'APRO=(вин,ед,муж,неод|им,ед,муж)'}],\n",
              "  'text': 'каждый'},\n",
              " {'text': ' '},\n",
              " {'analysis': [{'lex': 'вечер', 'wt': 1, 'gr': 'S,муж,неод=(вин,ед|им,ед)'}],\n",
              "  'text': 'вечер'},\n",
              " {'text': ' '},\n",
              " {'analysis': [{'lex': 'дождь', 'wt': 1, 'gr': 'S,муж,неод=(вин,ед|им,ед)'}],\n",
              "  'text': 'дождь'},\n",
              " {'text': ' '},\n",
              " {'analysis': [{'lex': 'заряжать',\n",
              "    'wt': 0.873037497,\n",
              "    'gr': 'V=прош,ед,изъяв,сред,сов'}],\n",
              "  'text': 'зарядило'},\n",
              " {'text': ' '},\n",
              " {'analysis': [{'lex': 'десятый',\n",
              "    'wt': 1,\n",
              "    'gr': 'ANUM=(вин,ед,муж,од|род,ед,муж|род,ед,сред)'}],\n",
              "  'text': 'десятого'},\n",
              " {'text': ' '},\n",
              " {'analysis': [{'lex': 'май', 'wt': 0.9013823403, 'gr': 'S,ед,муж,неод=род'}],\n",
              "  'text': 'мая'},\n",
              " {'text': ' '},\n",
              " {'analysis': [{'lex': 'весь',\n",
              "    'wt': 0.9978909737,\n",
              "    'gr': 'APRO=(вин,ед,муж,неод|им,ед,муж)'}],\n",
              "  'text': 'весь'},\n",
              " {'text': ' '},\n",
              " {'analysis': [{'lex': 'май',\n",
              "    'wt': 0.5011264402,\n",
              "    'gr': 'S,ед,муж,неод=(вин|им)'}],\n",
              "  'text': 'май'},\n",
              " {'text': ' '},\n",
              " {'analysis': [{'lex': 'июнь', 'wt': 1, 'gr': 'S,муж,неод=(вин,ед|им,ед)'}],\n",
              "  'text': 'июнь'},\n",
              " {'text': ' '},\n",
              " {'analysis': [{'lex': 'просто', 'wt': 0.7704013228, 'gr': 'PART='}],\n",
              "  'text': 'просто'},\n",
              " {'text': ' '},\n",
              " {'analysis': [{'lex': 'ужас', 'wt': 1, 'gr': 'S,муж,неод=(вин,ед|им,ед)'}],\n",
              "  'text': 'ужас'},\n",
              " {'text': ' '},\n",
              " {'analysis': [{'lex': 'публика', 'wt': 1, 'gr': 'S,жен,неод=им,ед'}],\n",
              "  'text': 'публика'},\n",
              " {'text': ' '},\n",
              " {'analysis': [{'lex': 'ходить',\n",
              "    'wt': 1,\n",
              "    'gr': 'V,несов,нп=непрош,ед,изъяв,3-л'}],\n",
              "  'text': 'ходит'},\n",
              " {'text': ' '},\n",
              " {'analysis': [{'lex': 'аренда', 'wt': 1, 'gr': 'S,жен,неод=вин,ед'}],\n",
              "  'text': 'аренду'},\n",
              " {'text': ' '},\n",
              " {'analysis': [{'lex': 'плакать',\n",
              "    'wt': 0.7460438171,\n",
              "    'gr': 'V,несов,нп=непрош,ед,изъяв,1-л'}],\n",
              "  'text': 'плачу'},\n",
              " {'text': ' '},\n",
              " {'analysis': [{'lex': 'артист', 'wt': 1, 'gr': 'S,муж,од=дат,мн'}],\n",
              "  'text': 'артистам'},\n",
              " {'text': ' '},\n",
              " {'analysis': [{'lex': 'плакать',\n",
              "    'wt': 0.7460438171,\n",
              "    'gr': 'V,несов,нп=непрош,ед,изъяв,1-л'}],\n",
              "  'text': 'плачу'},\n",
              " {'text': '\\n'}]"
            ]
          },
          "metadata": {},
          "execution_count": 48
        }
      ]
    },
    {
      "cell_type": "markdown",
      "source": [
        "##TreeTagger\n",
        "TreeTagger - это программа лингвистического анализа текстов, разработанная командой исследователей в университете Штутгарта. Она используется для определения частей речи слов, извлечения лемм (основных форм слов) и выделения грамматических характеристик, таких как падеж, число и время.\n",
        "\n",
        "Программа работает на основе статистических моделей, которые были обучены на большом количестве разнообразных текстов на разных языках. Для каждой языковой модели программа использует свой набор правил, которые позволяют повысить точность определения частей речи и других характеристик.\n",
        "\n",
        "TreeTagger поддерживает множество языков, включая английский, немецкий, французский, испанский, итальянский, португальский, русский и другие."
      ],
      "metadata": {
        "id": "ewtArBHdxDwX"
      }
    },
    {
      "cell_type": "code",
      "source": [
        "!pip install treetaggerwrapper"
      ],
      "metadata": {
        "colab": {
          "base_uri": "https://localhost:8080/"
        },
        "id": "-qKO8BywxHT0",
        "outputId": "054077cf-347a-4a06-e25d-ac897015fd52"
      },
      "execution_count": 51,
      "outputs": [
        {
          "output_type": "stream",
          "name": "stdout",
          "text": [
            "\u001b[33mWARNING: Ignoring invalid distribution -pacy (/usr/local/lib/python3.10/dist-packages)\u001b[0m\u001b[33m\n",
            "\u001b[0mLooking in indexes: https://pypi.org/simple, https://us-python.pkg.dev/colab-wheels/public/simple/\n",
            "Collecting treetaggerwrapper\n",
            "  Downloading treetaggerwrapper-2.3.tar.gz (43 kB)\n",
            "\u001b[?25l     \u001b[90m━━━━━━━━━━━━━━━━━━━━━━━━━━━━━━━━━━━━━━━━\u001b[0m \u001b[32m0.0/43.8 kB\u001b[0m \u001b[31m?\u001b[0m eta \u001b[36m-:--:--\u001b[0m\r\u001b[2K     \u001b[90m━━━━━━━━━━━━━━━━━━━━━━━━━━━━━━━━━━━━━━━━\u001b[0m \u001b[32m43.8/43.8 kB\u001b[0m \u001b[31m2.0 MB/s\u001b[0m eta \u001b[36m0:00:00\u001b[0m\n",
            "\u001b[?25h  Preparing metadata (setup.py) ... \u001b[?25l\u001b[?25hdone\n",
            "Building wheels for collected packages: treetaggerwrapper\n",
            "  Building wheel for treetaggerwrapper (setup.py) ... \u001b[?25l\u001b[?25hdone\n",
            "  Created wheel for treetaggerwrapper: filename=treetaggerwrapper-2.3-py3-none-any.whl size=40759 sha256=fc0e98722963cc8c131c3d1b276703e318094e343dc4eea611500d8534074530\n",
            "  Stored in directory: /root/.cache/pip/wheels/ea/d5/4b/a29ceaa48c687208c69a791394c02c8e432971a98d8e5fc9ca\n",
            "Successfully built treetaggerwrapper\n",
            "\u001b[33mWARNING: Ignoring invalid distribution -pacy (/usr/local/lib/python3.10/dist-packages)\u001b[0m\u001b[33m\n",
            "\u001b[0mInstalling collected packages: treetaggerwrapper\n",
            "Successfully installed treetaggerwrapper-2.3\n"
          ]
        }
      ]
    },
    {
      "cell_type": "code",
      "source": [
        "import treetaggerwrapper"
      ],
      "metadata": {
        "colab": {
          "base_uri": "https://localhost:8080/"
        },
        "id": "0DyNe_R_1BrV",
        "outputId": "eb5f3406-e7b8-48f0-a1d8-cd395a97962f"
      },
      "execution_count": 52,
      "outputs": [
        {
          "output_type": "stream",
          "name": "stderr",
          "text": [
            "/usr/local/lib/python3.10/dist-packages/treetaggerwrapper.py:739: FutureWarning: Possible nested set at position 8\n",
            "  punct2find_re = re.compile(\"([^ ])([[\" + ALONEMARKS + \"])\",\n",
            "/usr/local/lib/python3.10/dist-packages/treetaggerwrapper.py:2043: FutureWarning: Possible nested set at position 152\n",
            "  DnsHostMatch_re = re.compile(\"(\" + DnsHost_expression + \")\",\n",
            "/usr/local/lib/python3.10/dist-packages/treetaggerwrapper.py:2067: FutureWarning: Possible nested set at position 409\n",
            "  UrlMatch_re = re.compile(UrlMatch_expression, re.VERBOSE | re.IGNORECASE)\n",
            "/usr/local/lib/python3.10/dist-packages/treetaggerwrapper.py:2079: FutureWarning: Possible nested set at position 192\n",
            "  EmailMatch_re = re.compile(EmailMatch_expression, re.VERBOSE | re.IGNORECASE)\n"
          ]
        }
      ]
    },
    {
      "cell_type": "code",
      "source": [
        "def treetagger_lemmatize(text):\n",
        "    tagger = treetaggerwrapper.TreeTagger(TAGLANG='ru')\n",
        "    tags = tagger.tag_text(text)\n",
        "    lemmas = []\n",
        "    for tag in tags:\n",
        "        parts = tag.split('\\t')\n",
        "        if len(parts) == 3:\n",
        "            word, pos, lemma = parts\n",
        "            lemmas.append(lemma)\n",
        "    return lemmas"
      ],
      "metadata": {
        "id": "-ybi5nHO1E_o"
      },
      "execution_count": 54,
      "outputs": []
    },
    {
      "cell_type": "code",
      "source": [
        "treetagger_lemmatize(text)"
      ],
      "metadata": {
        "colab": {
          "base_uri": "https://localhost:8080/",
          "height": 389
        },
        "id": "agrZyB-o1IfW",
        "outputId": "19b98ab3-5a87-4c88-ec44-ccd23d194a01"
      },
      "execution_count": 56,
      "outputs": [
        {
          "output_type": "stream",
          "name": "stderr",
          "text": [
            "ERROR:TreeTagger:Failed to find TreeTagger from automatic directories list.\n",
            "ERROR:TreeTagger:If you installed TreeTagger in a standard place, please contact the treetaggerwrapper author to add this place to this list.\n",
            "ERROR:TreeTagger:To continue working, setup TAGDIR env var to TreeTagger directory.\n",
            "ERROR:TreeTagger:Can't locate TreeTagger directory (and no TAGDIR specified).\n"
          ]
        },
        {
          "output_type": "error",
          "ename": "TreeTaggerError",
          "evalue": "ignored",
          "traceback": [
            "\u001b[0;31m---------------------------------------------------------------------------\u001b[0m",
            "\u001b[0;31mTreeTaggerError\u001b[0m                           Traceback (most recent call last)",
            "\u001b[0;32m<ipython-input-56-c4b0e7b68daa>\u001b[0m in \u001b[0;36m<cell line: 1>\u001b[0;34m()\u001b[0m\n\u001b[0;32m----> 1\u001b[0;31m \u001b[0mtreetagger_lemmatize\u001b[0m\u001b[0;34m(\u001b[0m\u001b[0mtext\u001b[0m\u001b[0;34m)\u001b[0m\u001b[0;34m\u001b[0m\u001b[0;34m\u001b[0m\u001b[0m\n\u001b[0m",
            "\u001b[0;32m<ipython-input-54-cff4800dba5e>\u001b[0m in \u001b[0;36mtreetagger_lemmatize\u001b[0;34m(text)\u001b[0m\n\u001b[1;32m      1\u001b[0m \u001b[0;32mdef\u001b[0m \u001b[0mtreetagger_lemmatize\u001b[0m\u001b[0;34m(\u001b[0m\u001b[0mtext\u001b[0m\u001b[0;34m)\u001b[0m\u001b[0;34m:\u001b[0m\u001b[0;34m\u001b[0m\u001b[0;34m\u001b[0m\u001b[0m\n\u001b[0;32m----> 2\u001b[0;31m     \u001b[0mtagger\u001b[0m \u001b[0;34m=\u001b[0m \u001b[0mtreetaggerwrapper\u001b[0m\u001b[0;34m.\u001b[0m\u001b[0mTreeTagger\u001b[0m\u001b[0;34m(\u001b[0m\u001b[0mTAGLANG\u001b[0m\u001b[0;34m=\u001b[0m\u001b[0;34m'ru'\u001b[0m\u001b[0;34m)\u001b[0m\u001b[0;34m\u001b[0m\u001b[0;34m\u001b[0m\u001b[0m\n\u001b[0m\u001b[1;32m      3\u001b[0m     \u001b[0mtags\u001b[0m \u001b[0;34m=\u001b[0m \u001b[0mtagger\u001b[0m\u001b[0;34m.\u001b[0m\u001b[0mtag_text\u001b[0m\u001b[0;34m(\u001b[0m\u001b[0mtext\u001b[0m\u001b[0;34m)\u001b[0m\u001b[0;34m\u001b[0m\u001b[0;34m\u001b[0m\u001b[0m\n\u001b[1;32m      4\u001b[0m     \u001b[0mlemmas\u001b[0m \u001b[0;34m=\u001b[0m \u001b[0;34m[\u001b[0m\u001b[0;34m]\u001b[0m\u001b[0;34m\u001b[0m\u001b[0;34m\u001b[0m\u001b[0m\n\u001b[1;32m      5\u001b[0m     \u001b[0;32mfor\u001b[0m \u001b[0mtag\u001b[0m \u001b[0;32min\u001b[0m \u001b[0mtags\u001b[0m\u001b[0;34m:\u001b[0m\u001b[0;34m\u001b[0m\u001b[0;34m\u001b[0m\u001b[0m\n",
            "\u001b[0;32m/usr/local/lib/python3.10/dist-packages/treetaggerwrapper.py\u001b[0m in \u001b[0;36m__init__\u001b[0;34m(self, **kargs)\u001b[0m\n\u001b[1;32m   1004\u001b[0m         \u001b[0mlogger\u001b[0m\u001b[0;34m.\u001b[0m\u001b[0mdebug\u001b[0m\u001b[0;34m(\u001b[0m\u001b[0;34m\"Using treetaggerwrapper.py from %s\"\u001b[0m\u001b[0;34m,\u001b[0m \u001b[0mosp\u001b[0m\u001b[0;34m.\u001b[0m\u001b[0mabspath\u001b[0m\u001b[0;34m(\u001b[0m\u001b[0m__file__\u001b[0m\u001b[0;34m)\u001b[0m\u001b[0;34m)\u001b[0m\u001b[0;34m\u001b[0m\u001b[0;34m\u001b[0m\u001b[0m\n\u001b[1;32m   1005\u001b[0m         \u001b[0mself\u001b[0m\u001b[0;34m.\u001b[0m\u001b[0m_set_language\u001b[0m\u001b[0;34m(\u001b[0m\u001b[0mkargs\u001b[0m\u001b[0;34m)\u001b[0m\u001b[0;34m\u001b[0m\u001b[0;34m\u001b[0m\u001b[0m\n\u001b[0;32m-> 1006\u001b[0;31m         \u001b[0mself\u001b[0m\u001b[0;34m.\u001b[0m\u001b[0m_set_tagger\u001b[0m\u001b[0;34m(\u001b[0m\u001b[0mkargs\u001b[0m\u001b[0;34m)\u001b[0m\u001b[0;34m\u001b[0m\u001b[0;34m\u001b[0m\u001b[0m\n\u001b[0m\u001b[1;32m   1007\u001b[0m         \u001b[0mself\u001b[0m\u001b[0;34m.\u001b[0m\u001b[0m_set_preprocessor\u001b[0m\u001b[0;34m(\u001b[0m\u001b[0mkargs\u001b[0m\u001b[0;34m)\u001b[0m\u001b[0;34m\u001b[0m\u001b[0;34m\u001b[0m\u001b[0m\n\u001b[1;32m   1008\u001b[0m         \u001b[0;31m# Note: TreeTagger process is started later, when really needed.\u001b[0m\u001b[0;34m\u001b[0m\u001b[0;34m\u001b[0m\u001b[0m\n",
            "\u001b[0;32m/usr/local/lib/python3.10/dist-packages/treetaggerwrapper.py\u001b[0m in \u001b[0;36m_set_tagger\u001b[0;34m(self, kargs)\u001b[0m\n\u001b[1;32m   1046\u001b[0m                 logger.error(\"Can't locate TreeTagger directory (and \"\n\u001b[1;32m   1047\u001b[0m                              \"no TAGDIR specified).\")\n\u001b[0;32m-> 1048\u001b[0;31m                 raise TreeTaggerError(\"Can't locate TreeTagger directory (and \"\n\u001b[0m\u001b[1;32m   1049\u001b[0m                                       \"no TAGDIR specified).\")\n\u001b[1;32m   1050\u001b[0m         \u001b[0mself\u001b[0m\u001b[0;34m.\u001b[0m\u001b[0mtagdir\u001b[0m \u001b[0;34m=\u001b[0m \u001b[0mos\u001b[0m\u001b[0;34m.\u001b[0m\u001b[0mpath\u001b[0m\u001b[0;34m.\u001b[0m\u001b[0mabspath\u001b[0m\u001b[0;34m(\u001b[0m\u001b[0mself\u001b[0m\u001b[0;34m.\u001b[0m\u001b[0mtagdir\u001b[0m\u001b[0;34m)\u001b[0m\u001b[0;34m\u001b[0m\u001b[0;34m\u001b[0m\u001b[0m\n",
            "\u001b[0;31mTreeTaggerError\u001b[0m: Can't locate TreeTagger directory (and no TAGDIR specified)."
          ]
        }
      ]
    },
    {
      "cell_type": "code",
      "source": [],
      "metadata": {
        "id": "MCc2TluR6445"
      },
      "execution_count": null,
      "outputs": []
    },
    {
      "cell_type": "markdown",
      "source": [
        "##Оценка производительности\n",
        "Производительность морфологических анализаторов может оцениваться по нескольким критериям:\n",
        "\n",
        "* Скорость работы - время, затрачиваемое на обработку одного слова или текста определенного объема.\n",
        "\n",
        "* Точность - способность анализатора правильно определять лемму, часть речи и грамматические характеристики слова.\n",
        "\n",
        "* Объем словаря - количество слов, включенных в словарь анализатора.\n",
        "\n",
        "* Покрытие языка - доля всех возможных словоформ языка, которые могут быть обработаны анализатором.\n",
        "\n",
        "* Надежность - степень уверенности анализатора в своих результатах при обработке текста с неожиданными словами или нетипичной грамматикой.\n",
        "\n",
        "* Масштабируемость - способность анализатора работать с большими объемами данных без замедления производительности.\n",
        "\n",
        "* Удобство использования - простота и интуитивный интерфейс для пользователя, возможность интеграции со сторонними программами и сервисами."
      ],
      "metadata": {
        "id": "ZOGrGXTc5VmT"
      }
    },
    {
      "cell_type": "markdown",
      "source": [
        "## Скорость работы\n"
      ],
      "metadata": {
        "id": "st50Tmfw547_"
      }
    },
    {
      "cell_type": "code",
      "source": [
        "book = []\n",
        "with open('./tihiy-don.txt', 'r', encoding='utf-8', newline='\\n', errors='ignore') as resf:\n",
        "    line = resf.readline()\n",
        "    while line:\n",
        "        tokens = preprocess_text(line)\n",
        "        if len(tokens) > 0:\n",
        "            book.append(tokens)\n",
        "        line = resf.readline()"
      ],
      "metadata": {
        "id": "Z7Edyflz7IhU"
      },
      "execution_count": 85,
      "outputs": []
    },
    {
      "cell_type": "code",
      "source": [
        "book"
      ],
      "metadata": {
        "id": "37_arUvf95j_"
      },
      "execution_count": null,
      "outputs": []
    },
    {
      "cell_type": "code",
      "source": [
        "from datetime import datetime"
      ],
      "metadata": {
        "id": "TWlwbUXvBkv7"
      },
      "execution_count": 89,
      "outputs": []
    },
    {
      "cell_type": "code",
      "source": [
        "start_time = datetime.now()\n",
        "res_book = []\n",
        "for line in book:\n",
        "    normalized = pymorphy_lemmatize(line)\n",
        "    res_book.append(' '.join(normalized))\n",
        "\n",
        "print('time = ', str(datetime.now() - start_time))\n",
        "\n",
        "#open('./pymorphy2.txt', 'w', encoding='utf-8').writelines(\"\\n\".join(res_book))"
      ],
      "metadata": {
        "colab": {
          "base_uri": "https://localhost:8080/"
        },
        "id": "ibnAS3MOA0QR",
        "outputId": "b3468133-52b5-4832-eb78-4c4089013c2b"
      },
      "execution_count": 90,
      "outputs": [
        {
          "output_type": "stream",
          "name": "stdout",
          "text": [
            "time =  0:00:14.121161\n"
          ]
        }
      ]
    },
    {
      "cell_type": "code",
      "source": [
        "length = 0\n",
        "for line in res_book:\n",
        "  length += len(line)\n",
        "print('Result length: ',length)"
      ],
      "metadata": {
        "colab": {
          "base_uri": "https://localhost:8080/"
        },
        "id": "X2C6DyGlDOu-",
        "outputId": "b76fd480-ad6c-4d64-c199-c34b9f6e4a44"
      },
      "execution_count": 95,
      "outputs": [
        {
          "output_type": "stream",
          "name": "stdout",
          "text": [
            "Result length:  1041675\n"
          ]
        }
      ]
    },
    {
      "cell_type": "code",
      "source": [
        "start_time = datetime.now()\n",
        "res_book_mystem = []\n",
        "for line in book:\n",
        "    lemmas = mystem.lemmatize(' '.join(line))\n",
        "    res_book_mystem.append(''.join(lemmas))\n",
        "\n",
        "print('time = ', str(datetime.now() - start_time))"
      ],
      "metadata": {
        "colab": {
          "base_uri": "https://localhost:8080/"
        },
        "id": "CKAd0zeADJIp",
        "outputId": "6002ddc3-bb6b-431e-ceee-1c28d06cc297"
      },
      "execution_count": 96,
      "outputs": [
        {
          "output_type": "stream",
          "name": "stdout",
          "text": [
            "time =  0:00:05.581173\n"
          ]
        }
      ]
    },
    {
      "cell_type": "code",
      "source": [
        "length = 0\n",
        "for line in res_book_mystem:\n",
        "  length += len(line) -2\n",
        "print('Result length: ',length)"
      ],
      "metadata": {
        "colab": {
          "base_uri": "https://localhost:8080/"
        },
        "id": "Oemc4TSPEgIn",
        "outputId": "f01551b8-320e-42d1-e14a-c63822192ff2"
      },
      "execution_count": 99,
      "outputs": [
        {
          "output_type": "stream",
          "name": "stdout",
          "text": [
            "Result length:  1050114\n"
          ]
        }
      ]
    },
    {
      "cell_type": "code",
      "source": [
        "res_book_mystem"
      ],
      "metadata": {
        "colab": {
          "base_uri": "https://localhost:8080/"
        },
        "id": "BPIV6s5SEj-W",
        "outputId": "0e452a1e-c8c6-429a-fc5c-0396c2cae191"
      },
      "execution_count": 100,
      "outputs": [
        {
          "output_type": "execute_result",
          "data": {
            "text/plain": [
              "['libru электронный библиотека\\n',\n",
              " 'название книга тихий дон книга\\n',\n",
              " 'автор шолохов михаил\\n',\n",
              " 'жанр классика\\n',\n",
              " 'адрес книга httpwwwlibrubookstihiydonknigiihtml\\n',\n",
              " 'михаил шолохов\\n',\n",
              " 'тихий дон\\n',\n",
              " 'книга\\n',\n",
              " 'сохамито славный землюшка наш распахать\\n',\n",
              " 'распахать наш землюшка лошадиный копыто\\n',\n",
              " 'засеивать славный землюшка казацкий голова\\n',\n",
              " 'украшенто наш тихий дон молодой вдова\\n',\n",
              " 'цвести наш батюшка тихий дон сирота\\n',\n",
              " 'наполнять волна тихий дон отцовский\\n',\n",
              " 'материнский слеза\\n',\n",
              " 'ой наш батюшка тихий дон\\n',\n",
              " 'ой тихий дон мутнехонек течь\\n',\n",
              " 'ах тихий дон мутна течь\\n',\n",
              " 'дно тихий дон студеный ключ бить\\n',\n",
              " 'посередь тихий дон белый рыбица мутить\\n',\n",
              " 'старинный казачий песня\\n',\n",
              " 'книга первый\\n',\n",
              " 'часть первый\\n',\n",
              " 'i\\n',\n",
              " 'мелеховский двор самый край хутор воротца скотиний база вести север дон крутой восьмисаживать спуск меж замшелый прозелень меловой глыба берег перламутровый россыпь ракушка серый изломистый кайма нацеловывать волна галька далеко перекипать ветер вороненый рябь стремя дон восток краснотал гуменный плетень гетманский шлях полынный проседь истаптывать конский копыто бурый жить придорожник часовенка развилка задернуть текучий маревый степь юг меловой хребтина гора запад улица пронизывать площадь бежать займище\\n',\n",
              " 'предпоследний турецкий кампания вернуться хутор казак мелехов прокофий туретчина приводить жена маленький закутывать шаль женщина прятать лицо редко показывать тоскующий одичалый глаз пахнуть шелковый шаль далекий неведомый запах радужный узор питать бабий зависть пленный турчанка сторониться родные прокофий старик мелехов вскоре отделять сын курень ходить смерть забывать обида\\n',\n",
              " 'прокофий обстраиваться скоро плотник срубать курень пригораживать база скотина осень уводить новый хозяйство сгорбленный иноземкужена идти арба имущество хутор высыпать улица маленький большой казак сдержанно посмеиваться борода голосисто перекликаться баба орда немытый казачонок улюлюкать прокофий вслед распахнуть чекмень идти медленно пахотный борозда сжимать черный ладонь хрупкий кисть женин рука непокорно нести белесочубатый голова лишь скула пухнуть кататься желвак промеж каменный всегдашний неподвижность бровь проступать пот\\n',\n",
              " 'тот пора редко видеть хутор бывать майдан жить свой курень отшиб дон бирюк гутаривать хутор чудный ребятишки пасти прогон теленок рассказывать видеть прокофий вечер вянуть заря рука носить жена татарский ажник курган сажать макушка курган спина источать столетие ноздреватый камень садиться рядом подолгу глядеть степь глядеть тот пора пока истухать заря прокофий кутать жена зипун рука относить домой хутор теряться догадка подыскивать объяснение такой диковинный поступок баба разговор поискиваться некогда разный гутаривать жена прокофий один утверждать красота досель невиданный другой наоборот решаться самый отчаянный баба жалмерка мавра сбегать прокофий свежий накваска прокофий полезть накваска погреб это время мавра разглядеть турчанка попадаться прокофий последний никудышный\\n',\n",
              " 'спустя время раскраснеться мавра платок съезжать набок торочить проулок бабий толпа\\n',\n",
              " 'милушка находить хороший баба зад пузо один страм девка гладкий выгуливаться становиться перервать оса глазюк черный здоровющий стригеть они сатана прощать бог должно сноси дохаживать ейбо\\n',\n",
              " 'сноси дивиться баба\\n',\n",
              " 'кубывать махонький сам три вынянчивать\\n',\n",
              " 'лицато\\n',\n",
              " 'лицато желтый глаз тусменныи небось сладко чужой сторонушка ишо бабонька ходитто прокофьев шаровары\\n',\n",
              " 'нуу ахать баба испуганно дружно\\n',\n",
              " 'сам видать шаровары лампасин должно буднишный подцеплять длинный рубаха изпод рубаха шаровары чулок вобратый разглядеть захолонуть\\n',\n",
              " 'шепотом гутаривать хутор прокофьев жена ведьмачить сноха астахов жить астахов хутор крайний прокофий божиться второй день троица свет видеть прокофьев жена простоволосый босой доить база корова тот пора ссыхаться корова вымя детский кулачок отбивать молоко вскоре издыхать\\n',\n",
              " 'год случаться небывалый падеж скот стойло возле дон каждый день пятниться песчаный коса труп корова молодняк падеж перекидываться лошадь таять конский косяк гулять станичный отвод тутто проползать проулок улица черный слушок\\n',\n",
              " 'хуторской сход приходить казак прокофий\\n',\n",
              " 'хозяин выходить крыльцо кланяться\\n',\n",
              " 'добрый пожаловать господин старик\\n',\n",
              " 'толпа подступать крыльцо немо молчать\\n',\n",
              " 'подвыпить старик первый крикнуть\\n',\n",
              " 'волочь мы ведьма суд наводить\\n',\n",
              " 'прокофий кинуться дом сенцы догнать рослый батареец уличный прозвище люшня стукать прокофий голова стена уговаривать\\n',\n",
              " 'шуметь шуметь нечего тронуть баба твой земля втолочить уничтожать весь хутор скотина гибнуть шуметь голова стена развалить\\n',\n",
              " 'тянуть сук база гахнуть крыльцо\\n',\n",
              " 'полчанин прокофий наматывать рука волос турчанка рука зажимать рот распяливать крик бегом протаскивать сени кинуть нога толпа тонкий вскрик просверливать реветь голос\\n',\n",
              " 'прокофий раскидывать шестеро казак вламываться горница сорвать стена шашка давить друг друг казак шарахнуться сенцы кружить голова мерцать взвизгивать шашка прокофий сбегать крыльцо толпа дрогнуть рассыпаться двор\\n',\n",
              " 'амбар прокофий настигать тяжелый бег батареец люшня сзади левый плечо наискось развалить пояс казак выламывать плетень кол сыпануть гумно степь\\n',\n",
              " 'полчаса осмелеть толпа подступать ко двор двое разведчик пожиматься входить сенцы порог кухня подплывать кровь неловко запрокидывать голова лежать прокофьев жена прорезь мученически оскаливать зуб ворочаться искусывать язык прокофий трястись голова останавливаться взгляд кутать овчинный шуба попискивать комочек преждевременно родиться ребенок\\n',\n",
              " 'жена прокофий умирать вечер день недоношенный ребенок сжалиться взять бабка прокофьев мать\\n',\n",
              " 'обкладывать пареный отруби поить кобылий молоко месяц убеждаться смуглый турковатый мальчонок выживать понести церковь окрестить называть дед пантелей прокофий вернуться каторга двенадцать год подстригать рыжий проседь борода обычный русский одежда делать чужой непохожий казак взять сын становиться хозяйство\\n',\n",
              " 'пантелей расти исчернасмуглый бедов схожий мать лицо подбористый фигура\\n',\n",
              " 'женить прокофий казачок дочь сосед\\n',\n",
              " 'тот пора пойти турецкий кровь скрещиваться казачий отсюда повестись хутор горбоносый диковатокрасивый казак мелехов поуличный турок\\n',\n",
              " 'похоронить отец въедаться пантелей хозяйство заново покрывать дом прирезывать усадьба полдесятина гулевой земля выстраивать новый сарай амбар жесть кровельщик хозяйский заказ вырезать обрезок пара жестяной петух укреплять крыша амбар веселить мелеховский база беспечный свой вид придавать вид самодовольный зажиточный\\n',\n",
              " 'уклон сползать годок закряжистел пантелей прокофиевич раздаваться ширина ссутулиться выглядеть старик складный сухой кость хромой молодость императорский смотр скачки сломать левый нога носить левый ухо серебряный полумесяц серьга старость слинять немой ворона масть борода волос гнев доходить беспамятство видно это рано время состарить когдатый красивый сплошь опутывать паутина морщина дородный жена\\n',\n",
              " 'старший женатый сын петро напоминать мать небольшой курносый буйный повитель пшеничный цвет волос кареглазый младший григорий отец попереть полголовы высокий петр шесть год молодой батя вислый коршунячий нос косой прорезь подсинивать миндалина горячий глаз острый плита скула обтягивать коричневый румянеть кожа сутулиться григорий отец улыбка оба общий звероватый\\n',\n",
              " 'дуняшка отцов слабость длиннорукий большеглазый подросток петров жена дарья малый дитема весь мелеховский семья\\n',\n",
              " 'ii\\n',\n",
              " 'редкий пепельный рассветный небо зыбиться звезда изпод туча тянуть ветер дон дыбы ходить туман пластаться откос меловой гора сползать яр серый безголовый гадюка левобережный обдонье песок ендова ендова котловина опушать лес камышистый непролазить лес роса полыхать исступленный холодный зарево черта всходить томиться солнце\\n',\n",
              " 'мелеховский курень первый отрываться ото сон пантелей прокофиевич застегивать ход ворота расшивать крестик рубаха выходить крыльцо затраветь двор выкладывать росный серебро выпускать проулок скотина дарья исподница пробежать доить корова икра белый босой нога молозиво брызгать роса трава база ложиться дымчатый приминать след\\n',\n",
              " 'пантелей прокофиевич поглядеть прямиться приминать дарьин нога трава пойти горница\\n',\n",
              " 'подоконник распахнуть окно мертвенно розоветь лепесток отцветать палисадник вишня григорий спать ничком кинуть наотмашь рука\\n',\n",
              " 'гришка рыбалить поехать\\n',\n",
              " 'шепотом спрашивать свешивать кровать нога\\n',\n",
              " 'поехать посидеть зоря\\n',\n",
              " 'григорий посапывать стягивать подвеска будничный шаровары вбирать белый шерстяной чулок долго надевать чирик выправлять подвертываться задник\\n',\n",
              " 'привада маманя варить сипло спрашивать выходить отец сенцы\\n',\n",
              " 'варить идти баркас зараз\\n',\n",
              " 'старик ссыпать рубашка распаривать пахучий жито похозяйски сметь ладонь упасть зерно припадать левый нога захромать спуск григорий нахохлиться сидеть баркас\\n',\n",
              " 'править\\n',\n",
              " 'черный яр спробовать возле энта карша надысь сидеть\\n',\n",
              " 'баркас черкануть корма земля оседать вода отрываться берег стремя понести покачивать норовить повертывать бок григорий огребаться правило весло\\n',\n",
              " 'гребануть ль\\n',\n",
              " 'середка выбираться\\n',\n",
              " 'пересекать быстрина баркас двинуться левый берег хутор догонять глухой вода петушиный переклика чертить борт черный хрящеватый яр лежать вода уруб баркас причаливать котловина сажень пять берег виднеться вода раскорячивать ветвь затонуть вяз вокруг коловерть гонять бурый ком пена\\n',\n",
              " 'разматывать заприваживать шепнуть григорий отец сунуть ладонь парной зевло кубышка\\n',\n",
              " 'жито четко брызнуть вода словно вполголоса шепнуть шик григорий нанизывать крючок взбухать зерно улыбаться\\n',\n",
              " 'ловиться ловиться рыбка большой малый\\n',\n",
              " 'лес упасть вода круг вытягиваться струна снова ослабнуть едва грузило касаться дно григорий нога придавливать конец удилище полезть стараться шелохнуться кисет\\n',\n",
              " 'батя дело месяц ущерб\\n',\n",
              " 'серник захватить\\n',\n",
              " 'ага\\n',\n",
              " 'давать огонь\\n',\n",
              " 'старик закуривать поглядеть солнце застревать тот сторона коряга\\n',\n",
              " 'сазан разный брать ущерб иной взяться\\n',\n",
              " 'чутно мелочь насадка обсекать вздыхать григорий\\n',\n",
              " 'возле баркас хлюпнуть схлынуть вода двухаршинный словно сливать красный медь сазан стон прыгнуть вверх сдвоить вода изгибать лопушистый хвост зернистый брызги засеивать баркас\\n',\n",
              " 'теперить ждать пантелей прокофиевич вытирать рукав мокрый борода\\n',\n",
              " 'около затонуть вяз рукастый оголять ветвь одновременно выпрыгивать сазан третий мало ввинчиваться воздух настойчиво разом биться яр\\n',\n",
              " 'григорий нетерпеливо жевать размокать конец самокрутка неяркий солнце становиться полдуб пантелей прокофиевич израсходовать привада недовольно подбирать губа тупо глядеть недвижный конец удилище\\n',\n",
              " 'григорий выплюнуть остаток цигарка злобно прослеживать стремительный полет душа ругать отец разбудить спозаранку давать высыпаться рот выкуривать натощак табак вонять припаливать щетина нагибаться зачерпывать пригоршня вода это время конец удилище торчать поларшина вода слабо качнуться медленно поползти книзу\\n',\n",
              " 'засекать выдыхать старик\\n',\n",
              " 'григорий встрепенуться потянуть удилище конец стремительно зарыться вода удилище сгибаться рука обруч словно ворот огромный сила тянуть вниз тугой красноталовый удилище\\n',\n",
              " 'держать стонать старик отпихивать баркас берег\\n',\n",
              " 'григорий силиться подымать удилище мочь сухо чмокнуть лопнуть толстый лес григорий качнуться терять равновесие\\n',\n",
              " 'бугай пришептывать пантелей прокофиевич попадать жало крючок насадка\\n',\n",
              " 'взволнованно посмеиваться григорий навязывать новый лес закинуть\\n',\n",
              " 'едва грузило достигать дно конец погнуть\\n',\n",
              " 'дьявол хмыкнуть григорий труд отрывать дно метнуться стремя рыба\\n',\n",
              " 'лес пронзительно брунжа зачерчивать вода косой зеленоватый полотно вставать вода пантелей прокофиевич перебирать обрубковатый палец держак черпать\\n',\n",
              " 'завертывать вода держать пила рубануть\\n',\n",
              " 'небось\\n',\n",
              " 'большой изжелтакрасный сазан подниматься поверхность вспенивать вода угнуть тупой лобастый голова шарахнуться вглубь\\n',\n",
              " 'давить аж рука занеметь погодить\\n',\n",
              " 'держать гришка\\n',\n",
              " 'держууу\\n',\n",
              " 'глядеть баркас пущать глядеть\\n',\n",
              " 'переводить дух подводить григорий баркас лежать бок сазан старик сунуться черпало сазан напрягать последний сила вновь уходить глубина\\n',\n",
              " 'голова подымать нехай глотнуть ветер посмирнеть\\n',\n",
              " 'выводить григорий снова подтягивать баркас измучивать сазан зевать широко раскрытый рот ткнуться нос шершавый борт становиться переливать шевелиться оранжевый золото плавник\\n',\n",
              " 'отвоеваться крякнуть пантелей прокофиевич поддевать черпак\\n',\n",
              " 'посидеть полчаса стихать сазаний бой\\n',\n",
              " 'сматывать гришка должно последний запрягать ишо дождаться\\n',\n",
              " 'собираться григорий отталкиваться берег проехать половина путь лицо отец григорий видеть хотеть чтото сказать старик молча поглядывать разметывать гора двор хутор\\n',\n",
              " 'григорий нерешительно начинать теребить завязка лежать нога мешок примечать никак аксинья астахова\\n',\n",
              " 'григорий густо покраснеть отвертываться воротник рубаха врезаться мускулистый прижигать солнцегрев шея выдавливать белый полоска\\n',\n",
              " 'глядеть парень жестко зло продолжать старик ты загутарь степан мы сосед баба дозволять баловать дело могет грех взыграть наперед упреждать приметать запарывать\\n',\n",
              " 'пантелей прокофиевич ссучивать палец узловатый кулак жмурить выпуклый глаз глядеть лицо сын сливать кровь\\n',\n",
              " 'наговор глухо вода буркнуть григорий прямо синеватый переносица поглядеть отец\\n',\n",
              " 'помалкивать\\n',\n",
              " 'мало человек гутарюта\\n',\n",
              " 'цыц сукин сын\\n',\n",
              " 'григорий слегать весло баркас заходить скачка завитушка заплясать люлюкать корма вода\\n',\n",
              " 'пристань молчать оба подъезжать берег отец напоминать\\n',\n",
              " 'глядеть забывать нонешний день прикрывать игрище база шаг такто\\n',\n",
              " 'промолчать григорий примыкать баркас спрашивать\\n',\n",
              " 'рыба баба отдавать\\n',\n",
              " 'понести купец продавать помягчеть старик табак разживаться\\n',\n",
              " 'покусывать губа идти григорий позади отец выкусывать батя стреноживать уходить нона игрище думать злобно обгрызать глаз крутой отцовский затылок\\n',\n",
              " 'дома григорий заботливо смывать сазаний чешуя присыхать песок продевать сквозь жабра хворостинка\\n',\n",
              " 'ворот сталкиваться давнишний другомодногодок митька коршунов идти митька играть конец наборный поясок узенький щелок желтый маслиться круглый наглинка глаз зрачок кошачий поставлять торчмя оттого взгляд митькин текучий неуловимый\\n',\n",
              " 'рыба\\n',\n",
              " 'нонешний добыча купец нести\\n',\n",
              " 'моховой\\n',\n",
              " 'митька глазок взвешивать сазан\\n',\n",
              " 'фунт пятнадцать\\n',\n",
              " 'половина безмен прикидывать\\n',\n",
              " 'взять себя торговаться быть\\n',\n",
              " 'пойти\\n',\n",
              " 'магарыч\\n',\n",
              " 'слаживаться нечего впустую брехать\\n',\n",
              " 'обедня рассыпаться улица народ\\n',\n",
              " 'дорога рядышком вышагивать брат кличка шамиль\\n',\n",
              " 'старший безрукий алексей идти середина тугой воротник мундир прямить жилистый шея редкий курчавый клинышек бороденка задорно топорщиться вбок левый глаз нервически подмаргивать давно стрельбище разрывать рука алексей винтовка кусок затвор изуродовать щека тот пора глаз дело дело подмигивать голубой шрам перепахивать щека зарываться кудель волос левый рука отрывать локоть один крутить алексей цигарка искусно промах прижимать кисет выпуклый заслон грудь зуб отрывать нужный клочок бумага сгибать желобок нагребать табак неуловимый поводить палец скручивать успевать человек оглянуться алексей помаргивать жевать готовый цигарка просить огонек\\n',\n",
              " 'безрукий первый хутор кулачник кулак особенно особенный тыквутравянка величина случаться както пахота бык осерчать кнут затериваться стукнуть кулак ложиться бык борозда ухо кровь насилу отлеживаться остальной брат мартин прохор мелочь схожий алексей такой низкорослый ширина дуб рука каждый пара\\n',\n",
              " 'григорий поздороваться шамиль митька проходить хруст отворачивать голова масленица кулачный стенка пожалеть алешка шамиль молодой митькин зуб махнуть наотмашь выплюнуть митька сизый изодранный кованый каблук лед коренной зуб\\n',\n",
              " 'равняться они алексей мигнуть пять подряд\\n',\n",
              " 'продавать чурбак\\n',\n",
              " 'купить\\n',\n",
              " 'почем просить\\n',\n",
              " 'пара быков жена придача\\n',\n",
              " 'алексей щуриться замахать обрубок рука\\n',\n",
              " 'чудак ах чудак оххох жена приплод взять\\n',\n",
              " 'завод оставлять шамиль переводиться зубоскалить григорий\\n',\n",
              " 'площадь церковный ограда кучиться народ толпа ктитор церковный староста подымать голова гусь выкрикивать полтинник отдавать\\n',\n",
              " 'гусь вертеть шея презрительно жмурить бирюзинка глаз\\n',\n",
              " 'круг рядом махать рука седенький крест медаль завешивать грудь старичок\\n',\n",
              " 'наш дед гришак турецкий война брехать митька указывать глаз пойти послухать\\n',\n",
              " 'покель быть слухать сазан провоняться распухать\\n',\n",
              " 'распухать вес прибавлять мы выгода\\n',\n",
              " 'площадь пожарный сарай рассыхаться пожарный бочка обломать оглобля зеленеть крыша моховский дом шагать мимо сарай григорий сплевывать зажимать нос изза бочка застегивать шаровары пряжка зуб вылезать старик\\n',\n",
              " 'приспичить съязвить митька\\n',\n",
              " 'старик управляться последний пуговица вынимать изо рот пряжка\\n',\n",
              " 'ты\\n',\n",
              " 'нос навтыкать борода борода старуха неделя отбанить\\n',\n",
              " 'ты стерва навтыкать обижаться старик\\n',\n",
              " 'митька становиться щурить кошачий глаз солнце\\n',\n",
              " 'ишь благородный сгинуть сукин сын присучиться ремень\\n',\n",
              " 'посмеиваться григорий подходить крыльцо моховский дом перила густой резьба дикий виноград крыльцо пятнистый ленивый тень\\n',\n",
              " 'митрий жить человек\\n',\n",
              " 'ручка золоченый митька приоткрывать дверь терраса фыркнуть дед энтого направлять сюда\\n',\n",
              " 'окликать терраса\\n',\n",
              " 'робеть григорий пойти первый крашеный половица мел сазаний хвост\\n',\n",
              " 'кто\\n',\n",
              " 'плетеный качалка девушка рука блюдце клубника григорий молча глядеть розовый сердечко полный губа сжимать ягодка склонять голова девушка оглядывать приходить\\n',\n",
              " 'помощь григорий выступать митька кашлянуть\\n',\n",
              " 'рыбка купить\\n',\n",
              " 'рыба сказать\\n',\n",
              " 'качнуть кресло вставать зашлепать вышивать надевать босой нога туфля солнце просвечивать белый платье митька видеть смутный очертание полный нога широкий волноваться кружево нижний юбка дивиться атласный белизна оголять икра лишь круглый пятка кожа молочный желтеть\\n',\n",
              " 'митька толкнуть григорий\\n',\n",
              " 'гля гришка юбка скло насквозь видать\\n',\n",
              " 'девушка выходить коридорный дверь мягко приседать кресло\\n',\n",
              " 'проходить кухня\\n',\n",
              " 'ступать носок григорий пойти дом митька отставлять нога жмуриться белый нитка пробор разделять волос голова золотистый полукруг девушка оглядывать озорной неспокойный глаз\\n',\n",
              " 'здешний\\n',\n",
              " 'тутошний\\n',\n",
              " 'чей это\\n',\n",
              " 'коршунов\\n',\n",
              " 'звать\\n',\n",
              " 'митрий\\n',\n",
              " 'внимательно осматривать розовый чешуя ноготь быстрый движение подбирать нога\\n',\n",
              " 'рыба ловить\\n',\n",
              " 'григорий друзьяк\\n',\n",
              " 'рыбалить\\n',\n",
              " 'рыбалить коль охота набредать\\n',\n",
              " 'удочка\\n',\n",
              " 'удочка рыбалить понашему притуг\\n',\n",
              " 'хотеться порыбалить сказать помолчать\\n',\n",
              " 'поехать коль охота\\n',\n",
              " 'это устраивать серьезно\\n',\n",
              " 'вставать дюже рано\\n',\n",
              " 'вставать разбудить\\n',\n",
              " 'разбудить отец\\n',\n",
              " 'отец\\n',\n",
              " 'митька засмеяться\\n',\n",
              " 'вор почитать собака ишо притравливать\\n',\n",
              " 'глупость спать один угловой комната этот окно указывать палец прийти я постучать окошко вставать\\n',\n",
              " 'кухня дробиться голос робкий григорий густой мазутный кухарка\\n',\n",
              " 'митька перебирать тусклый серебро казачий поясок молчать\\n',\n",
              " 'женатый спрашивать девушка теплить затаивать улыбка\\n',\n",
              " 'просто интересно\\n',\n",
              " 'митька внезапно покраснеть играть улыбка веточка осыпаться пол тепличный клубника спрашивать\\n',\n",
              " 'митя девушка любить\\n',\n",
              " 'какой любить какой\\n',\n",
              " 'сказать отчего это глаз кот\\n',\n",
              " 'кот вконец теряться митька\\n',\n",
              " 'именно кошачий\\n',\n",
              " 'это мать должно\\n',\n",
              " 'почему митя женить\\n',\n",
              " 'митька оправляться минутный смущение чувствовать слово неуловимый насмешка замерцать желтизна глаз\\n',\n",
              " 'женилка вырастать\\n',\n",
              " 'изумленно взметнуть бровь вспыхивать вставать\\n',\n",
              " 'улица крыльцо шаг\\n',\n",
              " 'коротенький таить смех улыбка жигануть митька крапива хозяин сергей платонович мохов мягко шаркать шевровый просторный ботинок достоинство пронести мимо посторониться митька свой полнеть тело\\n',\n",
              " 'ко спрашивать пройти повертывать голова\\n',\n",
              " 'это папа рыба приносить\\n',\n",
              " 'выходить порожний рука григорий\\n',\n",
              " 'iii\\n',\n",
              " 'григорий приходить игрище первый кочетов сенцы пахнуть запах перекиснуть хмелина пряный сухмень богородицын травка\\n',\n",
              " 'цыпочки проходить горница раздеваться бережно повесить праздничный лампас шаровары перекрещиваться ложиться пол перерезывать крест оконный переплет золотой дрема лунный свет угол расшитый полотенце тусклый глянец серебреный икона кровать подвеска тягучий гуд потревожить муха\\n',\n",
              " 'задремать кухня заплакать братнин ребенок\\n',\n",
              " 'немазаный арба заскрипеть люлька дарья сонный голос бормотнуть\\n',\n",
              " 'цыц поганый дита сон ты покой запевать тихонько\\n',\n",
              " 'колодадуд\\n',\n",
              " 'ида\\n',\n",
              " 'конь стеречь\\n',\n",
              " 'выстеречь\\n',\n",
              " 'конь седло\\n',\n",
              " 'золотой махром\\n',\n",
              " 'григорий засыпать мерный баюкать скрип вспомнить ить завтра петр лагерь выходить оставаться дашка дитема косить должно быть\\n',\n",
              " 'зарыться голова горячий подушка ухо назойливый сочиться\\n',\n",
              " 'ида твой конь\\n',\n",
              " 'ворота стоять\\n',\n",
              " 'ида ворота\\n',\n",
              " 'вода уносить\\n',\n",
              " 'встряхивать григорий заливистый конский ржание голос угадывать петров строевой конь\\n',\n",
              " 'обессилевать сон палец долго застегивать рубаха уснуть текучий зыбь песня\\n',\n",
              " 'ида гусь\\n',\n",
              " 'камыш уходить\\n',\n",
              " 'ида камыш\\n',\n",
              " 'девка выжимать\\n',\n",
              " 'ида девка\\n',\n",
              " 'девка замуж уходить\\n',\n",
              " 'ида казак\\n',\n",
              " 'война пойти\\n',\n",
              " 'разбитый сон добираться григорий конюшня выводить конь проулок щекотнуть лицо налетать паутина неожиданно продавать сон\\n',\n",
              " 'дон наискось волнистый никто езженный лунный шлях дон туман вверху звездный просо конь позади сторожко переставлять нога вода спуск дурной тот сторона утиный кряк возле берег тина взвертывать бухнуть вода омах охотиться мелочь сом\\n',\n",
              " 'григорий долго стоять вода прель сырой пресный дышать берег конский губа роняться дробный капля сердце григорий сладостный пустота бездумно возвращаться глянуть восход рассасываться синий полутьма\\n',\n",
              " 'возле конюшня сталкиваться мать\\n',\n",
              " 'это гришка\\n',\n",
              " 'конь поить\\n',\n",
              " 'поить нехотя отвечать григорий\\n',\n",
              " 'откидываться назад нести мать завеска завеска передник затоп кизяк шаркать старчески дряблый босой нога\\n',\n",
              " 'сходить астахов побуждать степан наш петр собираться ехать\\n',\n",
              " 'прохлада вкладывать григорий тугой дрожать пружина тело колючий мурашки порожек взбегать астахов гулкий крыльцо дверь запирать кухня расстилать полсть спать степан мышка голова жена\\n',\n",
              " 'поредеть темнота григорий видеть взбивать выше колено аксиньин рубаха березовобелый бесстыдно раскидывать нога секунда смотреть чувствовать сохнуть рот чугунный звон пухнуть голова\\n',\n",
              " 'воровато поводить глаз зачужать голос хрипло\\n',\n",
              " 'эй вставать\\n',\n",
              " 'аксинья всхлипывать сон\\n',\n",
              " 'ой такой ктойто суетливо зашарить забиваться нога голый рука натягивать рубаха оставаться подушка пятнышко уронить сон слюна крепкий заревой бабий сон\\n',\n",
              " 'это мать посылать побуждать\\n',\n",
              " 'зараз влезать блоха пол спать степан вставать слышать\\n',\n",
              " 'голос григорий догадываться неловко спешить уходить\\n',\n",
              " 'хутор майский лагерь уходить человек тридцать казак место сбор плац час семь плац потянуться повозка брезентовый будка пеший конный казак майский парусиновый рубаха снаряжение\\n',\n",
              " 'петро крыльцо наспех сшивать треснуть чембур пантелей прокофиевич похаживать возле петров конь подсыпать корыто овес изредка покрикивать\\n',\n",
              " 'дуняшка сухарь зашивать сало пересыпать соль\\n',\n",
              " 'весь румяный цвет дуняшка ласточка чертить база стряпка курень окрик отец смеяться отмахиваться\\n',\n",
              " 'батя свой дело управлять братушка укладывать черкасский ворохнуться\\n',\n",
              " 'поесть осведомляться петро слюнявить дратва кивать конь\\n',\n",
              " 'жевать степенно отвечать отец шершавый ладонь проверять потник малый дело крошка былка прилипать потник переход кровь потирать спина конь\\n',\n",
              " 'доисть гнедой попоить батя\\n',\n",
              " 'гришка дон сводить эй григорий вести конь\\n',\n",
              " 'высокий поджарый донец белый лоб вызвездие пойти играючиться григорий вывести калитка тронуть левый рука холка вскакивать место машистый рысь спуск хотеть придерживать конь сбиваться нога зачастить пойти гора намет откидываться назад лежать спина конь григорий увидеть спускаться гора женщина ведро свертывать стежок обгонять взбаламутить пыль врезаться вода\\n',\n",
              " 'гора покачиваться сходить аксинья издали голосисто крикнуть\\n',\n",
              " 'чертяка бешеный чудок конь стоптать погодить сказать отец ездить\\n',\n",
              " 'ноно соседка ругаться проводить муж лагерь хозяйство сгодиться\\n',\n",
              " 'както черт нужный\\n',\n",
              " 'зачинаться покос ишо попросить смеяться григорий\\n',\n",
              " 'аксинья подмости ловко зачерпывать коромысло ведро вода зажимать промеж колено надувать ветер юбка глянуть григорий\\n',\n",
              " 'степан твой собираться спрашивать григорий\\n',\n",
              " 'ты\\n',\n",
              " 'спрашивать ль\\n',\n",
              " 'собираться\\n',\n",
              " 'оставаться становиться жалмерка\\n',\n",
              " 'становиться\\n',\n",
              " 'конь отрывать вода губа скрип пожевать стекать вода глядеть тот сторона дон ударять вода передний нога аксинья зачерпывать другой ведро перекидывать плечо коромысло легкий раскачка пойти гора григорий тронуть конь следом ветер трепать аксинья юбка перебирать смуглый шея мелкий пушистый завиток тяжелый узел волос пламенеть расшивать цветной шелк шлычок розовый рубаха заправлять юбка морщиниться охватывать крутой спина налитой плечо подниматься гора аксинья клониться вперед ясно вылегал рубаха продольный ложбинка спина григорий видеть бурый круг слинять мышка пот рубаха провожать глаз каждый движение хотеться снова заговаривать\\n',\n",
              " 'небось быть скучать муж\\n',\n",
              " 'аксинья ход повертывать голова улыбаться\\n',\n",
              " 'жениться переводить дух говорить прерывисто жениться посль узнавать скучать ай дружечка\\n',\n",
              " 'толкнуть конь равняться григорий заглядывать глаз\\n',\n",
              " 'ить иной баба ажник рад муж проводюта наш дарья петр толстеть зачинать\\n',\n",
              " 'аксинья двигать ноздря резко дышать поправлять волос сказать\\n',\n",
              " 'муж тянуть кровить тебято скоро обженить\\n',\n",
              " 'знать батя должно служба\\n',\n",
              " 'молодой ишо жениться\\n',\n",
              " 'сухота один глянуть исподлобья разжимать губа скупо улыбаться первый замечать григорий губа бесстыдножадный пухловатый\\n',\n",
              " 'разбирать грива прядка сказать\\n',\n",
              " 'охота нету жениться какаянибудь полюбить\\n',\n",
              " 'ай примечать\\n',\n",
              " 'примечать проводить степан\\n',\n",
              " 'я заигрывать\\n',\n",
              " 'ушибать\\n',\n",
              " 'степан сказать словцо\\n',\n",
              " 'твой степан\\n',\n",
              " 'глядеть храбрый слеза капнуть\\n',\n",
              " 'пужать аксинья\\n',\n",
              " 'пужать твой дело девка пущать утирка ты вышивать заглядываться\\n',\n",
              " 'нарошный быть глядеть\\n',\n",
              " 'глядеть\\n',\n",
              " 'аксинья примиряющий улыбаться сходить стежок норовить обходить конь григорий повертывать бок загораживать дорога\\n',\n",
              " 'пускать гришка\\n',\n",
              " 'пускать\\n',\n",
              " 'дурь муж сбирать\\n',\n",
              " 'григорий улыбаться горячить конь переступать теснить аксинья яр\\n',\n",
              " 'пускать дьявол вон человек увидеть подумать\\n',\n",
              " 'метнуть сторона испуганный взгляд проходить хмуриться оглядываться\\n',\n",
              " 'крыльцо петро прощаться родной григорий заседлывать конь придерживать шашка петро торопливо сбегать порожек взять рука григорий повод\\n',\n",
              " 'конь чуять дорога беспокойно переступать пенить гонять рот мундштук поймать нога стремя держаться лук петро говорить отец\\n',\n",
              " 'лысый работа нури батя заосенять продавать григорий ить конь справлять степной трава глядеть продавать луг нона знать какой сено быть\\n',\n",
              " 'бог час добрый проговаривать старик креститься\\n',\n",
              " 'петро привычный движение вскидывать седло свой сбивать тело поправлять позади складка рубаха стягивать поясок конь пойти ворота солнце тускло блеснуть головка шашка подрагивать такт шаг\\n',\n",
              " 'дарья ребенок рука пойти следом мать вытирать рукав глаз угол завеска покраснеть нос стоять посреди база\\n',\n",
              " 'братушка пирожок пирожок забывать пирожок картошка\\n',\n",
              " 'дуняша коза скакнуть ворота\\n',\n",
              " 'орать дура досадно крикнуть григорий\\n',\n",
              " 'оставаться пирожкиа прислонясь калитка стонать дуняшка измазывать горячий щека щека будничный кофтенка слеза\\n',\n",
              " 'дарья изпод ладонь следить белый занавешивать пыль рубаха муж пантелей прокофиевич качать подгнивать столб ворота глянуть григорий\\n',\n",
              " 'ворота взяться поправлять стоянка угол врывать подумать добавлять новость сообщать уезжать петро\\n',\n",
              " 'плетень григорий видеть собираться степан принаряжать зеленый шерстяной юбка аксинья подводить конь степан улыбаться чтото говорить спешить похозяйски поцеловать жена долго снимать рука плечо сжигать загар работа рука угольный чернеть белый аксиньина кофточка степан стоять григорий спина плетень видно тугой красиво подбривать шея широкий немного вислый плечо наклоняться жена закручивать кончик русый ус\\n',\n",
              " 'аксинья чемуто смеяться отрицательно качать голова рослый ворона конь качнуться подымать стремя седок степан выезжать ворота торопкий шаг сидеть седло врывать аксинья идти рядом держаться стремя снизу вверх любовно жадно пособачьи заглядывать глаз\\n',\n",
              " 'миновать соседний курень скрываться поворот\\n',\n",
              " 'григорий провожать долгий неморгающий взгляд\\n',\n",
              " 'iv\\n',\n",
              " 'вечер собираться гроза хутор становиться бурый туча дон взлохмачивать ветер кидать берег гребнистый частый волна левада палить небо сухой молния давить земля редкий раскат гром туча раскрылатиться колесить коршун крик преследовать ворона туча дышать холодок идти вдоль дон запад займище грозно чернеть небо степь выжидающе молчать хутор хлопать закрывать ставня вечерня креститься спешить старуха плац колыхаться серый столбище пыль отягощать внешний жара земля засевать первый зерно дождь\\n',\n",
              " 'дуняшка болтать косичка прожигать база захлопывать дверца курятник становиться посреди саз раздувать ноздря лошадь препятствие улица взбрыкивать ребятишки соседский восьмилетка мишка вертеться приседать один нога голова закрывать глаз кружиться непомерно просторный отцовский картуз пронзительно верещать\\n',\n",
              " 'дождюк дождюк припускать\\n',\n",
              " 'поехать куст\\n',\n",
              " 'бог молиться\\n',\n",
              " 'христос поклониться\\n',\n",
              " 'дуняшка завистливый глядеть босой густо усыпать цыпка мишкин нога ожесточенный топтать земля хотеться приплясывать дождь мочить голова волос расти густой курчавый хотеться мишкин товарищ укрепляться придорожный пыль вверх нога риск сваливаться колючка окно глядеть мать сердито шлепать губа вздыхать дуняшка побежать курень дождь спускаться ядреный частый самый крыша лопнуть гром осколок покатиться дон\\n',\n",
              " 'сени отец потный гришка тянуть боковушка скатать бредень\\n',\n",
              " 'нитка суровый иглуцыганка шибко крикнуть дуняшка григорий\\n',\n",
              " 'кухня зажигать огонь зашивать бредень садиться дарья старуха укачивать дитя бурчать\\n',\n",
              " 'старый сроду выдумка спать ложиться гас керосин дорожать жгешь теперича ловля чума понести ишо перетопывать ить база страсть господний ишь ишь полыхать господи иисус христос царица небо\\n',\n",
              " 'кухня секунда становиться ослепительно синий тихо слышно ставня царапать дождь следом ахнуть гром дуняшка пискнуть ничком ткнуться бредень дарья мелкий крестик обмахивать окно дверь\\n',\n",
              " 'старуха страшный глаз глядеть ластиться нога кошка\\n',\n",
              " 'дунька гоонить прок царица небесный прощать грешница дунька кошка выкидывать база брысь нечистый сила\\n',\n",
              " 'григорий уронить комолый бредень трястись беззвучный хохот\\n',\n",
              " 'вскагакаться цыцте прикрикивать пантелей прокофиевич баба живо зашивать надысь ишо говорить оглядывать бредень\\n',\n",
              " 'теперя рыба заикаться старуха\\n',\n",
              " 'разуметь молчать самый стерлядь коса взять рыба берег зараз идти бояться буря вода небось мутный пойти нук выбегать дуняшка послухай играть ерик\\n',\n",
              " 'дуняшка нехотя бочок подвигаться дверь\\n',\n",
              " 'бродить пойти дарья могет грудь застуживать униматься старуха\\n',\n",
              " 'гришка другой бредень аксинья покликать когонибудь ишо баба\\n',\n",
              " 'запыхаться вбегать дуняша ресница подрагивать висеть дождевой капелька пахнуть отсыревать чернозем\\n',\n",
              " 'ерик гудет ажник страшно\\n',\n",
              " 'пойти мы бродить\\n',\n",
              " 'ишо пойти\\n',\n",
              " 'баба покликать\\n',\n",
              " 'пойти\\n',\n",
              " 'накинуть зипун скакать аксинья ежели пойти пущать покликать малашка фролова\\n',\n",
              " 'энт замерзать улыбаться григорий жир добрый боров\\n',\n",
              " 'сенцо сухой взять гришунька советовать мать сердце подкладывать нутро застуживать\\n',\n",
              " 'григорий мотать сено старуха верный слово сказать\\n',\n",
              " 'вскоре приводить дуняшка баба аксинья рваный подпоясывать веревка кофтенка синий исподний юбка выглядеть мало рост худой пересмеиваться дарья снимать голова платок туго закручивать узел волос покрываться откинуть голова холодно оглядывать григорий толстый малашка подвязывать порог чулок хрипеть простуженно\\n',\n",
              " 'мешок взять истинный бог нона шатануть рыба\\n',\n",
              " 'выходить база размякать земля густо лить дождь пенить лужа поток сползать дон\\n',\n",
              " 'григорий идти впереди подмывать беспричинный веселие\\n',\n",
              " 'глядеть батя канава\\n',\n",
              " 'эка теменьто\\n',\n",
              " 'держаться аксюша вместе быть тюрьма хрипло хохотать малашка\\n',\n",
              " 'глядеть григорий никак майданников пристань\\n',\n",
              " 'отсель зачинать осиливать хлобыстающий ветер кричать пантелей прокофиевич\\n',\n",
              " 'слышно дяденька хрипеть малашка\\n',\n",
              " 'забродить бог глубь глубь говорить малашка дьявол глухой тянуть пойти глубь григорий гришка аксинья пущать берег\\n',\n",
              " 'дон стонать рев ветер клок рвать косой полотнище дождь\\n',\n",
              " 'ощупывать нога дно григорий пояс окунаться вода липкий холод доползать грудь обруч стягивать сердце лицо накрепко зажмуривать глаз словно кнут стегать волна бредень надуваться шар тянуть вглубь обувать шерстяной чулок нога григорий скользить песчаный дно комолый рваться рука глубоко глубоко уступ срываться нога течение порывисто нести середина всасывать григорий правый рука сила грести берег черный колыхаться глубина пугать нога радостно наступать зыбкий дно колено стукаться какаято рыба\\n',\n",
              " 'обходить глуб откудато вязкий чернь голос отец бредень накреняться ползти глубина течение рвать изпод нога земля григорий задирать голова плыть отплевываться\\n',\n",
              " 'аксинья живой\\n',\n",
              " 'живой покуда\\n',\n",
              " 'никак переставать дождик\\n',\n",
              " 'маленький переставать зараз большой тронуться\\n',\n",
              " 'потихоньку отец услышать ругаться\\n',\n",
              " 'испужаться отец\\n',\n",
              " 'минута тянуть молча вода липкий тесто вязать каждый движение\\n',\n",
              " 'гриша берег кубывать карша надоть обвесть\\n',\n",
              " 'страшный толчок далеко отшвыривать григорий грохотать всплеск яр рухнуть вода глыбища порода\\n',\n",
              " 'аааа гдеть берег визжать аксинья\\n',\n",
              " 'перепугать григорий выныривать плыть крик\\n',\n",
              " 'аксинья\\n',\n",
              " 'ветер текучий шум вода\\n',\n",
              " 'аксинья холодеть страх кричать григорий\\n',\n",
              " 'эгей григориий издалека приглушать отец голос\\n',\n",
              " 'григорий кидать взмах чтото вязкий нога схватывать рука бредень\\n',\n",
              " 'гриша плакать аксиньин голос\\n',\n",
              " 'откликаласьто сердито орать григорий четвереньки выбираться берег\\n',\n",
              " 'приседать корточки дрожать разбирать спутывать ком бредень прореха разрывать туча вылупливаться месяц займище сдержанно поговаривать гром лосниться земля невпитывать влага небо выстирывать дождь строго ясно\\n',\n",
              " 'распутывать бредень григорий всматриваться аксинья лицо медовобледно красный выворачивать губа смеяться\\n',\n",
              " 'оно шибануть берег переводить дух рассказывать ум отходить спужаться смерть думать утоп\\n',\n",
              " 'рука сталкиваться аксинья пробовать просовывать рука рукав рубаха\\n',\n",
              " 'теплото рукав жалобно говорить замерзать колика тело пойти\\n',\n",
              " 'проклятущий сомяга садануть\\n',\n",
              " 'григорий раздвигать середина бредень дыра аршин полтора поперечник\\n',\n",
              " 'коса ктото бежать григорий угадывать дуняшка издали кричать\\n',\n",
              " 'нитка\\n',\n",
              " 'туточка\\n',\n",
              " 'дуняшка запыхаться подбегать\\n',\n",
              " 'сидеть батянька присылать скоро идти коса мешок стерлядь налавливать голос дуняшка нескрываемый торжество\\n',\n",
              " 'аксинья лязгать зуб зашивать дыра бредень рысь согреваться бежать коса\\n',\n",
              " 'пантелей прокофиевич крутить цигарка рубчатый вода пухлый утопленник палец приплясывать хвалиться\\n',\n",
              " 'забредать восемь штука делать передышка закуривать молча показывать нога мешок\\n',\n",
              " 'аксинья любопытство заглядывать мешок скрежетать треск тереться живучий стерлядь\\n',\n",
              " 'отбиваться\\n',\n",
              " 'сом бредень просаживать\\n',\n",
              " 'зашивать\\n',\n",
              " 'коекак ячейка посцеплять\\n',\n",
              " 'доходить колено домой забредать гришка взноровиться\\n',\n",
              " 'григорий переступать одеревенеть нога аксинья дрожать дрожь ощущать григорий бредень\\n',\n",
              " 'трястись\\n',\n",
              " 'рад б дух перевести\\n',\n",
              " 'давать давать вылазить быть проклятый рыба этот\\n',\n",
              " 'крупный сазан бить бредень учить шаг григорий загибать бредень тянуть комолый аксинья сгибаться выбегать берег песок шуршать схлынуть назад вода трепетать рыба\\n',\n",
              " 'займище пойти\\n',\n",
              " 'лес близко эй скоро\\n',\n",
              " 'идти догнать бредень пополоскать\\n',\n",
              " 'аксинья морщаться выжимать юбка подхватывать плечо мешок улов рысь пойти коса григорий нести бредень проходить сажень сто аксинья заохать\\n',\n",
              " 'моченька мой нету нога пара заходиться\\n',\n",
              " 'прошлогодний копна погреться\\n',\n",
              " 'покуда дом дотягивать помирать\\n',\n",
              " 'григорий свертывать набок шапка копна вырыть яма слежалое сено ударять горячий запах прель\\n',\n",
              " 'лезть середка печка\\n',\n",
              " 'аксинья кинуть мешок шея зарыться сено\\n',\n",
              " 'тото благодать\\n',\n",
              " 'подрагивать холод григорий прилегать рядом мокрый аксиньин волос течь нежный волновать запах лежать запрокидывать голова мерно дышать полуоткрытый рот\\n',\n",
              " 'волос дурнопьяный пахнуть знать этакий цветок белый шепнуть наклоняться григорий\\n',\n",
              " 'промолчать туманный далекий взгляд устремлять ущерб стареть месяц\\n',\n",
              " 'григорий выпрастывать карман рука внезапно притягивать голова резко рвануться привставать\\n',\n",
              " 'пускать\\n',\n",
              " 'помалкивать\\n',\n",
              " 'пускать зашуметь\\n',\n",
              " 'погодить аксинья\\n',\n",
              " 'дядя пантелей\\n',\n",
              " 'ай заблудиться близко заросль боярышник отзываться пантелей прокофиевич\\n',\n",
              " 'григорий смыкать зуб прыгнуть копна\\n',\n",
              " 'шуметь ай заблудиться подходить переспрашивать старик\\n',\n",
              " 'аксинья стоять возле копна поправлять сбивать затылок платок она дымиться пара\\n',\n",
              " 'заблудитьсято былка замерзнуть\\n',\n",
              " 'тю баба гля копна посогреваться\\n',\n",
              " 'аксинья улыбаться нагибаться мешок\\n',\n",
              " 'v\\n',\n",
              " 'хутор сетраков место лагерный сбор шестьдесят верста петро мелехов астахов степан ехать один бричка они трое казаковхуторянин федот бодовск молодая калмыковатый рябой казак второочередник лейбгвардия атаманский полк хрисанф токин прозвище христоня батареец томилин иван направляться персиановка бричка первый кормежка запрягать двухвершковый христонин конь степановый вороной двухвершковый конь конь рост аршин вершок царский армия казак обязывать являться свой конь ниже два аршин полвершок остальной лошадь оседлывать идти позади правило здоровенный дурковатый большинство атаманец христоня колесо сгибать спина сидеть впереди заслонять будка свет пугать лошадь гулкий октавистый бас бричка обтянутый новенький брезент лежать покуривать петро мелехов степан батарея томилин федот бодовск идти позади видно тягость втыкать пыльный дорога кривой свой калмыцкий нога\\n',\n",
              " 'христонина бричка идти головной тянуться семь восемь запряжка привязывать оседлывать оседлывать лошадь\\n',\n",
              " 'вихриться дорогой хохот крик тягучий песня конский порсканье перезвяк порожний стремя\\n',\n",
              " 'петр голова сухарный мешок лежать петро крутить желтый длиннющий ус\\n',\n",
              " 'степан\\n',\n",
              " 'давать служивский заиграть\\n',\n",
              " 'жарко дюже ссыхаться\\n',\n",
              " 'кабаков нету ближний хутор ждать\\n',\n",
              " 'заводь ить мастак эх гришка ваш дишканит потянуть чисто нитка серебряный голос игрище драть\\n',\n",
              " 'степан откидывать голова прокашливаться заводить низкий звучный голос\\n',\n",
              " 'эх зореньказарница\\n',\n",
              " 'рано небо восходить\\n',\n",
              " 'томилин побабьи прикладывать щека ладонь подхватывать тонкий стенить подголосок улыбаться заправлять рот усин смотреть петро грудастый батареец синеть усилие узелок жить висок\\n',\n",
              " 'молодой бабенка\\n',\n",
              " 'поздно вода пойти\\n',\n",
              " 'степан лежать христон голова повертываться опираться рука тугой красивый шея розоветь\\n',\n",
              " 'христоня подмога\\n',\n",
              " 'мальчишка догадываться\\n',\n",
              " 'становиться конь свов седлать\\n',\n",
              " 'степан переводить петр улыбаться взгляд выпучивать глаз петро вытягивать изо рот усин присоединять голос\\n',\n",
              " 'христоня разевать непомерный залохматеть щетина пасть реветь сотрясать брезентовый крыша будка\\n',\n",
              " 'оседлывать конь гнедой\\n',\n",
              " 'становиться бабенка догонять\\n',\n",
              " 'христоня класть ребро аршинный босой ступня ожидать пока степан начинать вновь закрывать глаз потный лицо тень ласково вести песня снижать голос шепот вскидывать металлический звон\\n',\n",
              " 'позволять позволять бабенка\\n',\n",
              " 'конь речка напоить\\n',\n",
              " 'снова колокольнонабатный гуд давить христоня голос вливаться песня голос соседний бричка поцокивать колесо железный ход чихать пыль конь тягучий сильный пола вода течь дорогой песня высыхать степной музга горелый коричневый куга взлетывать белокрылый чибис крик лететь лощина повертывать голова смотреть изумрудный глазок цепь повозка обтягивать белый лошадь кудрявить смачный пыль копыто шагать обочина дорога человек белый просмаливать пыль рубаха чибис падать лощина черный грудь ударять подсыхать приминать зверь трава видеть твориться дорога дорога громыхать бричка нехотя переступать запотевать седло конь лишь казак серый рубаха быстро перебегать свой бричка передняя грудиться вокруг стонать хохот\\n',\n",
              " 'степан весь рост стоять бричка один рука держаться брезентовый верх будка короче взмахивать сыпать мелкий подмывать скороговорка\\n',\n",
              " 'садисить возле\\n',\n",
              " 'садисить возле\\n',\n",
              " 'человек сказать любить\\n',\n",
              " 'любить\\n',\n",
              " 'ходить ко\\n',\n",
              " 'любить\\n',\n",
              " 'ходить ко\\n',\n",
              " 'род простой\\n',\n",
              " 'десяток грубый голос хватать лет ухать стлать придорожный пыль\\n',\n",
              " 'род простой\\n',\n",
              " 'простой\\n',\n",
              " 'воровской\\n',\n",
              " 'воровской\\n',\n",
              " 'простой\\n',\n",
              " 'любить сын князевский\\n',\n",
              " 'федот бодовск свистать приседать рваться постромка конь петро высовываться будка смеяться махать фуражка степан сверкать ослепительный усмешка озорно поводить плечо дорога бугор двигаться пыль христоня распоясывать длиннющий рубаха патлатый мокрый пот ходить вприсядку кружиться маховой колесо хмуриться стонай делать казачка серый шелковье пыль оставаться чудовищный разлапистый след босой нога\\n',\n",
              " 'vi\\n',\n",
              " 'возле лобастый желтый песчаный лысина курган останавливаться ночевать\\n',\n",
              " 'запад идти туча черный крыло сочиться дождь поить конь пруд плотина горбатиться ветер унылый верба вода покрывать застойный зелень чешуя убогий волна отражаться коверкаться молния ветер скупо кропить дождевой капля милостыня сыпать черный ладонь земля\\n',\n",
              " 'стреноживать лошадь пускать попасти назначать караул три человек остальной разводить огонь вешать котел дышло бричка\\n',\n",
              " 'христоня кашеварить помешивать ложка котел рассказывать сидеть вокруг казак\\n',\n",
              " 'курган становиться высокий навроде говорить покойничек батя атаман атаман казак царский россия называться выборный начальник степень глава донской войско стоять войсковой атаман глава станица станичный атаман выступление казацкий отряд поход выбираться особый походный атаман широкий смысл это слово значить старшина окончательный утрата самостоятельность донский казачество звание атаман казачий войско присваивать наследник престол фактически казачий войско управлять наказной назначать атаман забастовать всякий становиться дозволение зачинать курган потрошить\\n',\n",
              " 'брехать спрашивать вернуться лошадь степан\\n',\n",
              " 'рассказывать покойничек батя царство небесный старик клад искать\\n',\n",
              " 'искать\\n',\n",
              " 'это браток аж фетисова балка знать меркулов курган\\n',\n",
              " 'нуну степан приседать корточки полагать ладонь уголек плямкать губа долго прикуривать катать ладонь\\n',\n",
              " 'становиться батя говорить давать христан раскапывать меркулов курган дед слыхать немой зарывать клад клад становиться каждый рука даваться батя сулить бог отдавать мол клад церква прекрасный выстраивать порешить поехать туда земля станишный сумнение атаман мочь приезжать ночь дождаться покель смеркаться кобыла становиться стреноживать сам лопата залезать макушка зачинать бузовать прямо темечко вырыть яма аршин земля чисто каменный захряснуть давность взмокать батя молитва шептать братец верить живот бурчать летний пора становиться харч звестный кислый молоко квас перехватывать поперек живот смерть глаз батяпокойничек царство небесный говорить фу говорить христан поганец молитва прочитывать могешь пища сдерживать дыхнуть становиться нечего идти говорить слазить курган ты голова лопата срубать поганец клад могет земля уйтить ложиться курган страдать живот взять колотье батяпокойничек здоровый чертяка копать дорыться каменный плита кликать становиться подовздевать лом подымать плита верить братец ночь месячный плита блестеть\\n',\n",
              " 'брехать христоня вытерпеть петро улыбаться дергать ус\\n',\n",
              " 'брехать пойти тетериятерять христоня поддергивать широченный шаровары оглядывать слушатель становиться брехать истинный бог правда\\n',\n",
              " 'берегуто прибиваться\\n',\n",
              " 'братец блестеть глядь это становиться сожгенный уголь мера сорок батя говорить лезть христан выгребать полезть кидать кидать этуя страмота сам свет хватить утро становиться глядь\\n',\n",
              " 'поинтересоваться лежать попона томилин\\n',\n",
              " 'атаман ехать пролетка дозволять такиесякий молчать становиться сгребать станица позапрошлый год каменская суд вызывать батя догадываться успевать помирать отписывать бумага живой нету\\n',\n",
              " 'христоня снимать котел дымиться каша пойти повозка ложка\\n',\n",
              " 'отецто сулить церква построить построить спрашивать степан дождаться пока христоня вернуться ложка\\n',\n",
              " 'дурак степа уголья становиться строить ба\\n',\n",
              " 'сулить значит должный\\n',\n",
              " 'счет уголья никакой уговор клад\\n',\n",
              " 'хохот дрогнуть огонь христоня подымать котел простоватый голова разбирать дело покрывать голос остальной густой гогот\\n',\n",
              " 'vii\\n',\n",
              " 'аксинья выдавать степан семнадцать год взять хутор дубровка тот сторона дон песок\\n',\n",
              " 'год выдача осень пахать степь верста восемь хутор ночь отец пятидесятилетний старик связывать тренога рука изнасиловать\\n',\n",
              " 'убивать ежели пикнуть слово быть помалкивать справлять плюшевый кофта гетра калоша помнить убивать ежели пообещать\\n',\n",
              " 'ночь один изорвать исподница прибегать аксинья хутор валяться нога мать давиться рыдание рассказывать мать старший брат атаманец вернуться служба запрягать бричка лошадь посадить себя аксинья поехать туда отец восемь верста брат запаливать лошадь отец находить возле стан пьяный спать расстилать зипун около валяться порожний бутылка изпод водка глаз аксинья брат отцеплять бричка барка нога подымать спать отец чтото короче спрашивать ударять оковывать барк старик переносица вдвоем мать бить час полтора смирный престарелый мать исступленный дергать обеспамятеть муж волос брат стараться нога аксинья лежать бричка укутывать голова молча трястись свет привозить старик домой жалобно мычать шарить горница глаз отыскивать спрятаться аксинья отрывать ухо стекать подушка кровь ввечеру помирать человек сказать пьяный упасть арба убиваться\\n',\n",
              " 'год приезжать нарядный бричка сват аксинья высокий крутошеий статный степан невеста понравиться осенний мясоед назначать свадьба подходить предзимний морозец веселый ледозвон день окручивать молодые тот пора водворяться аксинья астаховский дом молодой хозяйка свекровь высокий согнутый какойто жестокий бабий болезнь старуха день гульба рано разбудить аксинья приводить кухня бесцельно переставлять рогач сказать\\n',\n",
              " 'милый сношенька взять кохаться вылеживаться идик передаивать корова становиться печка стряпать старый немощь одолевать хозяйство рука брать ты оно ложиться\\n',\n",
              " 'день амбар степан обдуманно страшно избивать молодой жена бить живот грудь спина бить такой расчет видный человек тот пора становиться прихватывать сторона путаться гулящий жалмерка уходить каждый ночь замыкать аксинья амбар горенка\\n',\n",
              " 'год полтора прощать обида пока рождаться ребенок притихать ласка скупой попрежний редко ночевать дома\\n',\n",
              " 'большой многоскотинный хозяйство затягивать аксинья работа степан работать ленца начесывать чуб уходить товарищ покурить перекидываться картишки побрехать хуторской новость скотина убирать приходиться аксинья ворочать хозяйство свекровь плохой помощница посуетиться падать кровать вытягивать нитка блеклый желтень губа глядеть потолок звереть боль глаз стонать сжиматься комок такой минута лицо испятнать черный уродливый крупный родинка выступать обильный пот глаз накапливаться часто один стекать слеза аксинья бросать работа забиваться гденибудь угол страх жалость глядеть свекровьиный лицо\\n',\n",
              " 'полтора год старуха умирать утро аксинья начинаться предродовой схватка полдень час появление ребенок свекровь умирать ход возле дверь старый конюшня повитуха выбегать курень предупреждать пьяный степан ходить родильница увидеть лежать поджинать нога аксиньин свекровь\\n',\n",
              " 'аксинья привязываться муж рождение ребенок он чувство горький бабий жалость привычка ребенок умирать доживать год старый развертываться жизнь мелехов гришка заигрывать становиться аксинья поперек путь ужас увидеть тянуть черный ласковый парень упорно преследовать свой настойчивый ждать любовь этото упорство страшно аксинья видеть бояться степан нутро чуять отступаться разум желать сопротивляться весь сила замечать себя праздник будни становиться тщательный наряжаться обманывать норовить часто попадаться глаз тепло приятно черный гришкин глаз ласкать тяжело исступленный заря просыпаться доить корова улыбаться сознавать отчего вспоминать нынче чтото радостный григорий гриша пугать этот новый заполнять чувство мысль идти ощупь осторожно дон мартовский ноздреватый лед\\n',\n",
              " 'провожать степан лагерь решать гришка видеться редко ловля бредень решение это укрепляться прочно\\n',\n",
              " 'viii\\n',\n",
              " 'день троица хуторской делить луг дележ ходить пантелей прокофиевич приходить оттуда обед кряхтеть скидывать чирика смачно почесывать натруживать ходьба нога сказать\\n',\n",
              " 'доставаться мы делянка возле красный яр трава особо дюже добрый верхний конец лес доходить койчто голощечина пырейчик проскакивать\\n',\n",
              " 'косить спрашивать григорий\\n',\n",
              " 'праздник\\n',\n",
              " 'дарья взять ль нахмуриваться старуха\\n',\n",
              " 'пантелей прокофиевич махнуть рука отвязываться мол\\n',\n",
              " 'понадобиться взять полудноватьто собирать стоять раскрыляться\\n',\n",
              " 'старуха загреметь заслонка выволакивать печь пригревать щи стол пантелей прокофиевич долго рассказывать дележка жуликоватый атаман обмошенничать весь сход\\n',\n",
              " 'энтот год смухлевать вступаться дарья отбивать улеша подговаривать малашка фролова конаться\\n',\n",
              " 'стерва давнишний жевать пантелей прокофиевич\\n',\n",
              " 'батяня копнить гресть робко спрашивать дуняшка\\n',\n",
              " 'быть делать\\n',\n",
              " 'один батяня неуправный\\n',\n",
              " 'аксютка астахов покликать степан надысь просить скашивать уважить\\n',\n",
              " 'день утро мелеховский база подъезжать верхом подседлывать белоногий жеребец митька коршунов побрызгивать дождь хмарь висеть хутор митька перегибаться седло открывать калитка въезжать база крыльцо окликать старуха\\n',\n",
              " 'забурунный прибегать спрашивать видимый неудовольствие недолюбливать старый отчаянный драчливый митька\\n',\n",
              " 'ты ильинишный надоть привязывать перила жеребец удивляться митька гришка приезжать\\n',\n",
              " 'сарай спать аль паралик вдарить пешка становиться могешь ходить\\n',\n",
              " 'тетенька кажный дыра гвоздь обижаться митька раскачиваться помахивать щелкать нарядный плетка голенище лакированный сапог пойти навес сарай\\n',\n",
              " 'григорий спать снимать передок арба митька жмурить левый глаз словно целиться вытягивать григорий плеть\\n',\n",
              " 'вставать мужик\\n',\n",
              " 'мужик митька слово самый ругательный григорий вскидываться пружина\\n',\n",
              " 'будить зоревать\\n',\n",
              " 'дурь митрий покед осерчать\\n',\n",
              " 'вставать дело\\n',\n",
              " 'митька приседать грядушка арба обивать сапог плеть присыхать грязцо сказать\\n',\n",
              " 'гришка обидно\\n',\n",
              " 'митька длинно ругнуться сотник офицерский чин царский армия иметь следующий наименование подпоручик кавалерия корнет казачий войско хорунжий поручик казак сотник штабскапитан кавалерия штабсротмистр казачий войско подъесаул капитан кавалерия ротмистр казачий войско есаул подполковник казак войсковой старшина полковник первый четыре ступень называться чин оберофицерский последний два штабофицерский задаваться\\n',\n",
              " 'сердце разжимать зуб быстро кидать слово дрожать нога григорий привставать\\n',\n",
              " 'сотник\\n',\n",
              " 'хватать рукав рубаха митька тихо сказать\\n',\n",
              " 'зараз седлать конь побегем займище показывать сказать давать ваш благородие опробовать вести грита друзьевтоварищев покрой затем мать мой кобыла петербург офицерский скачки приз сымать кобыла мать быть проклятый жеребец давать обскакивать\\n',\n",
              " 'григорий наспех одеваться митька ходить пята заикаться злоба рассказывать\\n',\n",
              " 'приезжать гость мохов купец энтот самый сотник погодить чей прозвище кубывать листницкий тушистый сурьезный очки носить нехай даром очки жеребец даваться обгонять\\n',\n",
              " 'посмеиваться григорий оседлывать старый оставлять племя матка гуменный ворота видеть отец выезжать степь ехать займище гора копыто лошадь чавкать жевать грязь займище возле высохший тополь ожидать конный сотник листницкий поджарый красавица кобылица человек семь хуторской ребята верх\\n',\n",
              " 'откуда скакать обращаться митька сотник поправлять пенсне любоваться могучий грудной мускул митькин жеребец\\n',\n",
              " 'тополь царева пруд\\n',\n",
              " 'это царев пруд сотник близоруко сощуриваться\\n',\n",
              " 'вон ваш благородие возле лес\\n',\n",
              " 'лошадь построить сотник подымать голова плетка погон плечо вспухать бугор\\n',\n",
              " 'сказать пускать\\n',\n",
              " 'первый рвануться сотник припадать лук придерживать рука фуражка секунда опережать остальной митька растеряннобледный лицо привставать стремя казаться григорий томительно долго опускать крупа жеребец подтягивать голова плеть\\n',\n",
              " 'тополь царева пруд верста полпути митькин жеребец вытягиваться стрелка настигать кобылица сотник григорий скакать нехотя отставать самый начало ехать куцый намет любопытство наблюдать удаляться разбитый звено цепкий скакать\\n',\n",
              " 'возле царева пруд наносный вешний вода песчаный увал желтый верблюжий горб чахнуть порастать остролистый змеиный лук григорий видеть увал разом вскакивать стекать тот сторона сотник митька они поодиночке скользить остальной подъезжать пруд потный лошадь стоять куча спешиваться ребята окружать сотник митька лосниться сдерживать радость торжество сквозить каждый движение сотник против ожидание показываться григорий нимало сконфузить прислонясь дерево покуривать папироска говорить указывать мизинец словно выкупать кобылица\\n',\n",
              " 'сделать пробег полтораста верста вчера приезжать станция быть посвежеть коршунов обгонять\\n',\n",
              " 'могет великодушничать митька\\n',\n",
              " 'резвый жеребец весь округа нету завидовать сказать веснушчатый паренек прискакивать последний\\n',\n",
              " 'конь добрячий митька дрожать переживать волнение рука похлопать шея жеребец деревянный улыбаться глянуть григорий\\n',\n",
              " 'вдвоем отделяться остальной поехать гора улица сотник попрощаться они холодновато сунуть палец козырек отвертываться\\n',\n",
              " 'подъезжать проулок двор григорий увидеть шагать навстречу аксинья идти ощипывать хворостинка увидеть гришка низко нагибать голова\\n',\n",
              " 'застыдиться аль телеша ехать крикнуть митька подмигивать калинушка эх горьковатенький\\n',\n",
              " 'григорий глядеть себя проехать мимо огревать мирно шагать кобыла плеть тот приседать задний нога взлягнуть забрызгать аксинья грязь\\n',\n",
              " 'иии дьявол дурной\\n',\n",
              " 'круто повертывать наезжать аксинья разгорячать лошадь григорий спрашивать\\n',\n",
              " 'здороваться\\n',\n",
              " 'стоять\\n',\n",
              " 'это обляпывать гордиться\\n',\n",
              " 'пускать крикнуть аксинья махать рука морда лошадь конь топтать\\n',\n",
              " 'это кобыла конь\\n',\n",
              " 'один пускать\\n',\n",
              " 'серчать аксютка неужели надышный займище\\n',\n",
              " 'григорий заглядывать глаз аксинья хотеть чтото сказать уголок черный глаз внезапно нависать слезинка жалко дрогнуть губа судорожно глотнуть шепнуть\\n',\n",
              " 'отвязываться григорий серчать пойти\\n',\n",
              " 'удивленный григорий догнать митька ворота\\n',\n",
              " 'прийти нона игрище спрашивать\\n',\n",
              " 'либо ночевать покликать\\n',\n",
              " 'григорий потирать ладонь лоб отвечать\\n',\n",
              " 'ix\\n',\n",
              " 'троица оставаться хуторской двор сухой чабрец рассыпать пол пыль мятый лист морщинить отживать зелень срубать дубовый ясеневый ветка притыкать возле ворота крыльцо\\n',\n",
              " 'троица начинаться луговой покос самый утро зацветать займище праздничный бабий юбка яркий шитво завеска краска платок выходить покос весь хутор сразу косец гребельщица одеваться годовой праздник повестись исстари дон дальний ольховый заросль шевелиться вздыхать коса опустошать луг\\n',\n",
              " 'мелехов припоздниться выезжать покос луг половина хутор\\n',\n",
              " 'долго зоревать пантелей прокофьич шуметь припотеть косарь\\n',\n",
              " 'вино бабий усмехаться старик торопить бык плести сырец кнут\\n',\n",
              " 'добрый здоровье односум сослуживец полк припоздниться браток припоздниться высокий казак соломенный шляпа качать голова отбивать дорога коса\\n',\n",
              " 'аль трава пересыхать\\n',\n",
              " 'рысь поехать успевать пересыхать твой улеша какой место\\n',\n",
              " 'красный яр\\n',\n",
              " 'погонять рябой доезжать нона\\n',\n",
              " 'позади арба сидеть аксинья закутывать солнце платок лицо узкий оставлять глаз щель смотреть сидеть против григорий равнодушно строго дарья укутывать принаряжать свешивать ребро арба нога кормить длинный прожилка грудь засыпать рука ребенок дуняшка подпрыгивать грядушка счастливый глаз разглядывать луг встречаться дорога человек лицо веселый тронутый загар переносица веснушка словно говорить весело оттого день подсинивать безоблачный небо веселый хороший оттого душа синий покой чистота радостно хотеть пантелей прокофиевич натягивать ладонь рукав бязевый рубаха вытирать набегать изпод козырек пот сгибать спина плотно прилипать рубаха темнеть мокрый пятно солнце насквозь пронизывать седой каракуль туча опускать далекий серебряный обдонский гора степь займище хутор веер дымчатый преломлять луч\\n',\n",
              " 'день перекипать зной обдергивать ветер тучка ползти вяло обгонять тянуться дорога бык пантелей прокофиевич тяжело подымать кнут помахивать словно нерешительность ударять острый бычий кострец бык видно понимать это прибавлять шаг медленно ощупь переставлять клешнятый нога мотать хвост пыльнозолотистый оранжевый отлив слепень кружиться они\\n',\n",
              " 'луг скашивать возле хуторской гумно светлеть бледнозеленый пятно снимать трава ветерок шершавить зеленый глянцевитый чернь травяной шелк\\n',\n",
              " 'вон наш делянка пантелей прокофиевич махнуть кнут\\n',\n",
              " 'лес быть зачинать спрашивать григорий\\n',\n",
              " 'край глаголь вырубать лопата\\n',\n",
              " 'григорий отпрягать занудиться бык старик посверкивать серьга пойти искать отметина вырубать край глаголь\\n',\n",
              " 'брать коса вскоре крикнуть махать рука\\n',\n",
              " 'григорий пойти уминать трава арба трава потечь колыхаться след пантелей прокофиевич перекрещиваться беленький стручок далекий колокольня взять коса горбатый нос блистать свежелакированный впадина черный щека томиться испарина улыбаться разом обнажать вороной борода несчетный число белый частый зуб занести коса повертывать морщинистый шея вправо саженный полукружие смахивать трава ложиться нога\\n',\n",
              " 'григорий идти следом полузакрывать глаз стелить косой травье впереди рассыпать радуга цвести бабий завеска искать глаз один белый прошивать кайма оглядываться аксинья снова приноравливаться отцов шаг махать коса\\n',\n",
              " 'аксинья неотступный мысль полузакрывать глаз мысленно целовать говорить откудатый набредать язык горячий ласковый слово отбрасывать это шагать счет память подсовывать отрезок воспоминание сидеть мокрый копна ендова свиристеть турчелка месяц займище куст лужин редкий капля ах хорошото\\n',\n",
              " 'возле стан засмеяться григорий оглянуться аксинья наклоняться чтото говорить лежать арба дарья тот замахать рука снова оба засмеяться дуняшка сидеть вий дышло бычачий упряжка тонюсенький голосок петь\\n',\n",
              " 'доходить вон энтого кустик коса отбивать подумать григорий почувствовать коса проходить чемуто вязкий нагибаться посмотреть изпод нога писк заковылять травка маленький дикий утенок около ямка гнездо валяться перерезывать косой надвое остальной чулюканье рассыпаться трава григорий полагать ладонь перерезывать утенок изжелтакоричневый день вылупливаться яйцо таить пушок живой тепло плоский раскрытый клювик розовенький пузырек кровица бисеринка глаз хитро прижмурить мелкий дрожь горячий лапка\\n',\n",
              " 'григорий внезапный чувство острый жалость глядеть мертвый комочек лежать ладонь\\n',\n",
              " 'находить гришунька\\n',\n",
              " 'скашивать ряд подпрыгивать бежать дуняшка грудь метаться мелко заплетать косичка морщиться григорий уронить утенок злобно махнуть коса\\n',\n",
              " 'обедать скорь сало казачий присяга откидной кислый молоко привозить дом сумка весь обед\\n',\n",
              " 'домой ехать сказать обед пантелей прокофиевич пущать бык пастись лес завтра покель подбирать солнце роса докашивать\\n',\n",
              " 'обед баба начинать гресть скашивать трава вялый сохнуть излучать тягучий дурманить аромат\\n',\n",
              " 'смеркаться бросать косить аксинья догребать оставаться ряд пойти становиться варить каша весь день зло высмеивать григорий глядеть ненавидеть глаз словно мстить большой незабываемый обида григорий хмурый какойто полинять угнать дон поить бык отец наблюдать аксинья время неприязненный поглядывать григорий сказать\\n',\n",
              " 'повечерять постеречь бык глядеть трава пущать зипун взять\\n',\n",
              " 'дарья укладывать арба дитя дуняшка пойти лес хворост\\n',\n",
              " 'займище черный недоступный небо идти ущерблять месяц огонь метелица порошить бабочка возле костер раскидывать ряднище собирать вечерять полевой задымить котел перекипать каша дарья подол исподний юбка вытирать ложка крикнуть григорий\\n',\n",
              " 'идти вечерять\\n',\n",
              " 'григорий накинуть плечо зипун вылезать темнота подходить огонь\\n',\n",
              " 'это ненастный улыбаться дарья\\n',\n",
              " 'дождь видно поясница ломить попробовать григорий отшучиваться\\n',\n",
              " 'быков стеречь хотеть ейбог дуняшка улыбаться подсаживаться брат заговаривать разговор както плестись\\n',\n",
              " 'пантелей прокофиевич истовый хлебать каша хрустеть зуб недоваренный пшено аксинья садиться подымать глаз шутка дарья нехотя улыбаться испепелять щека сжигать беспокойный румянец\\n',\n",
              " 'григорий вставать первый уходить бык\\n',\n",
              " 'глядеть трава чужой бык потравить вслед крикнуть отец поперхнуться каша долго трескучий кашлять\\n',\n",
              " 'дуняшка пыживать щека надуваться смех догорать огонь тлеть хворост обволакивать сидеть медовый запах прижигать листва\\n',\n",
              " 'полночь григорий крадучись подходить становиться становиться шаг десять пантелей прокофиевич сыпать арба переливчатый храп изпод пепел золотой павлиний глазок высматривать заливать вечер огонь\\n',\n",
              " 'арба отрываться серый укутывать фигура зигзаг медленно двинуться григорий доходить дватри шаг останавливаться аксинья гулко дробно сдвоить григорий сердце приседать шагнуть вперед откинуть пол зипун прижимать послушный полыхать жар подгибаться колено нога дрожать весь сотрясаться вызванивать зуб рывок кинуть григорий рука кидать волк хребтина зарезать овца путаться пол распахнуть зипун задыхаться пойти\\n',\n",
              " 'ой гриииш гришенька отец\\n',\n",
              " 'молчать\\n',\n",
              " 'вырываться дышать зипун кислина овечий шерсть давиться горечь раскаяние аксинья крикнуть низкий стонать голос\\n',\n",
              " 'пускать сам пойти\\n',\n",
              " 'x\\n',\n",
              " 'лазорев алый цвет лазоревый цветок называть дон степной тюльпан собачий бесила дурнопьяный придорожный цвести поздний бабий любовь\\n',\n",
              " 'луговой покос перерождаться аксинья отметина сделать лицо тавро выжигать баба встреча ехидно ощеряться качать голова вслед девка завидовать гордо высоко нести счастливый срамной голова\\n',\n",
              " 'скоро гришкин связь узнавать сначала говорить шепотом верить верить хуторской пастух кузька курносый заря увидеть возле ветряк лежать неяркий свет закатный месяц невысокий жито мутный прибойный волна покатиться молва\\n',\n",
              " 'доходить ухо пантелей прокофиевич както воскресение пойти мохов лавка народ дотолпиться входить раздаваться заулыбаться протискиваться прилавок отпускать мануфактура товар взяться отпускать хозяин сергей платонович\\n',\n",
              " 'чтото давненько видать прокофьич\\n',\n",
              " 'делишки неуправка хозяйство\\n',\n",
              " 'сын вон какой неуправка\\n',\n",
              " 'сыныто петр лагерь проводить двое гришка ворочать\\n',\n",
              " 'сергей платонович надвое развалить крутой гнедоватый бородка многозначительно скашивать глаз толпиться казак\\n',\n",
              " 'голубчик это примолчалсято\\n',\n",
              " 'сын задумывать женить гугу\\n',\n",
              " 'какой сын\\n',\n",
              " 'григорий неженатый\\n',\n",
              " 'покедова ишо собираться женить\\n',\n",
              " 'слышать сноха брать степан астахов аксинья\\n',\n",
              " 'живой муж платоныч навроде смеяться\\n',\n",
              " 'смех слышать человек\\n',\n",
              " 'пантелей прокофиевич разглаживать прилавок развернутый штука материя круто повертываться захромать выход направляться прямо домой идти побычие угнуть голова сжимать связка жилистый палец кулак заметно припадать хромой нога миновать астаховский двор глянуть плетень аксинья нарядный помолодеть покачиваться бедро идти курень порожний ведро\\n',\n",
              " 'эй погодик\\n',\n",
              " 'пантелей прокофиевич черт попереть калитка аксинья становиться поджидать входить курень чисто вымести земляной пол присыпать красноватый песок передний угол лавка вынимать печь пирог горница пахнуть слежалый одежда почемуто анисовый яблоко\\n',\n",
              " 'нога пантелей прокофиевич подходить поластиться рябой большеголовый кот сгорбить спина дружески толкнуться сапог пантелей прокофиевич шваркнуть лавка глядеть аксинья бровь крикнуть\\n',\n",
              " 'это остыть мужьин след хвост набок гришка кровь спускать это самый степан твой прописывать пущать знать ишь курва мало бить нонешний день нога твой мой база ступать шашла заводить парень степан прийти\\n',\n",
              " 'аксинья суживать глаз слушать бесстыдно мотнуть подол обдавать пантелей прокофиевич запах бабий юбка грудь пойти кривляться скалить зуб\\n',\n",
              " 'свекор свекор учить идти толстозадый учить свой база распоряжаться дьявол хромой культяпого упор видеть идти отсель спужать\\n',\n",
              " 'погодить дура\\n',\n",
              " 'нечего годить ты родить ступать откель приходить гришка твой захотеть кость съедать ответ держать быть выкусывать люб гришка вдарить ль муж прописывать писать хучь наказной атаман гришка владать быть владать\\n',\n",
              " 'аксинья напирать оробеть пантелей прокофиевич грудь биться узкий кофточка стрепет силок жечь полымя черный глаз сыпать слово один другой страшный бесстыжий пантелей прокофиевич подрагивать бровь отступать выход нащупывать поставлять угол костыль махать рука зад отворять дверь аксинья вытеснять сенцы задыхаться выкрикивать бесноваться\\n',\n",
              " 'жизнь горький отлюбить хучь убивать гришка\\n',\n",
              " 'пантелей прокофиевич чтото булькать борода зачикилять дом\\n',\n",
              " 'гришка находить горница говорить слово доставать костыль вдоль спина григорий изгибаться повисать отцовский рука\\n',\n",
              " 'батя\\n',\n",
              " 'дело сууукин сын\\n',\n",
              " 'пакость сосед срамить отец таскаться кобелиный хрипеть пантелей прокофиевич тягать горница григорий силиться вырывать костыль\\n',\n",
              " 'драться давать глухо сапнуть григорий стискивать челюсть рвануть костыль колено хряпа\\n',\n",
              " 'пантелей прокофиевич сын шея тугой кулак\\n',\n",
              " 'сход запарывать ах чертов семя прокляяяаатый сын сучить нога намереваться ударять марфушкедурочка женя тот выхолащивать ишь\\n',\n",
              " 'шум прибегать мать\\n',\n",
              " 'прокофьич прокофьич охолонь трошки погодить\\n',\n",
              " 'старик расходиться шутка подносить жена опрокидывать столик швейный машина навоеваться вылетать база успевать григорий скидывать рубаха разрывать драка рукав дверь крепко хлястнуть порог вновь туча буревой укрепляться пантелей прокофиевич\\n',\n",
              " 'женить сукин сын полошадиный стукнуть нога упираться взгляд мускулистый спина григорий женя завтра поехать сватать доживать сын глаз смеяться\\n',\n",
              " 'давать рубахуто надевать посль женить\\n',\n",
              " 'женить дурочка женя хлопнуть дверь крыльцо протарахтеть шаг стихать\\n',\n",
              " 'xi\\n',\n",
              " 'хутор сетраков степь ряд вытягиваться повозка брезентовый будка невидимый быстро вырастать городок белокрыший аккуратный прямой улочка небольшой площадка центр который похаживать часовой\\n',\n",
              " 'лагерь заживать обычный май месяц ежегодно однообразный жизнь утро команда казак караулить попас лошадь пригонять лагерь начинаться чистка седловка перекличка построение зычно покрикивать заведующий лагерь штабофицер шумоватый войсковой старшина попов горланить муштровать молодой казак обучать урядник бугор сходиться атака хитро окружать обходить противник стрелять мишень дробовица казак молодой охотно состязаться рубка старший отвиливать занятие\\n',\n",
              " 'человек хрипнуть жара водка длинный шеренга крытый повозка течь пахучий волновать ветер издалека свистеть суслик степь тянуть далеко жилье дым выбеливать курень\\n',\n",
              " 'неделя выход лагерь андрей томилин родной брат батареец иван приезжать жена привозить домашний сдобный бурсак всякий угощение ворох хуторской новость\\n',\n",
              " 'день спозаранку уезжать повезти казак домашний близкий поклон наказ лишь степан астахов пересылать накануне заболевать лечиться водка видеть жена томилин белый свет учение поехать просьба фельдшер кинуть кровь поставлять грудь дюжина пиявка степан один исподний рубаха сидеть колесо свой бричка фуражка белый чехол мазаться вытирать колесный мазь оттопыривать губа смотреть пиявка всасываться выпуклый полушарие грудь набухать черный кровь\\n',\n",
              " 'возле стоять полковый фельдшер курить процеживать сквозь редкий зуб табачный дым\\n',\n",
              " 'легчать\\n',\n",
              " 'грудь тянуть сердце кубывать просторно\\n',\n",
              " 'пиявка первый средство\\n',\n",
              " 'подходить томилин мигнуть\\n',\n",
              " 'степан словцо сказать хотеть\\n',\n",
              " 'говорить\\n',\n",
              " 'поди начас начас минутка\\n',\n",
              " 'степан кряхтеть подниматься отходить томилин\\n',\n",
              " 'выкладывать\\n',\n",
              " 'баба приезжать нона уезжать\\n',\n",
              " 'твой жененок хутор толковать\\n',\n",
              " 'гутарюта недобро\\n',\n",
              " 'гришка мелехов спутываться открытый\\n',\n",
              " 'степан бледнеть рвать грудь пиявка давить нога последний раздавливать застегнуть воротник рубаха словно испугаться чегото снова расстегнуть белый губа находить покой подрагивать расползаться нелепый улыбка ежиться собираться синеватый комок томилин казаться степан жевать чтото твердый неподатливый зуб постепенно лицо вернуться краска прихватывать изнутри зуб окаменевать недвижность губа степан снимать фуражка рукав размазывать белый чехол пятно колесный мазь сказать звонко\\n',\n",
              " 'спасибо вести\\n',\n",
              " 'хотеть упреждать извинять мол дома\\n',\n",
              " 'томилин сожалеющий хлопнуть штанина уходить нерасседлывать конь лагерь гул голос приезжать рубка казак степан минута стоять разглядывать сосредоточенно строго черный пятно фуражка сапог карабкаться полураздавливать издыхать пиявка\\n',\n",
              " 'xii\\n',\n",
              " 'оставаться полтора неделя приход казак лагерь\\n',\n",
              " 'аксинья неистовствовать поздний горький свой любовь несмотря угроза отец григорий таиться уходить ночь возвращаться заря\\n',\n",
              " 'два неделя выматываться лошадь сделать непосильный пробег\\n',\n",
              " 'бессонный ночь коричневый кожа скуластый лицо отливать синева вваливаться глазница устало глядеть черный сухой глаз\\n',\n",
              " 'аксинья ходить кутать лицо платок траурный чернеть глубокий яма глаз припухать слегка выворачивать жадный губа беспокойно вызывающе смеяться\\n',\n",
              " 'необычайный явный сумасшедший связь исступленный гореть один бесстыдный полымя человек совеститься таиться худеть чернеть лицо глаз сосед встреча почемуто стыдиться человек смотреть\\n',\n",
              " 'товарищ григорий рано трунить повод связь аксинья молчать сойдясь чувствовать общество григорий неловко связанный баба душа завидовать судить аксинья злорадствовать ожидание приход степан изнывать снедать любопытство развязка плестись предположение\\n',\n",
              " 'б григорий ходить жалмерка аксинья делать вид скрываться человек б жалмерок аксинья жить григорий блюсти это относительный тайна время чураться другой необычный хлестать глаз хутор поговорить переставать жить таиться вязать чтото большой похожий короткий связь поэтому хутор решать это преступный безнравственный хутор прижух поганенький выжиданьице прийти степан узелок развязывать\\n',\n",
              " 'горница кровать протягивать веревочка веревочка нанизывать белый черный порожний нитка катушка висеть красота ночлежничать муха потолок пряжа паутина григорий лежать голый прохладный аксиньина рука смотреть потолок цепка катушка аксинья рука огрубелый работа палец перебирать запрокидывать голова григорий жесткий конский волос завиток аксиньин палец пахнуть парной коровий молоко повертывать григорий голова нос втыкаться аксинья подмышка хмель невыбродивший бить ноздря острый сладковатый бабий пот\\n',\n",
              " 'горница кроме деревянный крашеный кровать точеный шишка угол стоять возле дверь оковывать уемистый сундук аксиньин приданое наряд передний угол стол клеенка генерал скобелев скакать склонять махровитый знамя стул вверху образ бумажный яркоубогий ореол сбоку стена засиживать муха фотография группа казак чубатый голова выпячивать грудь часовой цепка оголять клинок палаш степан товарищ действительный служба вешалка висеть неприбранный степанов мундир месяц глазастеть оконный прорезь недоверчиво щупать два белый урядницкий лычки погоня мундир\\n',\n",
              " 'аксинья вздох целовать григорий высоко переносица развилка бровь\\n',\n",
              " 'гриша колосочек\\n',\n",
              " 'ты\\n',\n",
              " 'осталось девять ден\\n',\n",
              " 'ишо скоро\\n',\n",
              " 'гриша быть делать\\n',\n",
              " 'почем знать\\n',\n",
              " 'аксинья удерживать вздох снова гладить разбирать спутывать гришкин чуб\\n',\n",
              " 'убивать степан спрашивать утвердительно говорить\\n',\n",
              " 'григорий молчать хотеться спать труд раздирать липнуть веко прямо мерцать синева чернь аксиньин глаз\\n',\n",
              " 'прийти муж небось бросать побояться\\n',\n",
              " 'бояться жена боись\\n',\n",
              " 'зараз ты бояться посередь день раздумываться оторопь взять\\n',\n",
              " 'григорий зевать перекатывать голова говорить\\n',\n",
              " 'степан прийти это штука батя вон женить собираться\\n',\n",
              " 'григорий улыбаться хотеть чтото сказать чувствовать рука аксинья голова както дрябло мякнуть вдавливаться подушка дрогнуть секунда снова твердеть принимать первоначальный положение\\n',\n",
              " 'кто усватать приглушенно спрашивать аксинья\\n',\n",
              " 'собираться ехать мать гутаривать кубывать коршунов ихний наталья\\n',\n",
              " 'наталья наталья девка красивый дюже красивый жениться надысь видеть церковь нарядный\\n',\n",
              " 'аксинья говорить быстро слово расползаться доходить слух неживой бесцветный слово\\n',\n",
              " 'красота голенище класть ты жениться\\n',\n",
              " 'аксинья резко выдергивать изпод голова григорий рука сухой глаз смотреть окно двор желтый ночной стыть сарай тяжелый тень свиристеть кузнечик дон гудеть водяной бык угрюмый басовитый звук ползти одинарный оконце горница\\n',\n",
              " 'гриша\\n',\n",
              " 'надумывать\\n',\n",
              " 'аксинья хватать неподатливый черствый ласка гришкин рука жать грудь холодный помертветь щека кричать стонать голос\\n',\n",
              " 'проклятый привязываться ко быть делать грииишка душа мой вынать сгубляться прийти степан ответ держать становиться вступаться\\n',\n",
              " 'григорий молчать аксинья скорбно глядеть красивый хрящеватый нос покрывать тень глаз немой губа рвать плотина сдержанность поток чувство аксинья бешено целовать лицо шея рука жесткий курчавый черный поросль грудь промежуток задыхаться шептать дрожь ощущать григорий\\n',\n",
              " 'гриша дружечка родимый давать уходить милый кинуть уходить муж кинуть лишь шахта уходить далеко кохать быть жалеть парамоновский рудник дядя родной стражник служить мы пособлять гриша хучь словцо уронить\\n',\n",
              " 'григорий угол переламывать левый бровь думать неожиданно открывать горячий свой нерусский глаз смеяться слепить насмешка\\n',\n",
              " 'дура аксинья дура гутаривать послухать нечего пойти хозяйство служба энтот год годиться дело земля никуда тронуться степь дыхнуть прошлый зима ездить батя станция былка пропадать паровоз реветь дух чижелый горелый уголь народ жить знать привыкать этот самый угар григорий сплевывать говорить никуда хутор пойти\\n',\n",
              " 'окно темнеть месяц наплывать облачко меркнуть желтый разлитой двор стыть стираться выутюжить тень разбирать темнеть плетень прошлогодний порубить хворост прислоняться плетень старюкабурьян\\n',\n",
              " 'горница густеть темень блекнуть степанов урядницкий лычки висеть окно казачий мундир серый застойный непроглядеть григорий видеть аксинья мелкий дрожь трястись плечо подушка молча подпрыгивать стискивать ладонь голова\\n',\n",
              " 'xiii\\n',\n",
              " 'день приезжать баба томилин подурнеть степан лицо виснуть глаз бровь ложбинка глубокий черствый косо прорезать лоб мало говорить товарищ изза пустяк вспыхивать начинать ссора сие поругаться вахмистр плешаков петр мелехов глядеть лопнуть вожжин дружба рано соединять тяжкий накипать злоба свой идти степан гора лошадь понести седок домой возвращаться враг\\n',\n",
              " 'приключаться такой случай ускорять развязка неопределенный враждебный отношение устанавливаться они последний время лагерь поехать попрежний впятером бричка запрягать петров конь степанов христоня свой ехать верхом андрей томилин трясти лихорадка лежать будка шинель федот бодовск лениться править поэтому кучеровать петро степан идти возле бричка плеть сбивать пунцовый головка придорожный татарник падать дождь густой чернозем смола крутиться колесо небо поосеннему сизеть запеленывать туча спускаться ночь огонь хутор сколько приглядываться видно петро щедро сыпать лошадь кнут тутто темнота крикнуть степан\\n',\n",
              " 'свой конь прижеливать мой кнут сходить\\n',\n",
              " 'глядеть дюжий чей тянуть погонять\\n',\n",
              " 'подпрег турок тягуща\\n',\n",
              " 'петро бросать вожжа\\n',\n",
              " 'ты\\n',\n",
              " 'сидеть вставать\\n',\n",
              " 'тото помолчать\\n',\n",
              " 'он прискипаться загудеть христоня подъезжать степан\\n',\n",
              " 'промолчать темнота видно лицо полчаса ехать молча шелестеть колесо грязь дремотно вызванивать брезентовый крыша будка сеять сито дождь петро бросать вожжа курить перебирать ум тот обидный слово который новый стычка сказать степан подмывать злоба хотеться хлестко выругать подлец степан осмеивать\\n',\n",
              " 'посторониться давать будка пролезать степан легонько толкнуть петр вскакивать подножка\\n',\n",
              " 'тутто неожиданно дернуться бричка становиться оскользаться грязь затопотать лошадь изпод подкова брызнуть искра громыхнуть натянутый барка\\n',\n",
              " 'трррр крикнуть петро прыгать бричка\\n',\n",
              " 'такой всполошиться степан\\n',\n",
              " 'подсказывать христоня\\n',\n",
              " 'обломаться черт\\n',\n",
              " 'засвечивать огонь\\n',\n",
              " 'серник кто\\n',\n",
              " 'степан кинуть серник\\n',\n",
              " 'впереди всхрапывать биться лошадь ктото чиркнуть спичка оранжевый колечко свет темь дрожать рука петро щупать спина упавший лошадь дернуть уздцы\\n',\n",
              " 'лошадь вздыхать повалиться бок хряпнуть дышло подбегать степан зажигать щепоть спичка конь лежать вскидывать голова передний нога колено торчать заваливать сурчина\\n',\n",
              " 'христоня суетиться отцеплять постромка\\n',\n",
              " 'нога выручать\\n',\n",
              " 'отпрягать петрова конь живо\\n',\n",
              " 'стоять проклятый трррр\\n',\n",
              " 'брыкаться дьявол сторониться\\n',\n",
              " 'труд подымать степанов конь нога измазывать петро держать уздцы христоня ползать грязь колено ощупывать безжизненный подымать нога\\n',\n",
              " 'должно переламывать пробасить\\n',\n",
              " 'федот бодовск шлепнуть дрожать лошадиный спина ладонь\\n',\n",
              " 'проводить пойти\\n',\n",
              " 'петро потянуть повод конь прыгнуть наступать левый передняя заржать томилин надевать шинель рукав горестно топтаться около\\n',\n",
              " 'врюхаться сгубить конь эх\\n',\n",
              " 'молчать время степан словно ждать отпихивать христоня кинуться петр целить голова промахиваться плечо попадать сцепляться упасть грязь треснуть комто рубаха степан подминать петр придавливать колено голова гвоздить кулачье христоня растягивать материться\\n',\n",
              " 'выхаркивать кровь кричать петро\\n',\n",
              " 'править гадюка бездорожный ездить\\n',\n",
              " 'петро рвануться христонин рука\\n',\n",
              " 'нононо баловать гудеть один рука прижимать бричка\\n',\n",
              " 'пара петрова конь припрягать низкорослый тягущого конишка федот бодовсков\\n',\n",
              " 'садиться мой приказывать степан христоня\\n',\n",
              " 'полезть будка петр\\n',\n",
              " 'полночь приезжать хутор гниловский становиться крайний куренек христоня пойти проситься ночевка обращать внимание кобель хватать пола шинель проплюхать окно открывать ставень поскрести ноготь стекло\\n',\n",
              " 'хозяин\\n',\n",
              " 'шорох дождь заливистый собачий брех\\n',\n",
              " 'хозяин эй добрый человек пускать ради христос заночевать служивый лагерь сколько пятеро ага спасать христос заезжать крикнуть повертываться ворота\\n',\n",
              " 'федот вводить двор лошадь спотыкаться свиной корыто бросать посреди двор выругаться лошадь поставлять навес сарай томилин вызванивать зуб пойти хата будка оставаться петро христоня\\n',\n",
              " 'заря собираться ехать выходить хата степан семенить древний горбатый старушонка христоня запрягать конь пожалеть\\n',\n",
              " 'эх бабунить согнулото небось церковь поклон класть способный чудок нагибаться пол\\n',\n",
              " 'соколик атаманец поклон класть ты собака вешать способный всякий свой старуха сурово улыбаться удивлять христоня густой рядом несъеденный мелкий зуб\\n',\n",
              " 'ишь зубастый чисто щука хучь бедность подарить десяток молодой жевать нечего\\n',\n",
              " 'остануся хороший\\n',\n",
              " 'ты бабка лошадиный вставлять один помирать свет зуб глядеть угодник ить цыганев\\n',\n",
              " 'мель емеля улыбаться влезать бричка томилин\\n',\n",
              " 'старуха проходить степан сарай\\n',\n",
              " 'ворона вздыхать степан\\n',\n",
              " 'старуха полагать земля свой костыль мужской уверенносильный движение подымать конь испортить нога скрючивать тонкий палец долго щупать коленный чашечка конь прижимать ухо ощеривать коричневый навес зуб приседать боль задний нога\\n',\n",
              " 'полом казачок нету оставлять полететь\\n',\n",
              " 'толкто бабунить\\n',\n",
              " 'толк знать славный должно толк\\n',\n",
              " 'степан махнуть рука пойти бричка\\n',\n",
              " 'оставлять ай щуриться вслед старуха\\n',\n",
              " 'пущать оставаться\\n',\n",
              " 'вылечивать оставлять три нога взять кругом нога ветинар горб находить хохотать христоня\\n',\n",
              " 'xiv\\n',\n",
              " 'тосковать немой родной бабунюшка свой глазынька сохнуть успевать юбка ушивать день широкий становиться пройти мимо база сердце закипать упасть б наземь след б целовать присушивать пособлять бабунюшка женить собираться пособлять родной стоять отдавать хучь последний рубаха сым пособлять\\n',\n",
              " 'светлый кружево морщина глаз глядеть бабка дроздиха аксинья качать голова горький слово рассказ\\n',\n",
              " 'чей паренекто\\n',\n",
              " 'пантелей мелехов\\n',\n",
              " 'турок\\n',\n",
              " 'бабка жевать вваливаться рот медлить ответ\\n',\n",
              " 'прийти бабонька рано завтра заниматься зорька прийти дон пойти вода тоска отливать сольца прихватывать щепоть дом такто\\n',\n",
              " 'аксинья кутать желтый полушалок лицо сгорбиться выходить ворота\\n',\n",
              " 'темный фигура рассасываться ночь сухо черкать подошва чириков смолкать шаг гдеть край хутор драться реветь песня\\n',\n",
              " 'рассвет аксинья спать ночь дроздихин окно\\n',\n",
              " 'бабушка\\n',\n",
              " 'бабушка вставать\\n',\n",
              " 'зараз одеваться\\n',\n",
              " 'проулок спускаться дон пристань возле мосток мокнуть вода бросать передок арба песок вода леденистый колок дон течь сырой студеный мгла\\n',\n",
              " 'дроздиха брать костистый рука аксиньин рука тянуть вода\\n',\n",
              " 'соль взять давать сюд кстись восход\\n',\n",
              " 'аксинья креститься злобно глядеть счастливый розовость восток\\n',\n",
              " 'зачерпывать вода пригоршня испивать командовать дроздиха\\n',\n",
              " 'аксинья измачивать рукав кофта напиваться бабка черный паук раскорячиваться ленивый волна приседать корточки зашептать\\n',\n",
              " 'студеный ключ дно текучий плоть горючий зверь сердце тоскалихоманица крест святой пречистый пресвятой раб божий григорий доноситься слух аксинья\\n',\n",
              " 'дроздиха посыпать соль влажный песчаный россыпь нога сыпануть вода остаток аксинья пазуха\\n',\n",
              " 'плеснуть плечо водица скоро\\n',\n",
              " 'аксинья проделывать тоска злоба оглядывать коричневый щека дроздиха\\n',\n",
              " 'поди милый позоревать\\n',\n",
              " 'запыхаться прибегать аксинья домой база мычать корова мелехов дарья заспанный румяный поводить красивый дуга бровь гнать табун свой корова улыбаться оглядывать бежать мимо аксинья\\n',\n",
              " 'здорово ночевать соседка\\n',\n",
              " 'слава бог\\n',\n",
              " 'гдейто спозаранку мотаться\\n',\n",
              " 'один место дело\\n',\n",
              " 'зазвонить утреня рассыпчатый ломкий падать медноголосый всплеск проулок щелкать арапник подпасок\\n',\n",
              " 'аксинья спешить выгонять корова понести сенцы цедить молоко вытирать завеска рука засучивать локоть рукав думать чемто свой плескать запениться цедилка молоко\\n',\n",
              " 'улица резко зацокать колесо заржать конь аксинья поставлять цебарка пойти глянуть окно\\n',\n",
              " 'калитка придерживать шашка идти степан обгонять друг друг скакать площадь казак аксинья скомкивать палец завеска садиться лавка крыльцо шаг шаг сенцы шаг самый дверь\\n',\n",
              " 'степан становиться порог исхудать чужой\\n',\n",
              " 'аксинья вихляться весь свой крупный полный тело пойти навстречу\\n',\n",
              " 'бить протяжно сказать становиться бок\\n',\n",
              " 'аксинья\\n',\n",
              " 'таиться грех бить степан\\n',\n",
              " 'вбирать голова плечо сжиматься комок защищать рука живот стоять он лицо обезображивать страх лицо глядеть глаз черный круг мигать степан качнуться проходить мимо пахнуть запах мужской пот полынный дорожный горечь нестираный рубаха скидывать фуражка ложиться кровать полежать поводить плечо сбрасывать портупея лихо закручивать русый ус квело свисать вниз аксинья повертывать голова сбоку глядеть редко вздрагивать степан полагать нога спинка кровать сапог вязко тянуться закрутеть грязь смотреть потолок перебирать палец ременный темляк шашка\\n',\n",
              " 'ишо стряпаться\\n',\n",
              " 'соберик чтонибудь пожирать\\n',\n",
              " 'хлебать чашка молоко обсасывать ус хлеб жевать подолгу щека кататься обтянутый розовый кожа желвак аксинья стоять печка жаркий ужас глядеть маленький хрящеватый ухо муж ползать еда вверх вниз\\n',\n",
              " 'степан вылезать изза стол перекрещиваться\\n',\n",
              " 'рассказывать милаха короче попросить\\n',\n",
              " 'нагибать голова аксинья собирать стол молчать\\n',\n",
              " 'рассказывать муж ждать мужнин честь беречь\\n',\n",
              " 'страшный удар голова вырывать изпод нога земля кинуть аксинья порог стукнуться дверной притолока спина глухо ахнуть\\n',\n",
              " 'баба квелый пустомясый ядреный каршеватый атаманец уметь степан валить нога ловкий удар голова страх подымать аксинья снести бабий живучий натура отлеживаться отдышаться вставать четвереньки\\n',\n",
              " 'закуривать степан посреди хата прозевывать подниматься аксинья дыбка кинуть стол кисет дверь хлопнуть погнаться\\n',\n",
              " 'аксинья заливать кровь ветер нестись плетень отделять двор мелеховский плетень степан настигать черный рука ястреб упасть голова промеж сжатый палец набиваться волос рвануть повалить земля зола тот зола который аксинья истапливать печь изо день день сыпать плетень\\n',\n",
              " 'муж закладывать рука спина охаживать собственный жена сапог идти мимо безрукий алешка шамиль поглядеть поморгать раздвигать кустастый бороденка улыбка очень понятно жаловать степан законный\\n',\n",
              " 'останавливаться шамиль поглядеть кто доводиться таки любопытно смерть убивать совесть дозволять баба какникак\\n',\n",
              " 'издали степан глядеть казачка человек вытанцовывать подумать гришка увидеть окно горница подпрыгивать степан доглядывать выскочить курень плетень бежать цыпочки плотно прижимать грудь занеметь кулак следом тяжко тупать сапог петро\\n',\n",
              " 'высокий плетень григорий махнуть птица разбег сзади хлобыстнуть занятый степан качнуться обертываться пойти гришка медведь\\n',\n",
              " 'брат мелехов драться отчаянно клевать степан стервятник падаль несколько гришка катиться наземь сбивать степанова кулачный свинчатка жидковатый против заматереть степан низенький вьюн петро гнуться удар камыш ветер нога стоять твердо\\n',\n",
              " 'степан сверкать один глаз затекать опухоль цвет недоспелый слива отступать крыльцо\\n',\n",
              " 'разнимать христоня приходить петр уздечка\\n',\n",
              " 'расходиться махнуть клешнятый рука расходиться атаман\\n',\n",
              " 'петро бережно выплюнуть ладонь кровь половина зуб сказать хрипло\\n',\n",
              " 'пойти гришка однорядь подсиживать\\n',\n",
              " 'нешто попадаться грозить крыльцо подсинивать многий место степан\\n',\n",
              " 'ладно ладно\\n',\n",
              " 'ладный душа потроха вынимать\\n',\n",
              " 'всурьез шутейно\\n',\n",
              " 'степан быстро сходить крыльцо гришка рвануться он навстречу христоня толкать калитка пообещать\\n',\n",
              " 'связываться изматывать цуцик\\n',\n",
              " 'день калмыцкий узелок завязываться мелехов степан астахов злоба\\n',\n",
              " 'суждено григорий мелехов развязывать узелок год спустя восточный пруссия город столыпин\\n',\n",
              " 'xv\\n',\n",
              " 'петр сказать запрягать кобыла свой конь\\n',\n",
              " 'григорий выходить база петро выкатывать изпод навес сарай бричка\\n',\n",
              " 'батя велеть запрягать кобыла твой\\n',\n",
              " 'знать пущать затыкаться направлять дышло отзываться петро\\n',\n",
              " 'пантелей прокофиевич торжественный ктитор обедня дохлебывать щи омываться горячий\\n',\n",
              " 'дуняшка шустро оглядывать григорий гдеть тенистый холодок выгибать ресница припрятывать девичий смешокулыбка ильинична кургузый важный палевый праздничный шаль таить угол губа материнский тревога взглядывать григорий старик\\n',\n",
              " 'будить ты прокофьич напихиваться чисто оголодать\\n',\n",
              " 'поисть давать тото латоха\\n',\n",
              " 'дверь просовывать длинный пшеничножелтый ус петро\\n',\n",
              " 'пжаловать фаитон подавать\\n',\n",
              " 'дуняшка прыснуть смех закрываться рукав\\n',\n",
              " 'проходить кухня дарья поиграть тонкий обод бровь оглядывать жених\\n',\n",
              " 'сваха ехать двоюродный сестра ильинична жохбаба вдовый тетка василиса первый угнездиться бричка вертеть круглый речной голыш голова посмеиваться изпод оборка губа показывать кривой черный зуб\\n',\n",
              " 'васенка тамто скалиться предупреждать пантелей прокофиевич могешь дело испакостить пасть зубытый пьяный посадить рот туда кривиться наоборот\\n',\n",
              " 'эх куманек сватаютто жених\\n',\n",
              " 'такто таки смеиться зубытый чернота один поганый глядеть\\n',\n",
              " 'василиса обижаться час петро расхлебенить ворота григорий разбирать пахучий ременный вожжа вскакивать козлы пантелей прокофиевич ильинична зад бричка рядком давать взять молодой\\n',\n",
              " 'кнут вваливать крикнуть петро выпускать рука повод\\n',\n",
              " 'играть черт гришка куснуть губа кнут конь перебирать ухо\\n',\n",
              " 'лошадь натягивать постромка резко взять место\\n',\n",
              " 'глядеть зацепляться взвизгивать дарья бричка круто вильнуть подпрыгивать придорожный кочка затараторить вдоль улица\\n',\n",
              " 'свешиваться набок григорий горячить кнут играть упряжка петров строевик пантелей прокофиевич ладонь держать борода словно опасаться подхватывать уносить ветер\\n',\n",
              " 'кобыла рубануть ворочать сторона глаз сипеть наклоняться григорьева спина\\n',\n",
              " 'ильинична кружевной рукав кофта вытирать выжимать ветер слезинка мигать глядеть спина григорий трепетать надуваться ветер горб сатиновый синий рубаха встречный казак сторониться подолгу глядеть вслед собака выскакивать двор катиться нога лошадь лай слышно гул заново ошиненный колесо\\n',\n",
              " 'григорий жалеть кнут лошадь десять минута хутор ложиться позади дорога зеленый закружиться сад последний двор коршуновский просторный курень дощатый забор григорий дернуть вожжа бричка оборвать железный рассказ полуслово становиться крашеный мелкий резьба ворота\\n',\n",
              " 'григорий оставаться лошадь пантелей прокофиевич захромать крыльцо шелест юбка поплыть красномаковый ильинична василиса неумолимо твердо спаять губа старик спешить бояться утрачивать припасать дорогой смелость спотыкаться высокий порожек зашибать хромой нога морщиться боль буйно затопотать вымывать сходец\\n',\n",
              " 'входить курень вместе ильинична невыгодно стоять рядом жена выше добрый четверть поэтому ступать порог шаг вперед поджинать покочетин нога скидывать фуражка перекрещиваться черный мутный письмо икона\\n',\n",
              " 'здорово жить\\n',\n",
              " 'слава бог отвечать привставать лавка хозяин невысокий конопатый престарелый казак\\n',\n",
              " 'принимать гость мирон григорьевич\\n',\n",
              " 'гость завсегда рад марья давать человек приседать\\n',\n",
              " 'пожилой плоскогрудый хозяйка вид обмахнуть табурет подвигать гость пантелей прокофиевич садиться краешек вытирать утирка взмокать смуглый лоб\\n',\n",
              " 'это дело начинать обиняк\\n',\n",
              " 'место речь ильинична василиса подворачивать юбка приседать\\n',\n",
              " 'жалиться какой такой дело улыбаться хозяин\\n',\n",
              " 'входить григорий зыркнуть сторона\\n',\n",
              " 'здорово ночевать\\n',\n",
              " 'слава бог протяжно отвечать хозяйка\\n',\n",
              " 'слава бог подтверждать хозяин сквозь веснушка устрекать лицо проступать коричневый краска догадываться приезжать гость сказать конь ихний вводить база нехай сено кинуть обращаться жена\\n',\n",
              " 'тот выходить\\n',\n",
              " 'дельце малость иметь продолжать пантелей прокофиевич ворошить кудрявый смола борода подергивать волнение серьга девка невеста жених снюхиваться какой случай узнавать хотеться быть выдавать зараз породниться\\n',\n",
              " 'знать хозяин почесать лысеть голова думать признаваться нонешний мясоед выдавать дело пропастишша туттаки годок дюже осьмнадцатый весна переходить ить марья\\n',\n",
              " 'теперича самый светок лазоревый держать аль мало перестарок девка кулюкать выступать василиса ерзать табурет колоть украсть сенцы сунуть кофта веник примета сват украсть невеста веник получать отказ\\n',\n",
              " 'наш наезжать сват ишо провесна наш засиживаться девка нечего богамилостивец гневовать все взять поле дом\\n',\n",
              " 'попадаться добрый человек выдавать протискиваться пантелей прокофиевич бабий трескучий разговор\\n',\n",
              " 'выдавать вопрос чесаться хозяин выдавать любой время\\n',\n",
              " 'пантелей прокофиевич подумать отказывать загорячиться\\n',\n",
              " 'оно самый себя дело хозяйский жених навроде старец хотеть просить пример искать купецкий звание жених аль ишо наоборот звинять\\n',\n",
              " 'дело срываться пантелей прокофиевич пыхтеть наливаться бураков сок невестин мать кудахтать наседка тень коршун нужный минута ввязываться василиса посыпать мелкий тихий скороговорка соль обжигать место связывать разрыв\\n',\n",
              " 'родимый мой дело такой зайти значиться порешить порядок дитя свой счастие хучь наталья такихто девка бел свет поискать работа вар рука рукодельница хозяйка себя человек добрый сам видеть разводить приятный округлость рука обращаться пантелей прокофиевич надувать ильинична женишок хучь глянуть ажник сердце тоска вдариться мой покойный донюшка схожий семейство ихний шибко работящий прокофьевичто кинуть округ весь свет звестный человек благодетель добрый слово аль ребенок свой супротивник лиходей\\n',\n",
              " 'течь пантелей прокофиевич ухо патока свашенькин журчливый голосок слушать старик мелехов думать восхищаться эк чесать дьявол языкастый сказать чулок вязать петлюет успевать разуметь что иной баба забивать казак разный слово ишь моль юбка любоваться сваха пластаться похвала невеста невестин родня начинать пятый колено\\n',\n",
              " 'гутаривать зло дитя свой желать\\n',\n",
              " 'речь выдавать кубывать рано миротворять хозяин лосниться улыбка\\n',\n",
              " 'рано истинный бог рано уговаривать пантелей прокофиевич\\n',\n",
              " 'приходиться рано ль поздно ль расставаться всхлипывать хозяйка полупритворно полуискренне\\n',\n",
              " 'кликать дочерять мирон григорьевич поглядеть\\n',\n",
              " 'наталья\\n',\n",
              " 'дверь несмело становиться невеста смуглый палец суетливо перебирать оборка фартук\\n',\n",
              " 'проходить проходить ишь засовеститься подбадривать мать улыбаться сквозь слезный муть\\n',\n",
              " 'григорий сидеть возле тяжелый голубой слинялый цветок сундук глянуть\\n',\n",
              " 'черный стоячий пыль коклюшковый коклюшковый связанный коклюшка палочка шарф смелый серый глаз упругий щека дрожать смущение сдержанный улыбка неглубокий розоветь ямка григорий переводить взгляд рука большой раздавливать работа зеленый кофточка охватывать плотный сбитень тело наивно жалко высовываться подниматься вверх врозь небольшой девичьекаменный грудь пуговка торчать остренький сосок\\n',\n",
              " 'григорьев глаз минута обежать голова высокий красивый нога осматривать барышник оглядывать маткукобылица покупка подумать хороший встречаться глаз направлять упор бесхитростный смущенный правдивый взгляд словно говорить весь хотеть судить славный отвечать григорий глаз улыбка\\n',\n",
              " 'ступать хозяин махнуть рука\\n',\n",
              " 'наталья прикрывать себя дверь глянуть григорий скрывать улыбка любопытство\\n',\n",
              " 'пантелей прокофиевич начинать хозяин переглядываться жена посоветовать посоветовать промеж семейно порешить дело быть сват аль быть\\n',\n",
              " 'сходить крыльцо пантелей прокофиевич сулить\\n',\n",
              " 'пребудущее воскресение набегем\\n',\n",
              " 'хозяин провожать ворота умышленно промолчать слышать\\n',\n",
              " 'xvi\\n',\n",
              " 'узнавать томилина аксинья понимать степан вынашивать душа тоска ненависть несмотря плохой жизнь тот давнишний обида любить тяжкий ненавидеть любовь\\n',\n",
              " 'ночь лежать повозка укрываться шинель заламывать голова рука думать вернуться домой встречать жена чувствовать словно вместо сердце копошиться грудь ядовитый тарантул лежать готовить ум тысяча подробность расправа такой ощущение зуб зернистый крупный песок расплескивать злоба драка петр домой приезжать вялый потомуто легко отделываться аксинья\\n',\n",
              " 'день приживаться астаховский курень невидимый покойник аксинья ходить цыпочки говорить шепотом глаз присыпать пепел страх приметно тлеть уголек оставаться зажигать гришка пожар\\n',\n",
              " 'вглядываться степан скоро чувствовать это видеть мучиться ночь кухня камелек засыпать мушиный стадо аксинья дрожать губа стлать постель бить степан зажимать рот черный шершавый ладонь выспрашивать бесстыдно подробность связь гришка аксинья метаться твердый запах овчина кровать трудно дышать степан примориться истязать мягкий закрутеть тесто тело шарить лицо рука слеза искать щека аксинья пламенно сухой двигаться палец степан сжиматься разжиматься челюсть\\n',\n",
              " 'сказать\\n',\n",
              " 'убивать\\n',\n",
              " 'убивать убивать ради христос отмучаться житие\\n',\n",
              " 'стискивать зуб степан закручивать женин грудь прохладный пот тонкий кожа\\n',\n",
              " 'аксинья вздрагивать стонать\\n',\n",
              " 'больно ль веселеть степан\\n',\n",
              " 'больно\\n',\n",
              " 'думать больно\\n',\n",
              " 'засыпать поздно сон сжиматься двигать черный пухлый сустав палец аксинья приподниматься локоть подолгу глядеть красивый изменять сон лицо муж ронять подушка голова чтото шептать\\n',\n",
              " 'гришка видеть както дон повстречаться григорий пригонять поить бык подниматься спуск помахивать красненький хворостинка глядеть нога аксинья идти навстречу увидеть почувствовать похолодеть рука коромысло жар осыпать кровь висок\\n',\n",
              " 'вспоминать встреча стоить немалый усилие уверять это наяву григорий увидеть поравняться требовательный скрип ведро приподымать голова дрогнуть бровь глупо улыбаться аксинья идти глядеть голова зеленый дышать волна дон далеко гребень песчаный коса\\n',\n",
              " 'краска выжимать глаз слеза\\n',\n",
              " 'ксюша\\n',\n",
              " 'аксинья проходить несколько шаг становиться нагибать голова удар григорий злобно хлестнуть хворостина отставать мурогий бык сказать повертывать голова\\n',\n",
              " 'степан выезжать жито косить\\n',\n",
              " 'зараз запрягать\\n',\n",
              " 'проводить идти наш подсолнух займище прийти\\n',\n",
              " 'поскрипывать ведро аксинья сходить дон берег желтый пышный кружево зеленый подол волна змеиться пена белый чайкирыболов крик носиться дон\\n',\n",
              " 'серебряный дождь сыпать поверхность вода мелочьрыбешка тот сторона белье песчаный коса величаво строго выситься седой ветер вершина старый тополь аксинья черпать вода уронить ведро подымать левый рука юбка забредать колено вода щекотать натертый подвязка икра аксинья первый приезд степан засмеяться тихо неуверенно\\n',\n",
              " 'оглянуться гришка помахивать хворостинка отгонять овод медленно взбираться спуск\\n',\n",
              " 'аксинья ласкать мутный прихлынуть слеза взор сильный нога уверенно попирать земля широкий гришкин шаровары заправлять белый шерстяной чулок алеть лампас спина возле лопатка трепыхаться клочок свежепорывать грязный рубаха желтеть смуглый треугольник оголять тело аксинья целовать глаз крохотный когдатый принадлежать кусочек любимый тело слеза падать улыбаться побледнеть губа\\n',\n",
              " 'поставлять песок ведро цеплять дужка зубец коромысло увидеть песок след оставлять остроносый гришкин чирик воровато оглядеться никто лишь дальний пристань купаться ребятишки приседать корточки прикрывать ладонь след вскидывать плечо коромысло улыбаться заспешить домой\\n',\n",
              " ...]"
            ]
          },
          "metadata": {},
          "execution_count": 100
        }
      ]
    },
    {
      "cell_type": "markdown",
      "source": [
        "Слов в романе: \t106356"
      ],
      "metadata": {
        "id": "olYZuOwiCIt2"
      }
    },
    {
      "cell_type": "markdown",
      "source": [
        "###Токенизация"
      ],
      "metadata": {
        "id": "ihqVxh_nZN05"
      }
    },
    {
      "cell_type": "code",
      "source": [
        "text = \"Я учусь в физико-математическом институте. Меня зовут К.С.Астанова.\""
      ],
      "metadata": {
        "id": "dmS6scL1ZNTb"
      },
      "execution_count": 22,
      "outputs": []
    },
    {
      "cell_type": "code",
      "source": [
        "!pip install tensorflow-text spacy==3.3"
      ],
      "metadata": {
        "colab": {
          "base_uri": "https://localhost:8080/"
        },
        "id": "tBMeQVraZxKg",
        "outputId": "5a09796c-dc9f-460d-ae6c-51257f6be297"
      },
      "execution_count": 23,
      "outputs": [
        {
          "output_type": "stream",
          "name": "stdout",
          "text": [
            "Looking in indexes: https://pypi.org/simple, https://us-python.pkg.dev/colab-wheels/public/simple/\n",
            "Collecting tensorflow-text\n",
            "  Downloading tensorflow_text-2.12.1-cp310-cp310-manylinux_2_17_x86_64.manylinux2014_x86_64.whl (6.0 MB)\n",
            "\u001b[2K     \u001b[90m━━━━━━━━━━━━━━━━━━━━━━━━━━━━━━━━━━━━━━━━\u001b[0m \u001b[32m6.0/6.0 MB\u001b[0m \u001b[31m57.9 MB/s\u001b[0m eta \u001b[36m0:00:00\u001b[0m\n",
            "\u001b[?25hCollecting spacy==3.3\n",
            "  Downloading spacy-3.3.0-cp310-cp310-manylinux_2_17_x86_64.manylinux2014_x86_64.whl (6.3 MB)\n",
            "\u001b[2K     \u001b[90m━━━━━━━━━━━━━━━━━━━━━━━━━━━━━━━━━━━━━━━━\u001b[0m \u001b[32m6.3/6.3 MB\u001b[0m \u001b[31m80.7 MB/s\u001b[0m eta \u001b[36m0:00:00\u001b[0m\n",
            "\u001b[?25hRequirement already satisfied: spacy-legacy<3.1.0,>=3.0.9 in /usr/local/lib/python3.10/dist-packages (from spacy==3.3) (3.0.12)\n",
            "Requirement already satisfied: spacy-loggers<2.0.0,>=1.0.0 in /usr/local/lib/python3.10/dist-packages (from spacy==3.3) (1.0.4)\n",
            "Requirement already satisfied: murmurhash<1.1.0,>=0.28.0 in /usr/local/lib/python3.10/dist-packages (from spacy==3.3) (1.0.9)\n",
            "Requirement already satisfied: cymem<2.1.0,>=2.0.2 in /usr/local/lib/python3.10/dist-packages (from spacy==3.3) (2.0.7)\n",
            "Requirement already satisfied: preshed<3.1.0,>=3.0.2 in /usr/local/lib/python3.10/dist-packages (from spacy==3.3) (3.0.8)\n",
            "Collecting thinc<8.1.0,>=8.0.14 (from spacy==3.3)\n",
            "  Downloading thinc-8.0.17-cp310-cp310-manylinux_2_17_x86_64.manylinux2014_x86_64.whl (659 kB)\n",
            "\u001b[2K     \u001b[90m━━━━━━━━━━━━━━━━━━━━━━━━━━━━━━━━━━━━━━\u001b[0m \u001b[32m659.5/659.5 kB\u001b[0m \u001b[31m72.6 MB/s\u001b[0m eta \u001b[36m0:00:00\u001b[0m\n",
            "\u001b[?25hRequirement already satisfied: blis<0.8.0,>=0.4.0 in /usr/local/lib/python3.10/dist-packages (from spacy==3.3) (0.7.9)\n",
            "Collecting wasabi<1.1.0,>=0.9.1 (from spacy==3.3)\n",
            "  Downloading wasabi-0.10.1-py3-none-any.whl (26 kB)\n",
            "Requirement already satisfied: srsly<3.0.0,>=2.4.3 in /usr/local/lib/python3.10/dist-packages (from spacy==3.3) (2.4.6)\n",
            "Requirement already satisfied: catalogue<2.1.0,>=2.0.6 in /usr/local/lib/python3.10/dist-packages (from spacy==3.3) (2.0.8)\n",
            "Collecting typer<0.5.0,>=0.3.0 (from spacy==3.3)\n",
            "  Downloading typer-0.4.2-py3-none-any.whl (27 kB)\n",
            "Requirement already satisfied: pathy>=0.3.5 in /usr/local/lib/python3.10/dist-packages (from spacy==3.3) (0.10.1)\n",
            "Requirement already satisfied: tqdm<5.0.0,>=4.38.0 in /usr/local/lib/python3.10/dist-packages (from spacy==3.3) (4.65.0)\n",
            "Requirement already satisfied: numpy>=1.15.0 in /usr/local/lib/python3.10/dist-packages (from spacy==3.3) (1.22.4)\n",
            "Requirement already satisfied: requests<3.0.0,>=2.13.0 in /usr/local/lib/python3.10/dist-packages (from spacy==3.3) (2.27.1)\n",
            "Collecting pydantic!=1.8,!=1.8.1,<1.9.0,>=1.7.4 (from spacy==3.3)\n",
            "  Downloading pydantic-1.8.2-py3-none-any.whl (126 kB)\n",
            "\u001b[2K     \u001b[90m━━━━━━━━━━━━━━━━━━━━━━━━━━━━━━━━━━━━━━\u001b[0m \u001b[32m126.0/126.0 kB\u001b[0m \u001b[31m20.3 MB/s\u001b[0m eta \u001b[36m0:00:00\u001b[0m\n",
            "\u001b[?25hRequirement already satisfied: jinja2 in /usr/local/lib/python3.10/dist-packages (from spacy==3.3) (3.1.2)\n",
            "Requirement already satisfied: setuptools in /usr/local/lib/python3.10/dist-packages (from spacy==3.3) (67.7.2)\n",
            "Requirement already satisfied: packaging>=20.0 in /usr/local/lib/python3.10/dist-packages (from spacy==3.3) (23.1)\n",
            "Requirement already satisfied: langcodes<4.0.0,>=3.2.0 in /usr/local/lib/python3.10/dist-packages (from spacy==3.3) (3.3.0)\n",
            "Requirement already satisfied: tensorflow-hub>=0.8.0 in /usr/local/lib/python3.10/dist-packages (from tensorflow-text) (0.13.0)\n",
            "Requirement already satisfied: tensorflow<2.13,>=2.12.0 in /usr/local/lib/python3.10/dist-packages (from tensorflow-text) (2.12.0)\n",
            "Requirement already satisfied: smart-open<7.0.0,>=5.2.1 in /usr/local/lib/python3.10/dist-packages (from pathy>=0.3.5->spacy==3.3) (6.3.0)\n",
            "Requirement already satisfied: typing-extensions>=3.7.4.3 in /usr/local/lib/python3.10/dist-packages (from pydantic!=1.8,!=1.8.1,<1.9.0,>=1.7.4->spacy==3.3) (4.5.0)\n",
            "Requirement already satisfied: urllib3<1.27,>=1.21.1 in /usr/local/lib/python3.10/dist-packages (from requests<3.0.0,>=2.13.0->spacy==3.3) (1.26.15)\n",
            "Requirement already satisfied: certifi>=2017.4.17 in /usr/local/lib/python3.10/dist-packages (from requests<3.0.0,>=2.13.0->spacy==3.3) (2022.12.7)\n",
            "Requirement already satisfied: charset-normalizer~=2.0.0 in /usr/local/lib/python3.10/dist-packages (from requests<3.0.0,>=2.13.0->spacy==3.3) (2.0.12)\n",
            "Requirement already satisfied: idna<4,>=2.5 in /usr/local/lib/python3.10/dist-packages (from requests<3.0.0,>=2.13.0->spacy==3.3) (3.4)\n",
            "Requirement already satisfied: absl-py>=1.0.0 in /usr/local/lib/python3.10/dist-packages (from tensorflow<2.13,>=2.12.0->tensorflow-text) (1.4.0)\n",
            "Requirement already satisfied: astunparse>=1.6.0 in /usr/local/lib/python3.10/dist-packages (from tensorflow<2.13,>=2.12.0->tensorflow-text) (1.6.3)\n",
            "Requirement already satisfied: flatbuffers>=2.0 in /usr/local/lib/python3.10/dist-packages (from tensorflow<2.13,>=2.12.0->tensorflow-text) (23.3.3)\n",
            "Requirement already satisfied: gast<=0.4.0,>=0.2.1 in /usr/local/lib/python3.10/dist-packages (from tensorflow<2.13,>=2.12.0->tensorflow-text) (0.4.0)\n",
            "Requirement already satisfied: google-pasta>=0.1.1 in /usr/local/lib/python3.10/dist-packages (from tensorflow<2.13,>=2.12.0->tensorflow-text) (0.2.0)\n",
            "Requirement already satisfied: grpcio<2.0,>=1.24.3 in /usr/local/lib/python3.10/dist-packages (from tensorflow<2.13,>=2.12.0->tensorflow-text) (1.54.0)\n",
            "Requirement already satisfied: h5py>=2.9.0 in /usr/local/lib/python3.10/dist-packages (from tensorflow<2.13,>=2.12.0->tensorflow-text) (3.8.0)\n",
            "Requirement already satisfied: jax>=0.3.15 in /usr/local/lib/python3.10/dist-packages (from tensorflow<2.13,>=2.12.0->tensorflow-text) (0.4.10)\n",
            "Requirement already satisfied: keras<2.13,>=2.12.0 in /usr/local/lib/python3.10/dist-packages (from tensorflow<2.13,>=2.12.0->tensorflow-text) (2.12.0)\n",
            "Requirement already satisfied: libclang>=13.0.0 in /usr/local/lib/python3.10/dist-packages (from tensorflow<2.13,>=2.12.0->tensorflow-text) (16.0.0)\n",
            "Requirement already satisfied: opt-einsum>=2.3.2 in /usr/local/lib/python3.10/dist-packages (from tensorflow<2.13,>=2.12.0->tensorflow-text) (3.3.0)\n",
            "Requirement already satisfied: protobuf!=4.21.0,!=4.21.1,!=4.21.2,!=4.21.3,!=4.21.4,!=4.21.5,<5.0.0dev,>=3.20.3 in /usr/local/lib/python3.10/dist-packages (from tensorflow<2.13,>=2.12.0->tensorflow-text) (3.20.3)\n",
            "Requirement already satisfied: six>=1.12.0 in /usr/local/lib/python3.10/dist-packages (from tensorflow<2.13,>=2.12.0->tensorflow-text) (1.16.0)\n",
            "Requirement already satisfied: tensorboard<2.13,>=2.12 in /usr/local/lib/python3.10/dist-packages (from tensorflow<2.13,>=2.12.0->tensorflow-text) (2.12.2)\n",
            "Requirement already satisfied: tensorflow-estimator<2.13,>=2.12.0 in /usr/local/lib/python3.10/dist-packages (from tensorflow<2.13,>=2.12.0->tensorflow-text) (2.12.0)\n",
            "Requirement already satisfied: termcolor>=1.1.0 in /usr/local/lib/python3.10/dist-packages (from tensorflow<2.13,>=2.12.0->tensorflow-text) (2.3.0)\n",
            "Requirement already satisfied: wrapt<1.15,>=1.11.0 in /usr/local/lib/python3.10/dist-packages (from tensorflow<2.13,>=2.12.0->tensorflow-text) (1.14.1)\n",
            "Requirement already satisfied: tensorflow-io-gcs-filesystem>=0.23.1 in /usr/local/lib/python3.10/dist-packages (from tensorflow<2.13,>=2.12.0->tensorflow-text) (0.32.0)\n",
            "Requirement already satisfied: click<9.0.0,>=7.1.1 in /usr/local/lib/python3.10/dist-packages (from typer<0.5.0,>=0.3.0->spacy==3.3) (8.1.3)\n",
            "Requirement already satisfied: MarkupSafe>=2.0 in /usr/local/lib/python3.10/dist-packages (from jinja2->spacy==3.3) (2.1.2)\n",
            "Requirement already satisfied: wheel<1.0,>=0.23.0 in /usr/local/lib/python3.10/dist-packages (from astunparse>=1.6.0->tensorflow<2.13,>=2.12.0->tensorflow-text) (0.40.0)\n",
            "Requirement already satisfied: ml-dtypes>=0.1.0 in /usr/local/lib/python3.10/dist-packages (from jax>=0.3.15->tensorflow<2.13,>=2.12.0->tensorflow-text) (0.1.0)\n",
            "Requirement already satisfied: scipy>=1.7 in /usr/local/lib/python3.10/dist-packages (from jax>=0.3.15->tensorflow<2.13,>=2.12.0->tensorflow-text) (1.10.1)\n",
            "Requirement already satisfied: google-auth<3,>=1.6.3 in /usr/local/lib/python3.10/dist-packages (from tensorboard<2.13,>=2.12->tensorflow<2.13,>=2.12.0->tensorflow-text) (2.17.3)\n",
            "Requirement already satisfied: google-auth-oauthlib<1.1,>=0.5 in /usr/local/lib/python3.10/dist-packages (from tensorboard<2.13,>=2.12->tensorflow<2.13,>=2.12.0->tensorflow-text) (1.0.0)\n",
            "Requirement already satisfied: markdown>=2.6.8 in /usr/local/lib/python3.10/dist-packages (from tensorboard<2.13,>=2.12->tensorflow<2.13,>=2.12.0->tensorflow-text) (3.4.3)\n",
            "Requirement already satisfied: tensorboard-data-server<0.8.0,>=0.7.0 in /usr/local/lib/python3.10/dist-packages (from tensorboard<2.13,>=2.12->tensorflow<2.13,>=2.12.0->tensorflow-text) (0.7.0)\n",
            "Requirement already satisfied: tensorboard-plugin-wit>=1.6.0 in /usr/local/lib/python3.10/dist-packages (from tensorboard<2.13,>=2.12->tensorflow<2.13,>=2.12.0->tensorflow-text) (1.8.1)\n",
            "Requirement already satisfied: werkzeug>=1.0.1 in /usr/local/lib/python3.10/dist-packages (from tensorboard<2.13,>=2.12->tensorflow<2.13,>=2.12.0->tensorflow-text) (2.3.0)\n",
            "Requirement already satisfied: cachetools<6.0,>=2.0.0 in /usr/local/lib/python3.10/dist-packages (from google-auth<3,>=1.6.3->tensorboard<2.13,>=2.12->tensorflow<2.13,>=2.12.0->tensorflow-text) (5.3.0)\n",
            "Requirement already satisfied: pyasn1-modules>=0.2.1 in /usr/local/lib/python3.10/dist-packages (from google-auth<3,>=1.6.3->tensorboard<2.13,>=2.12->tensorflow<2.13,>=2.12.0->tensorflow-text) (0.3.0)\n",
            "Requirement already satisfied: rsa<5,>=3.1.4 in /usr/local/lib/python3.10/dist-packages (from google-auth<3,>=1.6.3->tensorboard<2.13,>=2.12->tensorflow<2.13,>=2.12.0->tensorflow-text) (4.9)\n",
            "Requirement already satisfied: requests-oauthlib>=0.7.0 in /usr/local/lib/python3.10/dist-packages (from google-auth-oauthlib<1.1,>=0.5->tensorboard<2.13,>=2.12->tensorflow<2.13,>=2.12.0->tensorflow-text) (1.3.1)\n",
            "Requirement already satisfied: pyasn1<0.6.0,>=0.4.6 in /usr/local/lib/python3.10/dist-packages (from pyasn1-modules>=0.2.1->google-auth<3,>=1.6.3->tensorboard<2.13,>=2.12->tensorflow<2.13,>=2.12.0->tensorflow-text) (0.5.0)\n",
            "Requirement already satisfied: oauthlib>=3.0.0 in /usr/local/lib/python3.10/dist-packages (from requests-oauthlib>=0.7.0->google-auth-oauthlib<1.1,>=0.5->tensorboard<2.13,>=2.12->tensorflow<2.13,>=2.12.0->tensorflow-text) (3.2.2)\n",
            "Installing collected packages: wasabi, typer, pydantic, thinc, spacy, tensorflow-text\n",
            "  Attempting uninstall: wasabi\n",
            "    Found existing installation: wasabi 1.1.1\n",
            "    Uninstalling wasabi-1.1.1:\n",
            "      Successfully uninstalled wasabi-1.1.1\n",
            "  Attempting uninstall: typer\n",
            "    Found existing installation: typer 0.7.0\n",
            "    Uninstalling typer-0.7.0:\n",
            "      Successfully uninstalled typer-0.7.0\n",
            "  Attempting uninstall: pydantic\n",
            "    Found existing installation: pydantic 1.10.7\n",
            "    Uninstalling pydantic-1.10.7:\n",
            "      Successfully uninstalled pydantic-1.10.7\n",
            "  Attempting uninstall: thinc\n",
            "    Found existing installation: thinc 8.1.9\n",
            "    Uninstalling thinc-8.1.9:\n",
            "      Successfully uninstalled thinc-8.1.9\n",
            "  Attempting uninstall: spacy\n",
            "    Found existing installation: spacy 3.5.2\n",
            "    Uninstalling spacy-3.5.2:\n",
            "      Successfully uninstalled spacy-3.5.2\n",
            "\u001b[31mERROR: Operation cancelled by user\u001b[0m\u001b[31m\n",
            "\u001b[0m"
          ]
        }
      ]
    },
    {
      "cell_type": "code",
      "source": [
        "import nltk\n",
        "import spacy"
      ],
      "metadata": {
        "id": "XU5ZJhyKaPx0",
        "colab": {
          "base_uri": "https://localhost:8080/",
          "height": 336
        },
        "outputId": "fa491443-3e2f-43ed-be2a-14a36239afad"
      },
      "execution_count": 24,
      "outputs": [
        {
          "output_type": "error",
          "ename": "KeyboardInterrupt",
          "evalue": "ignored",
          "traceback": [
            "\u001b[0;31m---------------------------------------------------------------------------\u001b[0m",
            "\u001b[0;31mKeyboardInterrupt\u001b[0m                         Traceback (most recent call last)",
            "\u001b[0;32m<ipython-input-24-11c6e397e9c1>\u001b[0m in \u001b[0;36m<cell line: 2>\u001b[0;34m()\u001b[0m\n\u001b[1;32m      1\u001b[0m \u001b[0;32mimport\u001b[0m \u001b[0mnltk\u001b[0m\u001b[0;34m\u001b[0m\u001b[0;34m\u001b[0m\u001b[0m\n\u001b[0;32m----> 2\u001b[0;31m \u001b[0;32mimport\u001b[0m \u001b[0mspacy\u001b[0m\u001b[0;34m\u001b[0m\u001b[0;34m\u001b[0m\u001b[0m\n\u001b[0m",
            "\u001b[0;32m/usr/local/lib/python3.10/dist-packages/spacy/__init__.py\u001b[0m in \u001b[0;36m<module>\u001b[0;34m\u001b[0m\n\u001b[1;32m      9\u001b[0m \u001b[0;34m\u001b[0m\u001b[0m\n\u001b[1;32m     10\u001b[0m \u001b[0;31m# These are imported as part of the API\u001b[0m\u001b[0;34m\u001b[0m\u001b[0;34m\u001b[0m\u001b[0m\n\u001b[0;32m---> 11\u001b[0;31m \u001b[0;32mfrom\u001b[0m \u001b[0mthinc\u001b[0m\u001b[0;34m.\u001b[0m\u001b[0mapi\u001b[0m \u001b[0;32mimport\u001b[0m \u001b[0mprefer_gpu\u001b[0m\u001b[0;34m,\u001b[0m \u001b[0mrequire_gpu\u001b[0m\u001b[0;34m,\u001b[0m \u001b[0mrequire_cpu\u001b[0m  \u001b[0;31m# noqa: F401\u001b[0m\u001b[0;34m\u001b[0m\u001b[0;34m\u001b[0m\u001b[0m\n\u001b[0m\u001b[1;32m     12\u001b[0m \u001b[0;32mfrom\u001b[0m \u001b[0mthinc\u001b[0m\u001b[0;34m.\u001b[0m\u001b[0mapi\u001b[0m \u001b[0;32mimport\u001b[0m \u001b[0mConfig\u001b[0m\u001b[0;34m\u001b[0m\u001b[0;34m\u001b[0m\u001b[0m\n\u001b[1;32m     13\u001b[0m \u001b[0;34m\u001b[0m\u001b[0m\n",
            "\u001b[0;32m/usr/local/lib/python3.10/dist-packages/thinc/api.py\u001b[0m in \u001b[0;36m<module>\u001b[0;34m\u001b[0m\n\u001b[1;32m      1\u001b[0m \u001b[0;32mfrom\u001b[0m \u001b[0;34m.\u001b[0m\u001b[0mconfig\u001b[0m \u001b[0;32mimport\u001b[0m \u001b[0mConfig\u001b[0m\u001b[0;34m,\u001b[0m \u001b[0mregistry\u001b[0m\u001b[0;34m,\u001b[0m \u001b[0mConfigValidationError\u001b[0m\u001b[0;34m\u001b[0m\u001b[0;34m\u001b[0m\u001b[0m\n\u001b[0;32m----> 2\u001b[0;31m \u001b[0;32mfrom\u001b[0m \u001b[0;34m.\u001b[0m\u001b[0minitializers\u001b[0m \u001b[0;32mimport\u001b[0m \u001b[0mnormal_init\u001b[0m\u001b[0;34m,\u001b[0m \u001b[0muniform_init\u001b[0m\u001b[0;34m,\u001b[0m \u001b[0mglorot_uniform_init\u001b[0m\u001b[0;34m,\u001b[0m \u001b[0mzero_init\u001b[0m\u001b[0;34m\u001b[0m\u001b[0;34m\u001b[0m\u001b[0m\n\u001b[0m\u001b[1;32m      3\u001b[0m \u001b[0;32mfrom\u001b[0m \u001b[0;34m.\u001b[0m\u001b[0minitializers\u001b[0m \u001b[0;32mimport\u001b[0m \u001b[0mconfigure_normal_init\u001b[0m\u001b[0;34m\u001b[0m\u001b[0;34m\u001b[0m\u001b[0m\n\u001b[1;32m      4\u001b[0m \u001b[0;32mfrom\u001b[0m \u001b[0;34m.\u001b[0m\u001b[0mloss\u001b[0m \u001b[0;32mimport\u001b[0m \u001b[0mCategoricalCrossentropy\u001b[0m\u001b[0;34m,\u001b[0m \u001b[0mL2Distance\u001b[0m\u001b[0;34m,\u001b[0m \u001b[0mCosineDistance\u001b[0m\u001b[0;34m\u001b[0m\u001b[0;34m\u001b[0m\u001b[0m\n\u001b[1;32m      5\u001b[0m \u001b[0;32mfrom\u001b[0m \u001b[0;34m.\u001b[0m\u001b[0mloss\u001b[0m \u001b[0;32mimport\u001b[0m \u001b[0mSequenceCategoricalCrossentropy\u001b[0m\u001b[0;34m\u001b[0m\u001b[0;34m\u001b[0m\u001b[0m\n",
            "\u001b[0;32m/usr/local/lib/python3.10/dist-packages/thinc/initializers.py\u001b[0m in \u001b[0;36m<module>\u001b[0;34m\u001b[0m\n\u001b[1;32m      2\u001b[0m \u001b[0;32mimport\u001b[0m \u001b[0mnumpy\u001b[0m\u001b[0;34m\u001b[0m\u001b[0;34m\u001b[0m\u001b[0m\n\u001b[1;32m      3\u001b[0m \u001b[0;34m\u001b[0m\u001b[0m\n\u001b[0;32m----> 4\u001b[0;31m \u001b[0;32mfrom\u001b[0m \u001b[0;34m.\u001b[0m\u001b[0mbackends\u001b[0m \u001b[0;32mimport\u001b[0m \u001b[0mOps\u001b[0m\u001b[0;34m\u001b[0m\u001b[0;34m\u001b[0m\u001b[0m\n\u001b[0m\u001b[1;32m      5\u001b[0m \u001b[0;32mfrom\u001b[0m \u001b[0;34m.\u001b[0m\u001b[0mconfig\u001b[0m \u001b[0;32mimport\u001b[0m \u001b[0mregistry\u001b[0m\u001b[0;34m\u001b[0m\u001b[0;34m\u001b[0m\u001b[0m\n\u001b[1;32m      6\u001b[0m \u001b[0;32mfrom\u001b[0m \u001b[0;34m.\u001b[0m\u001b[0mtypes\u001b[0m \u001b[0;32mimport\u001b[0m \u001b[0mFloatsXd\u001b[0m\u001b[0;34m,\u001b[0m \u001b[0mShape\u001b[0m\u001b[0;34m\u001b[0m\u001b[0;34m\u001b[0m\u001b[0m\n",
            "\u001b[0;32m/usr/local/lib/python3.10/dist-packages/thinc/backends/__init__.py\u001b[0m in \u001b[0;36m<module>\u001b[0;34m\u001b[0m\n\u001b[1;32m      5\u001b[0m \u001b[0;32mimport\u001b[0m \u001b[0mthreading\u001b[0m\u001b[0;34m\u001b[0m\u001b[0;34m\u001b[0m\u001b[0m\n\u001b[1;32m      6\u001b[0m \u001b[0;34m\u001b[0m\u001b[0m\n\u001b[0;32m----> 7\u001b[0;31m \u001b[0;32mfrom\u001b[0m \u001b[0;34m.\u001b[0m\u001b[0mops\u001b[0m \u001b[0;32mimport\u001b[0m \u001b[0mOps\u001b[0m\u001b[0;34m\u001b[0m\u001b[0;34m\u001b[0m\u001b[0m\n\u001b[0m\u001b[1;32m      8\u001b[0m \u001b[0;32mfrom\u001b[0m \u001b[0;34m.\u001b[0m\u001b[0mcupy_ops\u001b[0m \u001b[0;32mimport\u001b[0m \u001b[0mCupyOps\u001b[0m\u001b[0;34m,\u001b[0m \u001b[0mhas_cupy\u001b[0m\u001b[0;34m\u001b[0m\u001b[0;34m\u001b[0m\u001b[0m\n\u001b[1;32m      9\u001b[0m \u001b[0;32mfrom\u001b[0m \u001b[0;34m.\u001b[0m\u001b[0mnumpy_ops\u001b[0m \u001b[0;32mimport\u001b[0m \u001b[0mNumpyOps\u001b[0m\u001b[0;34m\u001b[0m\u001b[0;34m\u001b[0m\u001b[0m\n",
            "\u001b[0;32m/usr/local/lib/python3.10/dist-packages/thinc/backends/ops.py\u001b[0m in \u001b[0;36m<module>\u001b[0;34m\u001b[0m\n\u001b[1;32m     11\u001b[0m \u001b[0;32mfrom\u001b[0m \u001b[0;34m.\u001b[0m\u001b[0;34m.\u001b[0m\u001b[0mtypes\u001b[0m \u001b[0;32mimport\u001b[0m \u001b[0mFloatsXd\u001b[0m\u001b[0;34m,\u001b[0m \u001b[0mInts1d\u001b[0m\u001b[0;34m,\u001b[0m \u001b[0mInts2d\u001b[0m\u001b[0;34m,\u001b[0m \u001b[0mInts3d\u001b[0m\u001b[0;34m,\u001b[0m \u001b[0mInts4d\u001b[0m\u001b[0;34m,\u001b[0m \u001b[0mIntsXd\u001b[0m\u001b[0;34m,\u001b[0m \u001b[0m_Floats\u001b[0m\u001b[0;34m\u001b[0m\u001b[0;34m\u001b[0m\u001b[0m\n\u001b[1;32m     12\u001b[0m \u001b[0;32mfrom\u001b[0m \u001b[0;34m.\u001b[0m\u001b[0;34m.\u001b[0m\u001b[0mtypes\u001b[0m \u001b[0;32mimport\u001b[0m \u001b[0mDeviceTypes\u001b[0m\u001b[0;34m,\u001b[0m \u001b[0mGenerator\u001b[0m\u001b[0;34m,\u001b[0m \u001b[0mPadded\u001b[0m\u001b[0;34m,\u001b[0m \u001b[0mBatchable\u001b[0m\u001b[0;34m,\u001b[0m \u001b[0mSizedGenerator\u001b[0m\u001b[0;34m\u001b[0m\u001b[0;34m\u001b[0m\u001b[0m\n\u001b[0;32m---> 13\u001b[0;31m \u001b[0;32mfrom\u001b[0m \u001b[0;34m.\u001b[0m\u001b[0;34m.\u001b[0m\u001b[0mutil\u001b[0m \u001b[0;32mimport\u001b[0m \u001b[0mget_array_module\u001b[0m\u001b[0;34m,\u001b[0m \u001b[0mis_xp_array\u001b[0m\u001b[0;34m,\u001b[0m \u001b[0mto_numpy\u001b[0m\u001b[0;34m\u001b[0m\u001b[0;34m\u001b[0m\u001b[0m\n\u001b[0m\u001b[1;32m     14\u001b[0m \u001b[0;34m\u001b[0m\u001b[0m\n\u001b[1;32m     15\u001b[0m \u001b[0;34m\u001b[0m\u001b[0m\n",
            "\u001b[0;32m/usr/local/lib/python3.10/dist-packages/thinc/util.py\u001b[0m in \u001b[0;36m<module>\u001b[0;34m\u001b[0m\n\u001b[1;32m     27\u001b[0m \u001b[0;34m\u001b[0m\u001b[0m\n\u001b[1;32m     28\u001b[0m \u001b[0;32mtry\u001b[0m\u001b[0;34m:\u001b[0m  \u001b[0;31m# pragma: no cover\u001b[0m\u001b[0;34m\u001b[0m\u001b[0;34m\u001b[0m\u001b[0m\n\u001b[0;32m---> 29\u001b[0;31m     \u001b[0;32mimport\u001b[0m \u001b[0mtorch\u001b[0m\u001b[0;34m\u001b[0m\u001b[0;34m\u001b[0m\u001b[0m\n\u001b[0m\u001b[1;32m     30\u001b[0m     \u001b[0;32mfrom\u001b[0m \u001b[0mtorch\u001b[0m \u001b[0;32mimport\u001b[0m \u001b[0mtensor\u001b[0m\u001b[0;34m\u001b[0m\u001b[0;34m\u001b[0m\u001b[0m\n\u001b[1;32m     31\u001b[0m     \u001b[0;32mimport\u001b[0m \u001b[0mtorch\u001b[0m\u001b[0;34m.\u001b[0m\u001b[0mutils\u001b[0m\u001b[0;34m.\u001b[0m\u001b[0mdlpack\u001b[0m\u001b[0;34m\u001b[0m\u001b[0;34m\u001b[0m\u001b[0m\n",
            "\u001b[0;32m/usr/local/lib/python3.10/dist-packages/torch/__init__.py\u001b[0m in \u001b[0;36m<module>\u001b[0;34m\u001b[0m\n\u001b[1;32m    227\u001b[0m     \u001b[0;32mif\u001b[0m \u001b[0mUSE_GLOBAL_DEPS\u001b[0m\u001b[0;34m:\u001b[0m\u001b[0;34m\u001b[0m\u001b[0;34m\u001b[0m\u001b[0m\n\u001b[1;32m    228\u001b[0m         \u001b[0m_load_global_deps\u001b[0m\u001b[0;34m(\u001b[0m\u001b[0;34m)\u001b[0m\u001b[0;34m\u001b[0m\u001b[0;34m\u001b[0m\u001b[0m\n\u001b[0;32m--> 229\u001b[0;31m     \u001b[0;32mfrom\u001b[0m \u001b[0mtorch\u001b[0m\u001b[0;34m.\u001b[0m\u001b[0m_C\u001b[0m \u001b[0;32mimport\u001b[0m \u001b[0;34m*\u001b[0m  \u001b[0;31m# noqa: F403\u001b[0m\u001b[0;34m\u001b[0m\u001b[0;34m\u001b[0m\u001b[0m\n\u001b[0m\u001b[1;32m    230\u001b[0m \u001b[0;34m\u001b[0m\u001b[0m\n\u001b[1;32m    231\u001b[0m \u001b[0;31m# Appease the type checker; ordinarily this binding is inserted by the\u001b[0m\u001b[0;34m\u001b[0m\u001b[0;34m\u001b[0m\u001b[0m\n",
            "\u001b[0;31mKeyboardInterrupt\u001b[0m: "
          ]
        }
      ]
    },
    {
      "cell_type": "code",
      "source": [
        "nltk.download('punkt')"
      ],
      "metadata": {
        "id": "Z93zIxZcan28"
      },
      "execution_count": null,
      "outputs": []
    },
    {
      "cell_type": "code",
      "source": [
        "from nltk.corpus.reader.tagged import word_tokenize\n",
        "words = word_tokenize(text)\n",
        "words"
      ],
      "metadata": {
        "id": "OCwmXr3Ya3nI"
      },
      "execution_count": null,
      "outputs": []
    },
    {
      "cell_type": "code",
      "source": [
        "for w in words:\n",
        "  print(morph.parse(w)[0])"
      ],
      "metadata": {
        "id": "mUyeJ-FPbbwJ"
      },
      "execution_count": null,
      "outputs": []
    },
    {
      "cell_type": "code",
      "execution_count": null,
      "metadata": {
        "id": "THBNsKdwW3v5"
      },
      "outputs": [],
      "source": [
        "!python -m spacy download ru_core_news_sm"
      ]
    },
    {
      "cell_type": "code",
      "source": [
        "nlp = spacy.load('ru_core_news_sm')\n",
        "doc = nlp(text)\n",
        "tokens = []\n",
        "for token in doc:\n",
        "  tokens.append(str(token))\n",
        "#tokens\n",
        "for token in tokens:\n",
        "  print(morph.parse(token)[0])"
      ],
      "metadata": {
        "id": "AAkMVGQDcqzd"
      },
      "execution_count": null,
      "outputs": []
    }
  ],
  "metadata": {
    "colab": {
      "provenance": []
    },
    "kernelspec": {
      "display_name": "Python 3",
      "name": "python3"
    },
    "language_info": {
      "name": "python"
    }
  },
  "nbformat": 4,
  "nbformat_minor": 0
}